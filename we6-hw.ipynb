{
 "cells": [
  {
   "cell_type": "markdown",
   "id": "ef3d877c",
   "metadata": {
    "papermill": {
     "duration": 0.046018,
     "end_time": "2022-04-08T17:49:23.933227",
     "exception": false,
     "start_time": "2022-04-08T17:49:23.887209",
     "status": "completed"
    },
    "tags": []
   },
   "source": [
    "### Домашнее задание к вебинару 6"
   ]
  },
  {
   "cell_type": "markdown",
   "id": "24dfce9b",
   "metadata": {
    "papermill": {
     "duration": 0.043998,
     "end_time": "2022-04-08T17:49:24.023265",
     "exception": false,
     "start_time": "2022-04-08T17:49:23.979267",
     "status": "completed"
    },
    "tags": []
   },
   "source": [
    "Попробуйте обучить нейронную сеть с применением одномерных сверток для предсказания сентимента сообщений с твитера на примере https://www.kaggle.com/datasets/arkhoshghalb/twitter-sentiment-analysis-hatred-speech\n",
    "\n",
    "Опишите, какой результат вы получили? Что помогло вам улучшить ее точность?"
   ]
  },
  {
   "cell_type": "code",
   "execution_count": 1,
   "id": "4266dafd",
   "metadata": {
    "execution": {
     "iopub.execute_input": "2022-04-08T17:49:24.119956Z",
     "iopub.status.busy": "2022-04-08T17:49:24.118711Z",
     "iopub.status.idle": "2022-04-08T17:49:27.319484Z",
     "shell.execute_reply": "2022-04-08T17:49:27.318763Z",
     "shell.execute_reply.started": "2022-04-08T17:44:11.026902Z"
    },
    "papermill": {
     "duration": 3.250962,
     "end_time": "2022-04-08T17:49:27.319691",
     "exception": false,
     "start_time": "2022-04-08T17:49:24.068729",
     "status": "completed"
    },
    "tags": []
   },
   "outputs": [
    {
     "name": "stdout",
     "output_type": "stream",
     "text": [
      "[nltk_data] Downloading package punkt to /usr/share/nltk_data...\n",
      "[nltk_data]   Package punkt is already up-to-date!\n",
      "[nltk_data] Downloading package stopwords to /usr/share/nltk_data...\n",
      "[nltk_data]   Package stopwords is already up-to-date!\n"
     ]
    }
   ],
   "source": [
    "import numpy as np\n",
    "import pandas as pd\n",
    "import matplotlib.pyplot as plt\n",
    "\n",
    "\n",
    "from sklearn.model_selection import train_test_split\n",
    "\n",
    "# для обработки текста\n",
    "from string import punctuation\n",
    "from stop_words import get_stop_words\n",
    "\n",
    "import nltk\n",
    "nltk.download(\"punkt\")\n",
    "nltk.download('stopwords')\n",
    "from nltk.stem import WordNetLemmatizer \n",
    "from nltk.corpus import stopwords\n",
    "from nltk.tokenize import word_tokenize\n",
    "from nltk.probability import FreqDist\n",
    "\n",
    "# для сети\n",
    "import torch\n",
    "import torch.nn as nn\n",
    "import torch.nn.functional as F\n",
    "from torch.utils.data import DataLoader, Dataset"
   ]
  },
  {
   "cell_type": "code",
   "execution_count": 2,
   "id": "6fd4dac1",
   "metadata": {
    "execution": {
     "iopub.execute_input": "2022-04-08T17:49:27.417599Z",
     "iopub.status.busy": "2022-04-08T17:49:27.416859Z",
     "iopub.status.idle": "2022-04-08T17:49:27.618084Z",
     "shell.execute_reply": "2022-04-08T17:49:27.617298Z",
     "shell.execute_reply.started": "2022-04-08T17:44:11.096646Z"
    },
    "papermill": {
     "duration": 0.252448,
     "end_time": "2022-04-08T17:49:27.618269",
     "exception": false,
     "start_time": "2022-04-08T17:49:27.365821",
     "status": "completed"
    },
    "tags": []
   },
   "outputs": [],
   "source": [
    "train_path = '../input/twitter-sentiment-analysis-hatred-speech/train.csv'\n",
    "test_path = '../input/twitter-sentiment-analysis-hatred-speech/test.csv'\n",
    "\n",
    "data_train = pd.read_csv(train_path)\n",
    "data_test = pd.read_csv(test_path)"
   ]
  },
  {
   "cell_type": "code",
   "execution_count": 3,
   "id": "32685b29",
   "metadata": {
    "execution": {
     "iopub.execute_input": "2022-04-08T17:49:27.723864Z",
     "iopub.status.busy": "2022-04-08T17:49:27.722773Z",
     "iopub.status.idle": "2022-04-08T17:49:27.736636Z",
     "shell.execute_reply": "2022-04-08T17:49:27.737159Z",
     "shell.execute_reply.started": "2022-04-08T17:44:11.262099Z"
    },
    "papermill": {
     "duration": 0.071346,
     "end_time": "2022-04-08T17:49:27.737332",
     "exception": false,
     "start_time": "2022-04-08T17:49:27.665986",
     "status": "completed"
    },
    "tags": []
   },
   "outputs": [
    {
     "data": {
      "text/html": [
       "<div>\n",
       "<style scoped>\n",
       "    .dataframe tbody tr th:only-of-type {\n",
       "        vertical-align: middle;\n",
       "    }\n",
       "\n",
       "    .dataframe tbody tr th {\n",
       "        vertical-align: top;\n",
       "    }\n",
       "\n",
       "    .dataframe thead th {\n",
       "        text-align: right;\n",
       "    }\n",
       "</style>\n",
       "<table border=\"1\" class=\"dataframe\">\n",
       "  <thead>\n",
       "    <tr style=\"text-align: right;\">\n",
       "      <th></th>\n",
       "      <th>id</th>\n",
       "      <th>label</th>\n",
       "      <th>tweet</th>\n",
       "    </tr>\n",
       "  </thead>\n",
       "  <tbody>\n",
       "    <tr>\n",
       "      <th>0</th>\n",
       "      <td>1</td>\n",
       "      <td>0</td>\n",
       "      <td>@user when a father is dysfunctional and is s...</td>\n",
       "    </tr>\n",
       "    <tr>\n",
       "      <th>1</th>\n",
       "      <td>2</td>\n",
       "      <td>0</td>\n",
       "      <td>@user @user thanks for #lyft credit i can't us...</td>\n",
       "    </tr>\n",
       "    <tr>\n",
       "      <th>2</th>\n",
       "      <td>3</td>\n",
       "      <td>0</td>\n",
       "      <td>bihday your majesty</td>\n",
       "    </tr>\n",
       "  </tbody>\n",
       "</table>\n",
       "</div>"
      ],
      "text/plain": [
       "   id  label                                              tweet\n",
       "0   1      0   @user when a father is dysfunctional and is s...\n",
       "1   2      0  @user @user thanks for #lyft credit i can't us...\n",
       "2   3      0                                bihday your majesty"
      ]
     },
     "execution_count": 3,
     "metadata": {},
     "output_type": "execute_result"
    }
   ],
   "source": [
    "data_train.head(3)"
   ]
  },
  {
   "cell_type": "code",
   "execution_count": 4,
   "id": "20d39d93",
   "metadata": {
    "execution": {
     "iopub.execute_input": "2022-04-08T17:49:27.839779Z",
     "iopub.status.busy": "2022-04-08T17:49:27.838891Z",
     "iopub.status.idle": "2022-04-08T17:49:27.842368Z",
     "shell.execute_reply": "2022-04-08T17:49:27.842874Z",
     "shell.execute_reply.started": "2022-04-08T17:44:11.406992Z"
    },
    "papermill": {
     "duration": 0.058777,
     "end_time": "2022-04-08T17:49:27.843048",
     "exception": false,
     "start_time": "2022-04-08T17:49:27.784271",
     "status": "completed"
    },
    "tags": []
   },
   "outputs": [
    {
     "data": {
      "text/html": [
       "<div>\n",
       "<style scoped>\n",
       "    .dataframe tbody tr th:only-of-type {\n",
       "        vertical-align: middle;\n",
       "    }\n",
       "\n",
       "    .dataframe tbody tr th {\n",
       "        vertical-align: top;\n",
       "    }\n",
       "\n",
       "    .dataframe thead th {\n",
       "        text-align: right;\n",
       "    }\n",
       "</style>\n",
       "<table border=\"1\" class=\"dataframe\">\n",
       "  <thead>\n",
       "    <tr style=\"text-align: right;\">\n",
       "      <th></th>\n",
       "      <th>id</th>\n",
       "      <th>tweet</th>\n",
       "    </tr>\n",
       "  </thead>\n",
       "  <tbody>\n",
       "    <tr>\n",
       "      <th>0</th>\n",
       "      <td>31963</td>\n",
       "      <td>#studiolife #aislife #requires #passion #dedic...</td>\n",
       "    </tr>\n",
       "    <tr>\n",
       "      <th>1</th>\n",
       "      <td>31964</td>\n",
       "      <td>@user #white #supremacists want everyone to s...</td>\n",
       "    </tr>\n",
       "    <tr>\n",
       "      <th>2</th>\n",
       "      <td>31965</td>\n",
       "      <td>safe ways to heal your #acne!!    #altwaystohe...</td>\n",
       "    </tr>\n",
       "  </tbody>\n",
       "</table>\n",
       "</div>"
      ],
      "text/plain": [
       "      id                                              tweet\n",
       "0  31963  #studiolife #aislife #requires #passion #dedic...\n",
       "1  31964   @user #white #supremacists want everyone to s...\n",
       "2  31965  safe ways to heal your #acne!!    #altwaystohe..."
      ]
     },
     "execution_count": 4,
     "metadata": {},
     "output_type": "execute_result"
    }
   ],
   "source": [
    "data_test.head(3)"
   ]
  },
  {
   "cell_type": "code",
   "execution_count": 5,
   "id": "1fa2a4f3",
   "metadata": {
    "execution": {
     "iopub.execute_input": "2022-04-08T17:49:27.940644Z",
     "iopub.status.busy": "2022-04-08T17:49:27.939603Z",
     "iopub.status.idle": "2022-04-08T17:49:27.953910Z",
     "shell.execute_reply": "2022-04-08T17:49:27.954511Z",
     "shell.execute_reply.started": "2022-04-08T17:44:11.485720Z"
    },
    "papermill": {
     "duration": 0.064925,
     "end_time": "2022-04-08T17:49:27.954708",
     "exception": false,
     "start_time": "2022-04-08T17:49:27.889783",
     "status": "completed"
    },
    "tags": []
   },
   "outputs": [
    {
     "data": {
      "text/plain": [
       "0    29720\n",
       "1     2242\n",
       "Name: label, dtype: int64"
      ]
     },
     "execution_count": 5,
     "metadata": {},
     "output_type": "execute_result"
    }
   ],
   "source": [
    "data_train.label.value_counts()"
   ]
  },
  {
   "cell_type": "markdown",
   "id": "2ce533ba",
   "metadata": {
    "papermill": {
     "duration": 0.047826,
     "end_time": "2022-04-08T17:49:28.050999",
     "exception": false,
     "start_time": "2022-04-08T17:49:28.003173",
     "status": "completed"
    },
    "tags": []
   },
   "source": [
    "Есть выраженный дисбаланс"
   ]
  },
  {
   "cell_type": "code",
   "execution_count": 6,
   "id": "a9c33367",
   "metadata": {
    "execution": {
     "iopub.execute_input": "2022-04-08T17:49:28.150636Z",
     "iopub.status.busy": "2022-04-08T17:49:28.149582Z",
     "iopub.status.idle": "2022-04-08T17:49:28.159827Z",
     "shell.execute_reply": "2022-04-08T17:49:28.160400Z",
     "shell.execute_reply.started": "2022-04-08T17:44:11.558244Z"
    },
    "papermill": {
     "duration": 0.062426,
     "end_time": "2022-04-08T17:49:28.160591",
     "exception": false,
     "start_time": "2022-04-08T17:49:28.098165",
     "status": "completed"
    },
    "tags": []
   },
   "outputs": [
    {
     "data": {
      "text/plain": [
       "31912    i couldn't end #2016 without mentioning #trump...\n",
       "31926    a follow up from the gentlemen who were kicked...\n",
       "31929    did  keep #colinpowell and #condoleezzarice fr...\n",
       "31930    @user #feminismiscancer #feminismisterrorism #...\n",
       "31933    @user judd is a  &amp; #homophobic #freemilo #...\n",
       "31934    lady banned from kentucky mall. @user  #jcpenn...\n",
       "31946    @user omfg i'm offended! i'm a  mailbox and i'...\n",
       "31947    @user @user you don't have the balls to hashta...\n",
       "31948     makes you ask yourself, who am i? then am i a...\n",
       "31960    @user #sikh #temple vandalised in in #calgary,...\n",
       "Name: tweet, dtype: object"
      ]
     },
     "execution_count": 6,
     "metadata": {},
     "output_type": "execute_result"
    }
   ],
   "source": [
    "data_train.loc[data_train.label == 1, 'tweet'].tail(10)"
   ]
  },
  {
   "cell_type": "code",
   "execution_count": 7,
   "id": "2614b50b",
   "metadata": {
    "execution": {
     "iopub.execute_input": "2022-04-08T17:49:28.258329Z",
     "iopub.status.busy": "2022-04-08T17:49:28.257287Z",
     "iopub.status.idle": "2022-04-08T17:49:28.267251Z",
     "shell.execute_reply": "2022-04-08T17:49:28.267881Z",
     "shell.execute_reply.started": "2022-04-08T17:44:11.631700Z"
    },
    "papermill": {
     "duration": 0.060759,
     "end_time": "2022-04-08T17:49:28.268069",
     "exception": false,
     "start_time": "2022-04-08T17:49:28.207310",
     "status": "completed"
    },
    "tags": []
   },
   "outputs": [
    {
     "data": {
      "text/plain": [
       "0     @user when a father is dysfunctional and is s...\n",
       "1    @user @user thanks for #lyft credit i can't us...\n",
       "2                                  bihday your majesty\n",
       "3    #model   i love u take with u all the time in ...\n",
       "4               factsguide: society now    #motivation\n",
       "Name: tweet, dtype: object"
      ]
     },
     "execution_count": 7,
     "metadata": {},
     "output_type": "execute_result"
    }
   ],
   "source": [
    "data_train.loc[data_train.label == 0, 'tweet'].head(5)"
   ]
  },
  {
   "cell_type": "markdown",
   "id": "dc5dfdee",
   "metadata": {
    "papermill": {
     "duration": 0.049904,
     "end_time": "2022-04-08T17:49:28.366809",
     "exception": false,
     "start_time": "2022-04-08T17:49:28.316905",
     "status": "completed"
    },
    "tags": []
   },
   "source": [
    "Класс 0 - твит является положительным, класс 1 - твит негативный, расистский. Твиты на английском языке, что важно учесть в будущей обработке."
   ]
  },
  {
   "cell_type": "code",
   "execution_count": 8,
   "id": "2ffef5ef",
   "metadata": {
    "execution": {
     "iopub.execute_input": "2022-04-08T17:49:28.465076Z",
     "iopub.status.busy": "2022-04-08T17:49:28.464351Z",
     "iopub.status.idle": "2022-04-08T17:49:28.480157Z",
     "shell.execute_reply": "2022-04-08T17:49:28.480836Z",
     "shell.execute_reply.started": "2022-04-08T17:44:11.709033Z"
    },
    "papermill": {
     "duration": 0.066909,
     "end_time": "2022-04-08T17:49:28.481032",
     "exception": false,
     "start_time": "2022-04-08T17:49:28.414123",
     "status": "completed"
    },
    "tags": []
   },
   "outputs": [
    {
     "data": {
      "text/plain": [
       "(0    20780\n",
       " 1     1593\n",
       " Name: label, dtype: int64,\n",
       " 0    8940\n",
       " 1     649\n",
       " Name: label, dtype: int64)"
      ]
     },
     "execution_count": 8,
     "metadata": {},
     "output_type": "execute_result"
    }
   ],
   "source": [
    "# Разделим тренировочные данные на тренировочную и валидационную выборки\n",
    "\n",
    "data_train, data_val = train_test_split(data_train, test_size = 0.3, random_state = 1)\n",
    "\n",
    "data_train.label.value_counts(), data_val.label.value_counts()"
   ]
  },
  {
   "cell_type": "code",
   "execution_count": 9,
   "id": "0f830fd5",
   "metadata": {
    "execution": {
     "iopub.execute_input": "2022-04-08T17:49:28.583302Z",
     "iopub.status.busy": "2022-04-08T17:49:28.582615Z",
     "iopub.status.idle": "2022-04-08T17:49:28.588881Z",
     "shell.execute_reply": "2022-04-08T17:49:28.589390Z",
     "shell.execute_reply.started": "2022-04-08T17:44:11.750746Z"
    },
    "papermill": {
     "duration": 0.058557,
     "end_time": "2022-04-08T17:49:28.589633",
     "exception": false,
     "start_time": "2022-04-08T17:49:28.531076",
     "status": "completed"
    },
    "tags": []
   },
   "outputs": [],
   "source": [
    "# Попробуем избавиться от дисбаланса классов на тренировочной выборке, дисбаланс слишком выражен\n",
    "def oversampling_by_target(df, target_name):\n",
    "    \n",
    "    target_counts = df[target_name].value_counts()\n",
    "\n",
    "    major_class_name = target_counts.argmax()\n",
    "    minor_class_name = target_counts.argmin()\n",
    "\n",
    "    disbalance_coeff = int(target_counts[major_class_name] / target_counts[minor_class_name]) - 1\n",
    "\n",
    "    for i in range(disbalance_coeff):\n",
    "        sample = df[df[target_name] == minor_class_name].sample(target_counts[minor_class_name])\n",
    "        df = df.append(sample, ignore_index=True)\n",
    "\n",
    "    return df.sample(frac=1) "
   ]
  },
  {
   "cell_type": "code",
   "execution_count": 10,
   "id": "f37cedb5",
   "metadata": {
    "execution": {
     "iopub.execute_input": "2022-04-08T17:49:28.692840Z",
     "iopub.status.busy": "2022-04-08T17:49:28.692129Z",
     "iopub.status.idle": "2022-04-08T17:49:28.735369Z",
     "shell.execute_reply": "2022-04-08T17:49:28.735883Z",
     "shell.execute_reply.started": "2022-04-08T17:44:11.770990Z"
    },
    "papermill": {
     "duration": 0.097142,
     "end_time": "2022-04-08T17:49:28.736069",
     "exception": false,
     "start_time": "2022-04-08T17:49:28.638927",
     "status": "completed"
    },
    "tags": []
   },
   "outputs": [],
   "source": [
    "data_train = oversampling_by_target(data_train, 'label')"
   ]
  },
  {
   "cell_type": "code",
   "execution_count": 11,
   "id": "f0b6e33c",
   "metadata": {
    "execution": {
     "iopub.execute_input": "2022-04-08T17:49:28.839101Z",
     "iopub.status.busy": "2022-04-08T17:49:28.838337Z",
     "iopub.status.idle": "2022-04-08T17:49:28.844111Z",
     "shell.execute_reply": "2022-04-08T17:49:28.844665Z",
     "shell.execute_reply.started": "2022-04-08T17:44:11.816538Z"
    },
    "papermill": {
     "duration": 0.060972,
     "end_time": "2022-04-08T17:49:28.844851",
     "exception": false,
     "start_time": "2022-04-08T17:49:28.783879",
     "status": "completed"
    },
    "tags": []
   },
   "outputs": [
    {
     "data": {
      "text/plain": [
       "0    20780\n",
       "1    20709\n",
       "Name: label, dtype: int64"
      ]
     },
     "execution_count": 11,
     "metadata": {},
     "output_type": "execute_result"
    }
   ],
   "source": [
    "data_train.label.value_counts()"
   ]
  },
  {
   "cell_type": "markdown",
   "id": "93ff2635",
   "metadata": {
    "papermill": {
     "duration": 0.04812,
     "end_time": "2022-04-08T17:49:28.941421",
     "exception": false,
     "start_time": "2022-04-08T17:49:28.893301",
     "status": "completed"
    },
    "tags": []
   },
   "source": [
    "**Предобработка твитов**"
   ]
  },
  {
   "cell_type": "code",
   "execution_count": 12,
   "id": "f549845c",
   "metadata": {
    "execution": {
     "iopub.execute_input": "2022-04-08T17:49:29.044158Z",
     "iopub.status.busy": "2022-04-08T17:49:29.043370Z",
     "iopub.status.idle": "2022-04-08T17:49:29.048213Z",
     "shell.execute_reply": "2022-04-08T17:49:29.047684Z",
     "shell.execute_reply.started": "2022-04-08T17:44:11.877499Z"
    },
    "papermill": {
     "duration": 0.057903,
     "end_time": "2022-04-08T17:49:29.048364",
     "exception": false,
     "start_time": "2022-04-08T17:49:28.990461",
     "status": "completed"
    },
    "tags": []
   },
   "outputs": [],
   "source": [
    "max_words = 2000\n",
    "max_len = 40\n",
    "num_classes = 1\n",
    "\n",
    "# обучение\n",
    "epochs = 10\n",
    "batch_size = 512\n",
    "print_batch_n = 100"
   ]
  },
  {
   "cell_type": "code",
   "execution_count": 13,
   "id": "acaba511",
   "metadata": {
    "execution": {
     "iopub.execute_input": "2022-04-08T17:49:29.151679Z",
     "iopub.status.busy": "2022-04-08T17:49:29.150598Z",
     "iopub.status.idle": "2022-04-08T17:49:29.157246Z",
     "shell.execute_reply": "2022-04-08T17:49:29.157852Z",
     "shell.execute_reply.started": "2022-04-08T17:44:11.982416Z"
    },
    "papermill": {
     "duration": 0.060065,
     "end_time": "2022-04-08T17:49:29.158042",
     "exception": false,
     "start_time": "2022-04-08T17:49:29.097977",
     "status": "completed"
    },
    "tags": []
   },
   "outputs": [],
   "source": [
    "# Загрузим стоп - слова\n",
    "sw1 = get_stop_words('english')\n",
    "sw2 = stopwords.words('english')"
   ]
  },
  {
   "cell_type": "code",
   "execution_count": 14,
   "id": "c754f53c",
   "metadata": {
    "execution": {
     "iopub.execute_input": "2022-04-08T17:49:29.258731Z",
     "iopub.status.busy": "2022-04-08T17:49:29.258024Z",
     "iopub.status.idle": "2022-04-08T17:49:29.263347Z",
     "shell.execute_reply": "2022-04-08T17:49:29.264040Z",
     "shell.execute_reply.started": "2022-04-08T17:44:12.057446Z"
    },
    "papermill": {
     "duration": 0.05747,
     "end_time": "2022-04-08T17:49:29.264241",
     "exception": false,
     "start_time": "2022-04-08T17:49:29.206771",
     "status": "completed"
    },
    "tags": []
   },
   "outputs": [
    {
     "data": {
      "text/plain": [
       "211"
      ]
     },
     "execution_count": 14,
     "metadata": {},
     "output_type": "execute_result"
    }
   ],
   "source": [
    "# Соберем все стоп-слова вместе\n",
    "sw_all = set(sw1+sw2)\n",
    "len(sw_all)"
   ]
  },
  {
   "cell_type": "code",
   "execution_count": 15,
   "id": "b013c7bc",
   "metadata": {
    "execution": {
     "iopub.execute_input": "2022-04-08T17:49:29.369648Z",
     "iopub.status.busy": "2022-04-08T17:49:29.368973Z",
     "iopub.status.idle": "2022-04-08T17:49:29.375961Z",
     "shell.execute_reply": "2022-04-08T17:49:29.376434Z",
     "shell.execute_reply.started": "2022-04-08T17:44:12.131637Z"
    },
    "papermill": {
     "duration": 0.061173,
     "end_time": "2022-04-08T17:49:29.376664",
     "exception": false,
     "start_time": "2022-04-08T17:49:29.315491",
     "status": "completed"
    },
    "tags": []
   },
   "outputs": [
    {
     "data": {
      "text/plain": [
       "{'!',\n",
       " '\"',\n",
       " '#',\n",
       " '$',\n",
       " '%',\n",
       " '&',\n",
       " \"'\",\n",
       " '(',\n",
       " ')',\n",
       " '*',\n",
       " '+',\n",
       " ',',\n",
       " '-',\n",
       " '.',\n",
       " '/',\n",
       " ':',\n",
       " ';',\n",
       " '<',\n",
       " '=',\n",
       " '>',\n",
       " '?',\n",
       " '@',\n",
       " '[',\n",
       " '\\\\',\n",
       " ']',\n",
       " '^',\n",
       " '_',\n",
       " '`',\n",
       " '{',\n",
       " '|',\n",
       " '}',\n",
       " '~'}"
      ]
     },
     "execution_count": 15,
     "metadata": {},
     "output_type": "execute_result"
    }
   ],
   "source": [
    "# Загрузим пунктуацию\n",
    "puncts = set(punctuation)\n",
    "puncts"
   ]
  },
  {
   "cell_type": "code",
   "execution_count": 16,
   "id": "360d24b7",
   "metadata": {
    "execution": {
     "iopub.execute_input": "2022-04-08T17:49:29.478695Z",
     "iopub.status.busy": "2022-04-08T17:49:29.477987Z",
     "iopub.status.idle": "2022-04-08T17:49:31.686897Z",
     "shell.execute_reply": "2022-04-08T17:49:31.686350Z",
     "shell.execute_reply.started": "2022-04-08T17:44:12.206936Z"
    },
    "papermill": {
     "duration": 2.261132,
     "end_time": "2022-04-08T17:49:31.687049",
     "exception": false,
     "start_time": "2022-04-08T17:49:29.425917",
     "status": "completed"
    },
    "tags": []
   },
   "outputs": [
    {
     "data": {
      "text/plain": [
       "('city', 'child', 'walking')"
      ]
     },
     "execution_count": 16,
     "metadata": {},
     "output_type": "execute_result"
    }
   ],
   "source": [
    "# Лемматизация\n",
    "# pymorphy не работает с английским языком, поэтому берем WordNetLemmatizer из nltk\n",
    "\n",
    "\n",
    "lemmatizer = WordNetLemmatizer()\n",
    "\n",
    "#пример \n",
    "lemmatizer.lemmatize('cities'), lemmatizer.lemmatize('children'), lemmatizer.lemmatize('walking')"
   ]
  },
  {
   "cell_type": "code",
   "execution_count": 17,
   "id": "f1208999",
   "metadata": {
    "execution": {
     "iopub.execute_input": "2022-04-08T17:49:31.793961Z",
     "iopub.status.busy": "2022-04-08T17:49:31.793221Z",
     "iopub.status.idle": "2022-04-08T17:49:31.794735Z",
     "shell.execute_reply": "2022-04-08T17:49:31.795217Z",
     "shell.execute_reply.started": "2022-04-08T17:44:12.274598Z"
    },
    "papermill": {
     "duration": 0.058299,
     "end_time": "2022-04-08T17:49:31.795380",
     "exception": false,
     "start_time": "2022-04-08T17:49:31.737081",
     "status": "completed"
    },
    "tags": []
   },
   "outputs": [],
   "source": [
    "def preprocess_text(txt):\n",
    "    # переводчим в строковый тип\n",
    "    txt = str(txt)\n",
    "    \n",
    "    # убираем пунктауицию\n",
    "    txt = \"\".join(c for c in txt if c not in puncts)\n",
    "    \n",
    "    # переводим в нижний регистр\n",
    "    txt = txt.lower()\n",
    "     \n",
    "    # лемматизация\n",
    "    txt = [lemmatizer.lemmatize(word) for word in txt.split() if word not in sw_all]\n",
    "    return \" \".join(txt)"
   ]
  },
  {
   "cell_type": "code",
   "execution_count": 18,
   "id": "b808d000",
   "metadata": {
    "execution": {
     "iopub.execute_input": "2022-04-08T17:49:31.901203Z",
     "iopub.status.busy": "2022-04-08T17:49:31.900481Z",
     "iopub.status.idle": "2022-04-08T17:49:31.903101Z",
     "shell.execute_reply": "2022-04-08T17:49:31.903664Z",
     "shell.execute_reply.started": "2022-04-08T17:44:12.348576Z"
    },
    "papermill": {
     "duration": 0.058879,
     "end_time": "2022-04-08T17:49:31.903856",
     "exception": false,
     "start_time": "2022-04-08T17:49:31.844977",
     "status": "completed"
    },
    "tags": []
   },
   "outputs": [
    {
     "name": "stdout",
     "output_type": "stream",
     "text": [
      "@user thank you!! the power of #social #media!   @user #aande  --> user thank power social medium user aande\n"
     ]
    }
   ],
   "source": [
    "print(f\"{data_train['tweet'].iloc[3]} --> {preprocess_text(data_train['tweet'].iloc[3])}\")"
   ]
  },
  {
   "cell_type": "code",
   "execution_count": 19,
   "id": "8ef154f8",
   "metadata": {
    "execution": {
     "iopub.execute_input": "2022-04-08T17:49:32.012343Z",
     "iopub.status.busy": "2022-04-08T17:49:32.011543Z",
     "iopub.status.idle": "2022-04-08T17:49:36.669027Z",
     "shell.execute_reply": "2022-04-08T17:49:36.667896Z",
     "shell.execute_reply.started": "2022-04-08T17:44:12.424506Z"
    },
    "papermill": {
     "duration": 4.714806,
     "end_time": "2022-04-08T17:49:36.669279",
     "exception": false,
     "start_time": "2022-04-08T17:49:31.954473",
     "status": "completed"
    },
    "tags": []
   },
   "outputs": [
    {
     "name": "stderr",
     "output_type": "stream",
     "text": [
      "100%|██████████| 41489/41489 [00:02<00:00, 14539.17it/s]\n",
      "100%|██████████| 9589/9589 [00:00<00:00, 14876.87it/s]\n",
      "100%|██████████| 17197/17197 [00:01<00:00, 15176.96it/s]\n"
     ]
    }
   ],
   "source": [
    "#преобразование текста в данных\n",
    "from tqdm import tqdm \n",
    "tqdm.pandas()\n",
    "\n",
    "data_train['tweet'] = data_train['tweet'].progress_apply(preprocess_text)\n",
    "data_val['tweet'] = data_val['tweet'].progress_apply(preprocess_text)\n",
    "data_test['tweet'] = data_test['tweet'].progress_apply(preprocess_text)"
   ]
  },
  {
   "cell_type": "code",
   "execution_count": 20,
   "id": "b2bb1aff",
   "metadata": {
    "execution": {
     "iopub.execute_input": "2022-04-08T17:49:36.817795Z",
     "iopub.status.busy": "2022-04-08T17:49:36.816888Z",
     "iopub.status.idle": "2022-04-08T17:49:36.820592Z",
     "shell.execute_reply": "2022-04-08T17:49:36.820074Z",
     "shell.execute_reply.started": "2022-04-08T17:44:15.744167Z"
    },
    "papermill": {
     "duration": 0.080113,
     "end_time": "2022-04-08T17:49:36.820737",
     "exception": false,
     "start_time": "2022-04-08T17:49:36.740624",
     "status": "completed"
    },
    "tags": []
   },
   "outputs": [
    {
     "data": {
      "text/plain": [
       "5236     user congratulation deepu di need pachay miss ...\n",
       "26680    user user ball lumpy girl spot lumpy tony say ...\n",
       "5978     magnettherapy really work altwaystoheal healin...\n",
       "30068            user thank power social medium user aande\n",
       "7217                               user user american hate\n",
       "                               ...                        \n",
       "18346    little pink pocket dream caught midair jump mi...\n",
       "14983    hour 25pm gourmethotdogs couvesmallbiz friday ...\n",
       "38824    hispanic amp feel like stomping listen retweet...\n",
       "32285    user user safe place black country people like...\n",
       "38661    goodonedean metoo lol trumpism putinism donald...\n",
       "Name: tweet, Length: 41489, dtype: object"
      ]
     },
     "execution_count": 20,
     "metadata": {},
     "output_type": "execute_result"
    }
   ],
   "source": [
    "data_train.tweet"
   ]
  },
  {
   "cell_type": "code",
   "execution_count": 21,
   "id": "e764e088",
   "metadata": {
    "execution": {
     "iopub.execute_input": "2022-04-08T17:49:36.992221Z",
     "iopub.status.busy": "2022-04-08T17:49:36.964591Z",
     "iopub.status.idle": "2022-04-08T17:49:36.996666Z",
     "shell.execute_reply": "2022-04-08T17:49:36.995993Z",
     "shell.execute_reply.started": "2022-04-08T17:44:15.753610Z"
    },
    "papermill": {
     "duration": 0.105386,
     "end_time": "2022-04-08T17:49:36.996814",
     "exception": false,
     "start_time": "2022-04-08T17:49:36.891428",
     "status": "completed"
    },
    "tags": []
   },
   "outputs": [
    {
     "data": {
      "text/plain": [
       "2621370"
      ]
     },
     "execution_count": 21,
     "metadata": {},
     "output_type": "execute_result"
    }
   ],
   "source": [
    "# делаем единый список слов из всех слов во всех строках\n",
    "\n",
    "train_corpus = \" \".join(data_train[\"tweet\"])\n",
    "train_corpus = train_corpus.lower()\n",
    "len(train_corpus)"
   ]
  },
  {
   "cell_type": "code",
   "execution_count": 22,
   "id": "a78c8b39",
   "metadata": {
    "execution": {
     "iopub.execute_input": "2022-04-08T17:49:37.148291Z",
     "iopub.status.busy": "2022-04-08T17:49:37.147534Z",
     "iopub.status.idle": "2022-04-08T17:49:40.978506Z",
     "shell.execute_reply": "2022-04-08T17:49:40.977856Z",
     "shell.execute_reply.started": "2022-04-08T17:44:15.790535Z"
    },
    "papermill": {
     "duration": 3.909572,
     "end_time": "2022-04-08T17:49:40.978706",
     "exception": false,
     "start_time": "2022-04-08T17:49:37.069134",
     "status": "completed"
    },
    "tags": []
   },
   "outputs": [
    {
     "data": {
      "text/plain": [
       "['user', 'congratulation', 'deepu', 'di', 'need']"
      ]
     },
     "execution_count": 22,
     "metadata": {},
     "output_type": "execute_result"
    }
   ],
   "source": [
    "# Токенизация\n",
    "tokens = word_tokenize(train_corpus) #на выходе будет лист токенов\n",
    "tokens[:5]\n"
   ]
  },
  {
   "cell_type": "code",
   "execution_count": 23,
   "id": "448a2be8",
   "metadata": {
    "execution": {
     "iopub.execute_input": "2022-04-08T17:49:41.132816Z",
     "iopub.status.busy": "2022-04-08T17:49:41.131823Z",
     "iopub.status.idle": "2022-04-08T17:49:41.175096Z",
     "shell.execute_reply": "2022-04-08T17:49:41.174467Z",
     "shell.execute_reply.started": "2022-04-08T17:44:17.281825Z"
    },
    "papermill": {
     "duration": 0.125661,
     "end_time": "2022-04-08T17:49:41.175243",
     "exception": false,
     "start_time": "2022-04-08T17:49:41.049582",
     "status": "completed"
    },
    "tags": []
   },
   "outputs": [],
   "source": [
    "# Сделаем фильтрацию токенов и отберем N самых часто встречающихся\n",
    "\n",
    "# Отфильтруем те токены, которые не являются словами (буквами) или цифрами\n",
    "tokens_filtered = [word for word in tokens if word.isalnum()]"
   ]
  },
  {
   "cell_type": "code",
   "execution_count": 24,
   "id": "0469d4aa",
   "metadata": {
    "execution": {
     "iopub.execute_input": "2022-04-08T17:49:41.327002Z",
     "iopub.status.busy": "2022-04-08T17:49:41.326305Z",
     "iopub.status.idle": "2022-04-08T17:49:41.624253Z",
     "shell.execute_reply": "2022-04-08T17:49:41.623703Z",
     "shell.execute_reply.started": "2022-04-08T17:44:17.330660Z"
    },
    "papermill": {
     "duration": 0.37208,
     "end_time": "2022-04-08T17:49:41.624404",
     "exception": false,
     "start_time": "2022-04-08T17:49:41.252324",
     "status": "completed"
    },
    "tags": []
   },
   "outputs": [
    {
     "data": {
      "text/plain": [
       "FreqDist({'user': 27717, 'amp': 3196, 'love': 2070, 'trump': 1989, 'like': 1979, 'day': 1952, 'u': 1809, 'white': 1645, 'black': 1557, 'people': 1465, ...})"
      ]
     },
     "execution_count": 24,
     "metadata": {},
     "output_type": "execute_result"
    }
   ],
   "source": [
    "# Сделаем словарь {слово: частота появления},\n",
    "# Вывод будет отсортирован в порядке убывания популярности слова \n",
    "\n",
    "dist = FreqDist(tokens_filtered)\n",
    "dist"
   ]
  },
  {
   "cell_type": "code",
   "execution_count": 25,
   "id": "be5fb136",
   "metadata": {
    "execution": {
     "iopub.execute_input": "2022-04-08T17:49:41.774774Z",
     "iopub.status.busy": "2022-04-08T17:49:41.773938Z",
     "iopub.status.idle": "2022-04-08T17:49:41.816399Z",
     "shell.execute_reply": "2022-04-08T17:49:41.816959Z",
     "shell.execute_reply.started": "2022-04-08T17:44:17.574625Z"
    },
    "papermill": {
     "duration": 0.118336,
     "end_time": "2022-04-08T17:49:41.817143",
     "exception": false,
     "start_time": "2022-04-08T17:49:41.698807",
     "status": "completed"
    },
    "tags": []
   },
   "outputs": [
    {
     "data": {
      "text/plain": [
       "(1999,\n",
       " ['user',\n",
       "  'amp',\n",
       "  'love',\n",
       "  'trump',\n",
       "  'like',\n",
       "  'day',\n",
       "  'u',\n",
       "  'white',\n",
       "  'black',\n",
       "  'people'])"
      ]
     },
     "execution_count": 25,
     "metadata": {},
     "output_type": "execute_result"
    }
   ],
   "source": [
    "# Отберем первые N наиболее популярных токенов с паддингом = 1, \n",
    "# чтобы в будущем использовать 0 в качестве пустого значения\n",
    "\n",
    "tokens_filtered_top = [pair[0] for pair in dist.most_common(max_words-1)]  # -1 - padding\n",
    "len(tokens_filtered_top), tokens_filtered_top[:10]"
   ]
  },
  {
   "cell_type": "code",
   "execution_count": 26,
   "id": "47590244",
   "metadata": {
    "execution": {
     "iopub.execute_input": "2022-04-08T17:49:41.972013Z",
     "iopub.status.busy": "2022-04-08T17:49:41.970897Z",
     "iopub.status.idle": "2022-04-08T17:49:41.978154Z",
     "shell.execute_reply": "2022-04-08T17:49:41.978805Z",
     "shell.execute_reply.started": "2022-04-08T17:44:17.609256Z"
    },
    "papermill": {
     "duration": 0.089804,
     "end_time": "2022-04-08T17:49:41.978983",
     "exception": false,
     "start_time": "2022-04-08T17:49:41.889179",
     "status": "completed"
    },
    "tags": []
   },
   "outputs": [
    {
     "data": {
      "text/plain": [
       "1"
      ]
     },
     "execution_count": 26,
     "metadata": {},
     "output_type": "execute_result"
    }
   ],
   "source": [
    "vocabulary = {v: k for k, v in dict(enumerate(tokens_filtered_top, 1)).items()} # Начало индексов с 1 (не с 0)\n",
    "\n",
    "# Самое частовстречающееся слово - user,проверим его индекс, должен быть = 1\n",
    "vocabulary['user']"
   ]
  },
  {
   "cell_type": "code",
   "execution_count": 27,
   "id": "1a263546",
   "metadata": {
    "execution": {
     "iopub.execute_input": "2022-04-08T17:49:42.152453Z",
     "iopub.status.busy": "2022-04-08T17:49:42.151529Z",
     "iopub.status.idle": "2022-04-08T17:49:42.158946Z",
     "shell.execute_reply": "2022-04-08T17:49:42.159542Z",
     "shell.execute_reply.started": "2022-04-08T17:44:17.621325Z"
    },
    "papermill": {
     "duration": 0.092493,
     "end_time": "2022-04-08T17:49:42.159759",
     "exception": false,
     "start_time": "2022-04-08T17:49:42.067266",
     "status": "completed"
    },
    "tags": []
   },
   "outputs": [],
   "source": [
    "# Обернем преобразование твитов в последовательность\n",
    "\n",
    "def text_to_sequence(tweet, maxlen):\n",
    "    result = []\n",
    "    #токенизация\n",
    "    tokens = word_tokenize(tweet.lower())\n",
    "    \n",
    "    #отфильтровываем все, что не слова (буквы) и числа\n",
    "    tokens_filtered = [word for word in tokens if word.isalnum()]\n",
    "    \n",
    "    for word in tokens_filtered:\n",
    "        # добавляем в result только слова из vocabulary (топ 2000)\n",
    "        if word in vocabulary:\n",
    "            result.append(vocabulary[word])\n",
    "\n",
    "    padding = [0] * (maxlen-len(result))\n",
    "    return result[-maxlen:] + padding"
   ]
  },
  {
   "cell_type": "code",
   "execution_count": 28,
   "id": "f58ed66d",
   "metadata": {
    "execution": {
     "iopub.execute_input": "2022-04-08T17:49:42.320860Z",
     "iopub.status.busy": "2022-04-08T17:49:42.320119Z",
     "iopub.status.idle": "2022-04-08T17:49:55.300102Z",
     "shell.execute_reply": "2022-04-08T17:49:55.297942Z",
     "shell.execute_reply.started": "2022-04-08T17:44:17.633762Z"
    },
    "papermill": {
     "duration": 13.064251,
     "end_time": "2022-04-08T17:49:55.300481",
     "exception": false,
     "start_time": "2022-04-08T17:49:42.236230",
     "status": "completed"
    },
    "tags": []
   },
   "outputs": [
    {
     "name": "stdout",
     "output_type": "stream",
     "text": [
      "CPU times: user 12.9 s, sys: 35.8 ms, total: 13 s\n",
      "Wall time: 13 s\n"
     ]
    }
   ],
   "source": [
    "%%time\n",
    "X_train = np.asarray([text_to_sequence(tweet, max_len) for tweet in data_train[\"tweet\"]])\n",
    "X_val = np.asarray([text_to_sequence(tweet, max_len) for tweet in data_val[\"tweet\"]])\n",
    "X_test = np.asarray([text_to_sequence(tweet, max_len) for tweet in data_test[\"tweet\"]])"
   ]
  },
  {
   "cell_type": "code",
   "execution_count": 29,
   "id": "4d57d3cb",
   "metadata": {
    "execution": {
     "iopub.execute_input": "2022-04-08T17:49:55.454466Z",
     "iopub.status.busy": "2022-04-08T17:49:55.453830Z",
     "iopub.status.idle": "2022-04-08T17:49:55.460061Z",
     "shell.execute_reply": "2022-04-08T17:49:55.460625Z",
     "shell.execute_reply.started": "2022-04-08T17:44:25.423348Z"
    },
    "papermill": {
     "duration": 0.082573,
     "end_time": "2022-04-08T17:49:55.460802",
     "exception": false,
     "start_time": "2022-04-08T17:49:55.378229",
     "status": "completed"
    },
    "tags": []
   },
   "outputs": [
    {
     "data": {
      "text/plain": [
       "('user user yes yes yes',\n",
       " array([  1,   1, 236, 236, 236,   0,   0,   0,   0,   0,   0,   0,   0,\n",
       "          0,   0,   0,   0,   0,   0,   0,   0,   0,   0,   0,   0,   0,\n",
       "          0,   0,   0,   0,   0,   0,   0,   0,   0,   0,   0,   0,   0,\n",
       "          0]))"
      ]
     },
     "execution_count": 29,
     "metadata": {},
     "output_type": "execute_result"
    }
   ],
   "source": [
    "data_train['tweet'].iloc[8], X_train[8]"
   ]
  },
  {
   "cell_type": "markdown",
   "id": "29dd3fcf",
   "metadata": {
    "papermill": {
     "duration": 0.074376,
     "end_time": "2022-04-08T17:49:55.609140",
     "exception": false,
     "start_time": "2022-04-08T17:49:55.534764",
     "status": "completed"
    },
    "tags": []
   },
   "source": [
    "**Создание datasets и dataloaders**"
   ]
  },
  {
   "cell_type": "code",
   "execution_count": 30,
   "id": "78b40bab",
   "metadata": {
    "execution": {
     "iopub.execute_input": "2022-04-08T17:49:55.758218Z",
     "iopub.status.busy": "2022-04-08T17:49:55.757507Z",
     "iopub.status.idle": "2022-04-08T17:49:55.764054Z",
     "shell.execute_reply": "2022-04-08T17:49:55.764611Z",
     "shell.execute_reply.started": "2022-04-08T17:44:25.431802Z"
    },
    "papermill": {
     "duration": 0.08296,
     "end_time": "2022-04-08T17:49:55.764792",
     "exception": false,
     "start_time": "2022-04-08T17:49:55.681832",
     "status": "completed"
    },
    "tags": []
   },
   "outputs": [],
   "source": [
    "class DataWrapper(Dataset):\n",
    "    def __init__(self, data, target, transform=None):\n",
    "        self.data = torch.from_numpy(data).long() # сразу переводим в тензор\n",
    "        self.target = torch.from_numpy(target).long()\n",
    "        self.transform = transform\n",
    "        \n",
    "    def __getitem__(self, index):\n",
    "        x = self.data[index]\n",
    "        y = self.target[index]\n",
    "        \n",
    "        if self.transform:\n",
    "            x = self.transform(x)\n",
    "            \n",
    "        return x, y\n",
    "    \n",
    "    def __len__(self):\n",
    "        return len(self.data)"
   ]
  },
  {
   "cell_type": "code",
   "execution_count": 31,
   "id": "542ee42f",
   "metadata": {
    "execution": {
     "iopub.execute_input": "2022-04-08T17:49:55.927123Z",
     "iopub.status.busy": "2022-04-08T17:49:55.920677Z",
     "iopub.status.idle": "2022-04-08T17:49:55.938466Z",
     "shell.execute_reply": "2022-04-08T17:49:55.939047Z",
     "shell.execute_reply.started": "2022-04-08T17:44:25.444060Z"
    },
    "papermill": {
     "duration": 0.101171,
     "end_time": "2022-04-08T17:49:55.939251",
     "exception": false,
     "start_time": "2022-04-08T17:49:55.838080",
     "status": "completed"
    },
    "tags": []
   },
   "outputs": [],
   "source": [
    "#создание представителей классов Dataset и Dataloader\n",
    "train_dataset = DataWrapper(X_train, data_train['label'].values)\n",
    "train_dataloader = DataLoader(train_dataset, batch_size=batch_size, shuffle=True)\n",
    "\n",
    "val_dataset = DataWrapper(X_val, data_val['label'].values)\n",
    "val_dataloader = DataLoader(val_dataset, batch_size=8, shuffle=True)"
   ]
  },
  {
   "cell_type": "code",
   "execution_count": 32,
   "id": "58bc9ba6",
   "metadata": {
    "execution": {
     "iopub.execute_input": "2022-04-08T17:49:56.105636Z",
     "iopub.status.busy": "2022-04-08T17:49:56.099677Z",
     "iopub.status.idle": "2022-04-08T17:49:56.169370Z",
     "shell.execute_reply": "2022-04-08T17:49:56.169928Z",
     "shell.execute_reply.started": "2022-04-08T17:44:25.459136Z"
    },
    "papermill": {
     "duration": 0.15172,
     "end_time": "2022-04-08T17:49:56.170115",
     "exception": false,
     "start_time": "2022-04-08T17:49:56.018395",
     "status": "completed"
    },
    "tags": []
   },
   "outputs": [
    {
     "name": "stdout",
     "output_type": "stream",
     "text": [
      "Тренировочный датасет:\n",
      "\n",
      "torch.Size([512, 40])\n",
      "torch.Size([512])\n",
      "tensor(1)\n",
      "\n",
      "Валидационный датасет:\n",
      "\n",
      "torch.Size([8, 40])\n",
      "torch.Size([8])\n",
      "tensor(0)\n"
     ]
    }
   ],
   "source": [
    "# Проверка работы dataloader-a\n",
    "\n",
    "for x, l in train_dataloader:\n",
    "    print('Тренировочный датасет:\\n')\n",
    "    print(x.shape)\n",
    "    print(l.shape)\n",
    "    print(l[0])\n",
    "    break\n",
    "\n",
    "print()\n",
    "for x, l in val_dataloader:\n",
    "    print('Валидационный датасет:\\n')\n",
    "    print(x.shape)\n",
    "    print(l.shape)\n",
    "    print(l[0])\n",
    "    break"
   ]
  },
  {
   "cell_type": "markdown",
   "id": "1bf91c6c",
   "metadata": {
    "papermill": {
     "duration": 0.090487,
     "end_time": "2022-04-08T17:49:56.350107",
     "exception": false,
     "start_time": "2022-04-08T17:49:56.259620",
     "status": "completed"
    },
    "tags": []
   },
   "source": [
    "**Построение нейронной сети**"
   ]
  },
  {
   "cell_type": "code",
   "execution_count": 33,
   "id": "7fed577d",
   "metadata": {
    "execution": {
     "iopub.execute_input": "2022-04-08T17:49:56.508656Z",
     "iopub.status.busy": "2022-04-08T17:49:56.507971Z",
     "iopub.status.idle": "2022-04-08T17:49:56.519843Z",
     "shell.execute_reply": "2022-04-08T17:49:56.520438Z",
     "shell.execute_reply.started": "2022-04-08T17:44:25.480957Z"
    },
    "papermill": {
     "duration": 0.09423,
     "end_time": "2022-04-08T17:49:56.520656",
     "exception": false,
     "start_time": "2022-04-08T17:49:56.426426",
     "status": "completed"
    },
    "tags": []
   },
   "outputs": [],
   "source": [
    "class Net(nn.Module):\n",
    "    def __init__(self, vocab_size=2000, embedding_dim=128, out_channel=128, num_classes = 1):\n",
    "        super().__init__()\n",
    "        self.embedding = nn.Embedding(vocab_size, embedding_dim)\n",
    "        self.conv_1 = nn.Conv1d(embedding_dim, out_channel, kernel_size=2)\n",
    "        self.conv_2 = nn.Conv1d(embedding_dim, out_channel, kernel_size=3) # conv с бОльшим окном\n",
    "        self.pool = nn.MaxPool1d(2)\n",
    "        self.relu = nn.ReLU()\n",
    "        self.linear_1 = nn.Linear(out_channel, out_channel // 2)\n",
    "        self.linear_2 = nn.Linear(out_channel // 2, num_classes)\n",
    "        \n",
    "    def forward(self, x):        \n",
    "        output = self.embedding(x) # B, L, E\n",
    "        #                       B  E  L   \n",
    "#         print(f'Размер после emb: {output.size()}')\n",
    "        output = output.permute(0, 2, 1)\n",
    "#         print(f'Размер после permute: {output.size()}')\n",
    "        output = self.conv_1(output)\n",
    "#         print(f'Размер после conv1: {output.size()}')\n",
    "        output = self.relu(output)\n",
    "        output = self.pool(output)\n",
    "#         print(f'Размер после pool: {output.size()}')\n",
    "\n",
    "        output = self.conv_2(output)\n",
    "#         print(f'Размер после conv2: {output.size()}')\n",
    "        output = self.relu(output)\n",
    "        output = self.pool(output)\n",
    "#         print(f'Размер после pool2: {output.size()}')\n",
    "\n",
    "        output = torch.max(output, axis=2).values\n",
    "#         print(f'Размер после MAX POOL: {output.size()}')\n",
    "        output = self.linear_1(output)\n",
    "        output = self.relu(output)\n",
    "        output = self.linear_2(output)\n",
    "        output = torch.sigmoid(output)\n",
    "        return output\n",
    "\n"
   ]
  },
  {
   "cell_type": "code",
   "execution_count": 34,
   "id": "8129adee",
   "metadata": {
    "execution": {
     "iopub.execute_input": "2022-04-08T17:49:56.674458Z",
     "iopub.status.busy": "2022-04-08T17:49:56.672218Z",
     "iopub.status.idle": "2022-04-08T17:49:56.689470Z",
     "shell.execute_reply": "2022-04-08T17:49:56.690016Z",
     "shell.execute_reply.started": "2022-04-08T17:44:25.493020Z"
    },
    "papermill": {
     "duration": 0.095098,
     "end_time": "2022-04-08T17:49:56.690196",
     "exception": false,
     "start_time": "2022-04-08T17:49:56.595098",
     "status": "completed"
    },
    "tags": []
   },
   "outputs": [],
   "source": [
    "device = 'cuda' if torch.cuda.is_available() else 'cpu'\n",
    "\n",
    "net = Net(vocab_size=max_words).to(device)"
   ]
  },
  {
   "cell_type": "code",
   "execution_count": 35,
   "id": "28962e8b",
   "metadata": {
    "execution": {
     "iopub.execute_input": "2022-04-08T17:49:56.844958Z",
     "iopub.status.busy": "2022-04-08T17:49:56.844222Z",
     "iopub.status.idle": "2022-04-08T17:49:56.851277Z",
     "shell.execute_reply": "2022-04-08T17:49:56.850724Z",
     "shell.execute_reply.started": "2022-04-08T17:44:25.514351Z"
    },
    "papermill": {
     "duration": 0.086907,
     "end_time": "2022-04-08T17:49:56.851418",
     "exception": false,
     "start_time": "2022-04-08T17:49:56.764511",
     "status": "completed"
    },
    "tags": []
   },
   "outputs": [
    {
     "name": "stdout",
     "output_type": "stream",
     "text": [
      "Net(\n",
      "  (embedding): Embedding(2000, 128)\n",
      "  (conv_1): Conv1d(128, 128, kernel_size=(2,), stride=(1,))\n",
      "  (conv_2): Conv1d(128, 128, kernel_size=(3,), stride=(1,))\n",
      "  (pool): MaxPool1d(kernel_size=2, stride=2, padding=0, dilation=1, ceil_mode=False)\n",
      "  (relu): ReLU()\n",
      "  (linear_1): Linear(in_features=128, out_features=64, bias=True)\n",
      "  (linear_2): Linear(in_features=64, out_features=1, bias=True)\n",
      ")\n",
      "Parameters: 346497\n"
     ]
    }
   ],
   "source": [
    "print(net)\n",
    "print(\"Parameters:\", sum([param.nelement() for param in net.parameters()]))"
   ]
  },
  {
   "cell_type": "code",
   "execution_count": 36,
   "id": "446c255a",
   "metadata": {
    "execution": {
     "iopub.execute_input": "2022-04-08T17:49:57.020408Z",
     "iopub.status.busy": "2022-04-08T17:49:57.019300Z",
     "iopub.status.idle": "2022-04-08T17:49:57.024973Z",
     "shell.execute_reply": "2022-04-08T17:49:57.025618Z",
     "shell.execute_reply.started": "2022-04-08T17:44:25.520584Z"
    },
    "papermill": {
     "duration": 0.092367,
     "end_time": "2022-04-08T17:49:57.025851",
     "exception": false,
     "start_time": "2022-04-08T17:49:56.933484",
     "status": "completed"
    },
    "tags": []
   },
   "outputs": [],
   "source": [
    "optimizer = torch.optim.Adam(net.parameters(), lr=0.01)\n",
    "criterion = nn.BCELoss()"
   ]
  },
  {
   "cell_type": "code",
   "execution_count": 37,
   "id": "af1fadff",
   "metadata": {
    "execution": {
     "iopub.execute_input": "2022-04-08T17:49:57.209282Z",
     "iopub.status.busy": "2022-04-08T17:49:57.208396Z",
     "iopub.status.idle": "2022-04-08T17:52:17.154520Z",
     "shell.execute_reply": "2022-04-08T17:52:17.155593Z",
     "shell.execute_reply.started": "2022-04-08T17:44:25.530436Z"
    },
    "papermill": {
     "duration": 140.046753,
     "end_time": "2022-04-08T17:52:17.155946",
     "exception": false,
     "start_time": "2022-04-08T17:49:57.109193",
     "status": "completed"
    },
    "tags": []
   },
   "outputs": [
    {
     "name": "stdout",
     "output_type": "stream",
     "text": [
      "Epoch [1/10]. Step [1/82]. Loss: 0.694. Acc: 0.533. Test loss: 2.676. Test acc: 0.068\n",
      "Epoch [2/10]. Step [1/82]. Loss: 0.061. Acc: 0.984. Test loss: 0.005. Test acc: 0.912\n",
      "Epoch [3/10]. Step [1/82]. Loss: 0.038. Acc: 0.990. Test loss: 0.049. Test acc: 0.953\n",
      "Epoch [4/10]. Step [1/82]. Loss: 0.012. Acc: 0.996. Test loss: 0.001. Test acc: 0.954\n",
      "Epoch [5/10]. Step [1/82]. Loss: 0.018. Acc: 0.994. Test loss: 0.000. Test acc: 0.951\n",
      "Epoch [6/10]. Step [1/82]. Loss: 0.013. Acc: 0.994. Test loss: 3.967. Test acc: 0.951\n",
      "Epoch [7/10]. Step [1/82]. Loss: 0.021. Acc: 0.988. Test loss: 0.186. Test acc: 0.954\n",
      "Epoch [8/10]. Step [1/82]. Loss: 0.021. Acc: 0.990. Test loss: 0.018. Test acc: 0.947\n",
      "Epoch [9/10]. Step [1/82]. Loss: 0.065. Acc: 0.971. Test loss: 3.929. Test acc: 0.951\n",
      "Epoch [10/10]. Step [1/82]. Loss: 0.006. Acc: 1.000. Test loss: 0.000. Test acc: 0.957\n",
      "Training is finished!\n"
     ]
    }
   ],
   "source": [
    "#обучение модели\n",
    "net.train()\n",
    "th = 0.5\n",
    "\n",
    "train_loss_history = []\n",
    "val_loss_history = []\n",
    "\n",
    "\n",
    "for epoch in range(epochs):  \n",
    "    running_items, running_right = 0.0, 0.0\n",
    "    for i, data in enumerate(train_dataloader, 0):\n",
    "        inputs, labels = data[0].to(device), data[1].to(device)\n",
    "        \n",
    "        # обнуляем градиент\n",
    "        optimizer.zero_grad()\n",
    "        outputs = net(inputs)\n",
    "        \n",
    "        loss = criterion(outputs, labels.float().view(-1, 1))\n",
    "        loss.backward()\n",
    "        optimizer.step()\n",
    "\n",
    "        # подсчет ошибки на обучении\n",
    "        loss = loss.item()\n",
    "        running_items += len(labels)\n",
    "        # подсчет метрики на обучении\n",
    "        pred_labels = torch.squeeze((outputs > th).int())\n",
    "        running_right += (labels == pred_labels).sum()\n",
    "        \n",
    "        # выводим статистику о процессе обучения\n",
    "        if i % 150 == 0:    # печатаем каждые 150 batches\n",
    "            net.eval()\n",
    "            \n",
    "            print(f'Epoch [{epoch + 1}/{epochs}]. ' \\\n",
    "                  f'Step [{i + 1}/{len(train_dataloader)}]. ' \\\n",
    "                  f'Loss: {loss:.3f}. ' \\\n",
    "                  f'Acc: {running_right / running_items:.3f}', end='. ')\n",
    "            running_loss, running_items, running_right = 0.0, 0.0, 0.0\n",
    "            train_loss_history.append(loss)\n",
    "\n",
    "            # выводим статистику на валидационных данных\n",
    "            val_running_right, val_running_total, test_loss = 0.0, 0.0, 0.0\n",
    "            for j, data in enumerate(val_dataloader):\n",
    "                val_labels = data[1].to(device)\n",
    "                val_outputs = net(data[0].to(device))\n",
    "                \n",
    "                # подсчет ошибки на валидации\n",
    "                val_loss = criterion(val_outputs, val_labels.float().view(-1, 1))\n",
    "                # подсчет метрики на тесте\n",
    "                val_running_total += len(data[1])\n",
    "                pred_val_labels = torch.squeeze((val_outputs > th).int())\n",
    "                val_running_right += (val_labels == pred_val_labels).sum()\n",
    "            \n",
    "            val_loss_history.append(val_loss.item())\n",
    "            print(f'Test loss: {val_loss:.3f}. Test acc: {val_running_right / val_running_total:.3f}')\n",
    "        \n",
    "        net.train()\n",
    "        \n",
    "print('Training is finished!')"
   ]
  },
  {
   "cell_type": "code",
   "execution_count": 38,
   "id": "43f45184",
   "metadata": {
    "execution": {
     "iopub.execute_input": "2022-04-08T17:52:17.321966Z",
     "iopub.status.busy": "2022-04-08T17:52:17.320989Z",
     "iopub.status.idle": "2022-04-08T17:52:17.549984Z",
     "shell.execute_reply": "2022-04-08T17:52:17.549000Z",
     "shell.execute_reply.started": "2022-04-08T17:48:10.439284Z"
    },
    "papermill": {
     "duration": 0.312334,
     "end_time": "2022-04-08T17:52:17.550136",
     "exception": false,
     "start_time": "2022-04-08T17:52:17.237802",
     "status": "completed"
    },
    "tags": []
   },
   "outputs": [
    {
     "data": {
      "image/png": "[encoded data removed]",
      "text/plain": [
       "<Figure size 432x288 with 1 Axes>"
      ]
     },
     "metadata": {
      "needs_background": "light"
     },
     "output_type": "display_data"
    }
   ],
   "source": [
    "import matplotlib.pyplot as plt\n",
    "\n",
    "plt.title('Loss history')\n",
    "plt.grid(True)\n",
    "plt.ylabel('Loss')\n",
    "plt.xlabel('Step')\n",
    "plt.plot(train_loss_history, label='train')\n",
    "plt.plot(val_loss_history, label='test')\n",
    "plt.legend()\n",
    "plt.show()"
   ]
  },
  {
   "cell_type": "code",
   "execution_count": 39,
   "id": "23854527",
   "metadata": {
    "execution": {
     "iopub.execute_input": "2022-04-08T17:52:17.720981Z",
     "iopub.status.busy": "2022-04-08T17:52:17.720274Z",
     "iopub.status.idle": "2022-04-08T17:52:19.960467Z",
     "shell.execute_reply": "2022-04-08T17:52:19.959959Z",
     "shell.execute_reply.started": "2022-04-08T17:48:12.150654Z"
    },
    "papermill": {
     "duration": 2.327315,
     "end_time": "2022-04-08T17:52:19.960635",
     "exception": false,
     "start_time": "2022-04-08T17:52:17.633320",
     "status": "completed"
    },
    "tags": []
   },
   "outputs": [
    {
     "data": {
      "text/plain": [
       "(tensor([[2.3550e-09],\n",
       "         [3.3720e-03],\n",
       "         [4.0982e-19],\n",
       "         ...,\n",
       "         [1.0983e-14],\n",
       "         [3.5151e-24],\n",
       "         [1.6699e-07]], grad_fn=<SigmoidBackward>),\n",
       " array([[0],\n",
       "        [0],\n",
       "        [0],\n",
       "        ...,\n",
       "        [0],\n",
       "        [0],\n",
       "        [0]]))"
      ]
     },
     "execution_count": 39,
     "metadata": {},
     "output_type": "execute_result"
    }
   ],
   "source": [
    "# Проверим работу модели - Сделаем предсказание\n",
    "input_test = torch.from_numpy(X_test).long()\n",
    "test_outputs = net(input_test)\n",
    "outputs_labels = np.where(test_outputs > 0.5, 1, 0)\n",
    "test_outputs, outputs_labels"
   ]
  },
  {
   "cell_type": "code",
   "execution_count": 40,
   "id": "9f180f96",
   "metadata": {
    "execution": {
     "iopub.execute_input": "2022-04-08T17:52:20.137731Z",
     "iopub.status.busy": "2022-04-08T17:52:20.136591Z",
     "iopub.status.idle": "2022-04-08T17:52:20.142581Z",
     "shell.execute_reply": "2022-04-08T17:52:20.141981Z",
     "shell.execute_reply.started": "2022-04-08T17:48:15.516038Z"
    },
    "papermill": {
     "duration": 0.09743,
     "end_time": "2022-04-08T17:52:20.142726",
     "exception": false,
     "start_time": "2022-04-08T17:52:20.045296",
     "status": "completed"
    },
    "tags": []
   },
   "outputs": [
    {
     "data": {
      "text/plain": [
       "True"
      ]
     },
     "execution_count": 40,
     "metadata": {},
     "output_type": "execute_result"
    }
   ],
   "source": [
    "X_test.shape[0] == test_outputs.shape[0]"
   ]
  },
  {
   "cell_type": "markdown",
   "id": "45e34c78",
   "metadata": {
    "papermill": {
     "duration": 0.0844,
     "end_time": "2022-04-08T17:52:20.311992",
     "exception": false,
     "start_time": "2022-04-08T17:52:20.227592",
     "status": "completed"
    },
    "tags": []
   },
   "source": [
    "**Выводы:**  \n",
    "Метрика в целом растет немонотонно.  \n",
    "В качестве эксперимента увеличила количество слов в последовательности и количество эпох, а также уменьшила размер батча до 128, но это ожидаемо не оказало влияния на результат.  \n",
    "В целом на средний уровень метрики положительно повлияла балансировка целевых значений в тренировочном датасете, однако подросло и переобучение"
   ]
  }
 ],
 "metadata": {
  "kernelspec": {
   "display_name": "Python 3",
   "language": "python",
   "name": "python3"
  },
  "language_info": {
   "codemirror_mode": {
    "name": "ipython",
    "version": 3
   },
   "file_extension": ".py",
   "mimetype": "text/x-python",
   "name": "python",
   "nbconvert_exporter": "python",
   "pygments_lexer": "ipython3",
   "version": "3.7.12"
  },
  "papermill": {
   "default_parameters": {},
   "duration": 187.862132,
   "end_time": "2022-04-08T17:52:21.708862",
   "environment_variables": {},
   "exception": null,
   "input_path": "__notebook__.ipynb",
   "output_path": "__notebook__.ipynb",
   "parameters": {},
   "start_time": "2022-04-08T17:49:13.846730",
   "version": "2.3.3"
  }
 },
 "nbformat": 4,
 "nbformat_minor": 5
}
