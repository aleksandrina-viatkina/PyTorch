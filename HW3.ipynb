{
 "cells": [
  {
   "cell_type": "markdown",
   "metadata": {
    "id": "KYU83tesWwjo"
   },
   "source": [
    "## Домашнее задание к вебинару 3\n",
    "\n",
    "Исходные данные - датасет недвижимости (sklearn.datasets.fetch_california_housing)\n",
    "   \n",
    "Задание:\n",
    "1. Создать Dataset для загрузки данных    \n",
    "2. Обернуть его в Dataloader     \n",
    "3. Написать архитектуру сети, которая предсказывает стоимость недвижимости.  Сеть должна включать BatchNorm слои и Dropout (или НЕ включать, но нужно обосновать)  \n",
    "5. Сравните сходимость Adam, RMSProp и SGD, сделайте вывод по качеству работы модели\n",
    "       \n",
    "*train-test разделение нужно сделать с помощью sklearn random_state=13, test_size = 0.25"
   ]
  },
  {
   "cell_type": "code",
   "execution_count": 1,
   "metadata": {
    "colab": {
     "base_uri": "https://localhost:8080/"
    },
    "id": "M8g4qJ_G9ulv",
    "outputId": "21f43e7a-7f15-45cc-980a-7d5af27c98a6"
   },
   "outputs": [
    {
     "name": "stdout",
     "output_type": "stream",
     "text": [
      "Collecting torchmetrics\n",
      "  Downloading torchmetrics-0.7.3-py3-none-any.whl (398 kB)\n",
      "\u001b[?25l\r",
      "\u001b[K     |▉                               | 10 kB 22.3 MB/s eta 0:00:01\r",
      "\u001b[K     |█▋                              | 20 kB 24.5 MB/s eta 0:00:01\r",
      "\u001b[K     |██▌                             | 30 kB 12.0 MB/s eta 0:00:01\r",
      "\u001b[K     |███▎                            | 40 kB 4.7 MB/s eta 0:00:01\r",
      "\u001b[K     |████▏                           | 51 kB 4.7 MB/s eta 0:00:01\r",
      "\u001b[K     |█████                           | 61 kB 5.6 MB/s eta 0:00:01\r",
      "\u001b[K     |█████▊                          | 71 kB 5.6 MB/s eta 0:00:01\r",
      "\u001b[K     |██████▋                         | 81 kB 5.7 MB/s eta 0:00:01\r",
      "\u001b[K     |███████▍                        | 92 kB 6.3 MB/s eta 0:00:01\r",
      "\u001b[K     |████████▎                       | 102 kB 5.3 MB/s eta 0:00:01\r",
      "\u001b[K     |█████████                       | 112 kB 5.3 MB/s eta 0:00:01\r",
      "\u001b[K     |█████████▉                      | 122 kB 5.3 MB/s eta 0:00:01\r",
      "\u001b[K     |██████████▊                     | 133 kB 5.3 MB/s eta 0:00:01\r",
      "\u001b[K     |███████████▌                    | 143 kB 5.3 MB/s eta 0:00:01\r",
      "\u001b[K     |████████████▍                   | 153 kB 5.3 MB/s eta 0:00:01\r",
      "\u001b[K     |█████████████▏                  | 163 kB 5.3 MB/s eta 0:00:01\r",
      "\u001b[K     |██████████████                  | 174 kB 5.3 MB/s eta 0:00:01\r",
      "\u001b[K     |██████████████▉                 | 184 kB 5.3 MB/s eta 0:00:01\r",
      "\u001b[K     |███████████████▋                | 194 kB 5.3 MB/s eta 0:00:01\r",
      "\u001b[K     |████████████████▌               | 204 kB 5.3 MB/s eta 0:00:01\r",
      "\u001b[K     |█████████████████▎              | 215 kB 5.3 MB/s eta 0:00:01\r",
      "\u001b[K     |██████████████████              | 225 kB 5.3 MB/s eta 0:00:01\r",
      "\u001b[K     |███████████████████             | 235 kB 5.3 MB/s eta 0:00:01\r",
      "\u001b[K     |███████████████████▊            | 245 kB 5.3 MB/s eta 0:00:01\r",
      "\u001b[K     |████████████████████▋           | 256 kB 5.3 MB/s eta 0:00:01\r",
      "\u001b[K     |█████████████████████▍          | 266 kB 5.3 MB/s eta 0:00:01\r",
      "\u001b[K     |██████████████████████▏         | 276 kB 5.3 MB/s eta 0:00:01\r",
      "\u001b[K     |███████████████████████         | 286 kB 5.3 MB/s eta 0:00:01\r",
      "\u001b[K     |███████████████████████▉        | 296 kB 5.3 MB/s eta 0:00:01\r",
      "\u001b[K     |████████████████████████▊       | 307 kB 5.3 MB/s eta 0:00:01\r",
      "\u001b[K     |█████████████████████████▌      | 317 kB 5.3 MB/s eta 0:00:01\r",
      "\u001b[K     |██████████████████████████▎     | 327 kB 5.3 MB/s eta 0:00:01\r",
      "\u001b[K     |███████████████████████████▏    | 337 kB 5.3 MB/s eta 0:00:01\r",
      "\u001b[K     |████████████████████████████    | 348 kB 5.3 MB/s eta 0:00:01\r",
      "\u001b[K     |████████████████████████████▉   | 358 kB 5.3 MB/s eta 0:00:01\r",
      "\u001b[K     |█████████████████████████████▋  | 368 kB 5.3 MB/s eta 0:00:01\r",
      "\u001b[K     |██████████████████████████████▌ | 378 kB 5.3 MB/s eta 0:00:01\r",
      "\u001b[K     |███████████████████████████████▎| 389 kB 5.3 MB/s eta 0:00:01\r",
      "\u001b[K     |████████████████████████████████| 398 kB 5.3 MB/s \n",
      "\u001b[?25hRequirement already satisfied: numpy>=1.17.2 in /usr/local/lib/python3.7/dist-packages (from torchmetrics) (1.21.5)\n",
      "Collecting pyDeprecate==0.3.*\n",
      "  Downloading pyDeprecate-0.3.2-py3-none-any.whl (10 kB)\n",
      "Requirement already satisfied: packaging in /usr/local/lib/python3.7/dist-packages (from torchmetrics) (21.3)\n",
      "Requirement already satisfied: torch>=1.3.1 in /usr/local/lib/python3.7/dist-packages (from torchmetrics) (1.10.0+cu111)\n",
      "Requirement already satisfied: typing-extensions in /usr/local/lib/python3.7/dist-packages (from torch>=1.3.1->torchmetrics) (3.10.0.2)\n",
      "Requirement already satisfied: pyparsing!=3.0.5,>=2.0.2 in /usr/local/lib/python3.7/dist-packages (from packaging->torchmetrics) (3.0.7)\n",
      "Installing collected packages: pyDeprecate, torchmetrics\n",
      "Successfully installed pyDeprecate-0.3.2 torchmetrics-0.7.3\n"
     ]
    }
   ],
   "source": [
    "pip install torchmetrics"
   ]
  },
  {
   "cell_type": "code",
   "execution_count": 2,
   "metadata": {
    "id": "0roJ2Ie77Q90"
   },
   "outputs": [],
   "source": [
    "import pandas as pd\n",
    "import numpy as np\n",
    "import matplotlib.pyplot as plt\n",
    "\n",
    "from sklearn.datasets import fetch_california_housing\n",
    "from sklearn.model_selection import train_test_split\n",
    "from sklearn.preprocessing import StandardScaler\n",
    "from sklearn.metrics import r2_score\n",
    "\n",
    "import torch\n",
    "import torch.nn as nn\n",
    "import torch.nn.functional as F\n",
    "from torchvision import transforms\n",
    "import torchmetrics"
   ]
  },
  {
   "cell_type": "code",
   "execution_count": 3,
   "metadata": {
    "id": "D1n1UoQUcOGS"
   },
   "outputs": [],
   "source": [
    "X, y = fetch_california_housing(return_X_y = True)"
   ]
  },
  {
   "cell_type": "code",
   "execution_count": 4,
   "metadata": {
    "id": "VBuLOR1UwYb3"
   },
   "outputs": [],
   "source": [
    "X = pd.DataFrame(X, columns = fetch_california_housing().feature_names)"
   ]
  },
  {
   "cell_type": "code",
   "execution_count": 5,
   "metadata": {
    "colab": {
     "base_uri": "https://localhost:8080/",
     "height": 111
    },
    "id": "3QxphRzOwYeP",
    "outputId": "2f69ac90-049d-4ba2-d148-6e7eea24911e"
   },
   "outputs": [
    {
     "data": {
      "text/html": [
       "\n",
       "  <div id=\"df-594fd198-66f8-442a-83cd-04cd8ba043c8\">\n",
       "    <div class=\"colab-df-container\">\n",
       "      <div>\n",
       "<style scoped>\n",
       "    .dataframe tbody tr th:only-of-type {\n",
       "        vertical-align: middle;\n",
       "    }\n",
       "\n",
       "    .dataframe tbody tr th {\n",
       "        vertical-align: top;\n",
       "    }\n",
       "\n",
       "    .dataframe thead th {\n",
       "        text-align: right;\n",
       "    }\n",
       "</style>\n",
       "<table border=\"1\" class=\"dataframe\">\n",
       "  <thead>\n",
       "    <tr style=\"text-align: right;\">\n",
       "      <th></th>\n",
       "      <th>MedInc</th>\n",
       "      <th>HouseAge</th>\n",
       "      <th>AveRooms</th>\n",
       "      <th>AveBedrms</th>\n",
       "      <th>Population</th>\n",
       "      <th>AveOccup</th>\n",
       "      <th>Latitude</th>\n",
       "      <th>Longitude</th>\n",
       "    </tr>\n",
       "  </thead>\n",
       "  <tbody>\n",
       "    <tr>\n",
       "      <th>0</th>\n",
       "      <td>8.3252</td>\n",
       "      <td>41.0</td>\n",
       "      <td>6.984127</td>\n",
       "      <td>1.02381</td>\n",
       "      <td>322.0</td>\n",
       "      <td>2.555556</td>\n",
       "      <td>37.88</td>\n",
       "      <td>-122.23</td>\n",
       "    </tr>\n",
       "    <tr>\n",
       "      <th>1</th>\n",
       "      <td>8.3014</td>\n",
       "      <td>21.0</td>\n",
       "      <td>6.238137</td>\n",
       "      <td>0.97188</td>\n",
       "      <td>2401.0</td>\n",
       "      <td>2.109842</td>\n",
       "      <td>37.86</td>\n",
       "      <td>-122.22</td>\n",
       "    </tr>\n",
       "  </tbody>\n",
       "</table>\n",
       "</div>\n",
       "      <button class=\"colab-df-convert\" onclick=\"convertToInteractive('df-594fd198-66f8-442a-83cd-04cd8ba043c8')\"\n",
       "              title=\"Convert this dataframe to an interactive table.\"\n",
       "              style=\"display:none;\">\n",
       "        \n",
       "  <svg xmlns=\"http://www.w3.org/2000/svg\" height=\"24px\"viewBox=\"0 0 24 24\"\n",
       "       width=\"24px\">\n",
       "    <path d=\"M0 0h24v24H0V0z\" fill=\"none\"/>\n",
       "    <path d=\"M18.56 5.44l.94 2.06.94-2.06 2.06-.94-2.06-.94-.94-2.06-.94 2.06-2.06.94zm-11 1L8.5 8.5l.94-2.06 2.06-.94-2.06-.94L8.5 2.5l-.94 2.06-2.06.94zm10 10l.94 2.06.94-2.06 2.06-.94-2.06-.94-.94-2.06-.94 2.06-2.06.94z\"/><path d=\"M17.41 7.96l-1.37-1.37c-.4-.4-.92-.59-1.43-.59-.52 0-1.04.2-1.43.59L10.3 9.45l-7.72 7.72c-.78.78-.78 2.05 0 2.83L4 21.41c.39.39.9.59 1.41.59.51 0 1.02-.2 1.41-.59l7.78-7.78 2.81-2.81c.8-.78.8-2.07 0-2.86zM5.41 20L4 18.59l7.72-7.72 1.47 1.35L5.41 20z\"/>\n",
       "  </svg>\n",
       "      </button>\n",
       "      \n",
       "  <style>\n",
       "    .colab-df-container {\n",
       "      display:flex;\n",
       "      flex-wrap:wrap;\n",
       "      gap: 12px;\n",
       "    }\n",
       "\n",
       "    .colab-df-convert {\n",
       "      background-color: #E8F0FE;\n",
       "      border: none;\n",
       "      border-radius: 50%;\n",
       "      cursor: pointer;\n",
       "      display: none;\n",
       "      fill: #1967D2;\n",
       "      height: 32px;\n",
       "      padding: 0 0 0 0;\n",
       "      width: 32px;\n",
       "    }\n",
       "\n",
       "    .colab-df-convert:hover {\n",
       "      background-color: #E2EBFA;\n",
       "      box-shadow: 0px 1px 2px rgba(60, 64, 67, 0.3), 0px 1px 3px 1px rgba(60, 64, 67, 0.15);\n",
       "      fill: #174EA6;\n",
       "    }\n",
       "\n",
       "    [theme=dark] .colab-df-convert {\n",
       "      background-color: #3B4455;\n",
       "      fill: #D2E3FC;\n",
       "    }\n",
       "\n",
       "    [theme=dark] .colab-df-convert:hover {\n",
       "      background-color: #434B5C;\n",
       "      box-shadow: 0px 1px 3px 1px rgba(0, 0, 0, 0.15);\n",
       "      filter: drop-shadow(0px 1px 2px rgba(0, 0, 0, 0.3));\n",
       "      fill: #FFFFFF;\n",
       "    }\n",
       "  </style>\n",
       "\n",
       "      <script>\n",
       "        const buttonEl =\n",
       "          document.querySelector('#df-594fd198-66f8-442a-83cd-04cd8ba043c8 button.colab-df-convert');\n",
       "        buttonEl.style.display =\n",
       "          google.colab.kernel.accessAllowed ? 'block' : 'none';\n",
       "\n",
       "        async function convertToInteractive(key) {\n",
       "          const element = document.querySelector('#df-594fd198-66f8-442a-83cd-04cd8ba043c8');\n",
       "          const dataTable =\n",
       "            await google.colab.kernel.invokeFunction('convertToInteractive',\n",
       "                                                     [key], {});\n",
       "          if (!dataTable) return;\n",
       "\n",
       "          const docLinkHtml = 'Like what you see? Visit the ' +\n",
       "            '<a target=\"_blank\" href=https://colab.research.google.com/notebooks/data_table.ipynb>data table notebook</a>'\n",
       "            + ' to learn more about interactive tables.';\n",
       "          element.innerHTML = '';\n",
       "          dataTable['output_type'] = 'display_data';\n",
       "          await google.colab.output.renderOutput(dataTable, element);\n",
       "          const docLink = document.createElement('div');\n",
       "          docLink.innerHTML = docLinkHtml;\n",
       "          element.appendChild(docLink);\n",
       "        }\n",
       "      </script>\n",
       "    </div>\n",
       "  </div>\n",
       "  "
      ],
      "text/plain": [
       "   MedInc  HouseAge  AveRooms  AveBedrms  Population  AveOccup  Latitude  \\\n",
       "0  8.3252      41.0  6.984127    1.02381       322.0  2.555556     37.88   \n",
       "1  8.3014      21.0  6.238137    0.97188      2401.0  2.109842     37.86   \n",
       "\n",
       "   Longitude  \n",
       "0    -122.23  \n",
       "1    -122.22  "
      ]
     },
     "execution_count": 5,
     "metadata": {},
     "output_type": "execute_result"
    }
   ],
   "source": [
    "X.head(2)"
   ]
  },
  {
   "cell_type": "code",
   "execution_count": 6,
   "metadata": {
    "colab": {
     "base_uri": "https://localhost:8080/"
    },
    "id": "FQwvp_3Twjyr",
    "outputId": "53fa20c8-0f88-4882-954a-2385d4e627b6"
   },
   "outputs": [
    {
     "data": {
      "text/plain": [
       "MedInc        0\n",
       "HouseAge      0\n",
       "AveRooms      0\n",
       "AveBedrms     0\n",
       "Population    0\n",
       "AveOccup      0\n",
       "Latitude      0\n",
       "Longitude     0\n",
       "dtype: int64"
      ]
     },
     "execution_count": 6,
     "metadata": {},
     "output_type": "execute_result"
    }
   ],
   "source": [
    "\n",
    "X.isnull().sum()"
   ]
  },
  {
   "cell_type": "markdown",
   "metadata": {
    "id": "lof5cTHZwpwi"
   },
   "source": [
    "Пропусков нет"
   ]
  },
  {
   "cell_type": "markdown",
   "metadata": {
    "id": "qkBqxCFxtLfQ"
   },
   "source": [
    "Разделение на тренировочную и тестовую выборки:"
   ]
  },
  {
   "cell_type": "code",
   "execution_count": 7,
   "metadata": {
    "id": "hvPtlWl7wuT_"
   },
   "outputs": [],
   "source": [
    "X_train, X_test, y_train, y_test = train_test_split(X, y, test_size = 0.25, random_state = 13)"
   ]
  },
  {
   "cell_type": "code",
   "execution_count": 8,
   "metadata": {
    "colab": {
     "base_uri": "https://localhost:8080/"
    },
    "id": "Ijh0xywRhbcs",
    "outputId": "e9dc156f-bfae-4022-cab2-46df0e566dac"
   },
   "outputs": [
    {
     "name": "stdout",
     "output_type": "stream",
     "text": [
      "Train dataset size: (15480, 8) \n",
      "Test dataset size: (5160, 8)\n"
     ]
    }
   ],
   "source": [
    "print(f'Train dataset size: {X_train.shape} \\nTest dataset size: {X_test.shape}')"
   ]
  },
  {
   "cell_type": "code",
   "execution_count": 9,
   "metadata": {
    "colab": {
     "base_uri": "https://localhost:8080/"
    },
    "id": "cvWvkJSqnHNj",
    "outputId": "17a0efef-61c3-4a8c-8285-3a7b8fa37995"
   },
   "outputs": [
    {
     "data": {
      "text/plain": [
       "StandardScaler()"
      ]
     },
     "execution_count": 9,
     "metadata": {},
     "output_type": "execute_result"
    }
   ],
   "source": [
    "#Обучим стандартизатор\n",
    "\n",
    "scaler = StandardScaler()\n",
    "scaler.fit(X_train)\n",
    "\n",
    "# X_train = scaler.fit_transform(X_train)\n",
    "# X_test = scaler.transform(X_test)\n",
    "\n",
    "# X_train = torch.FloatTensor(X_train)\n",
    "# y_train = torch.FloatTensor(y_train)\n",
    "\n",
    "# X_train = torch.FloatTensor(X_train)\n",
    "# y_train = torch.FloatTensor(y_train)"
   ]
  },
  {
   "cell_type": "markdown",
   "metadata": {
    "id": "ZrZNZSBAZ02e"
   },
   "source": [
    "### Создание Dataset и оборчивание его в DataLoader"
   ]
  },
  {
   "cell_type": "code",
   "execution_count": 10,
   "metadata": {
    "id": "mBK6xfIzxQz8"
   },
   "outputs": [],
   "source": [
    "class CreateDataset(torch.utils.data.Dataset):\n",
    "    def __init__(self, init_X, init_y):\n",
    "    \n",
    "        self.init_X = init_X\n",
    "        self.init_y = init_y\n",
    "\n",
    "        # Стадартизация\n",
    "        self.init_X = scaler.transform(self.init_X)\n",
    "\n",
    "        # Перевод в тензоры\n",
    "        self.init_X = torch.FloatTensor(self.init_X)\n",
    "        self.init_y = torch.FloatTensor(self.init_y)\n",
    "    def __len__(self):\n",
    "        # return self.init_x.shape[0]\n",
    "        return len(self.init_X)\n",
    "\n",
    "    def __getitem__(self, index):\n",
    "        return self.init_X[index], self.init_y[index]  "
   ]
  },
  {
   "cell_type": "code",
   "execution_count": 11,
   "metadata": {
    "id": "wGjJGWqHjITo"
   },
   "outputs": [],
   "source": [
    "train_dataset = CreateDataset(X_train, y_train)"
   ]
  },
  {
   "cell_type": "code",
   "execution_count": 12,
   "metadata": {
    "id": "6H6C5OkgoczT"
   },
   "outputs": [],
   "source": [
    "train_dataloader = torch.utils.data.DataLoader(train_dataset,\n",
    "                                               batch_size = 32,\n",
    "                                               shuffle = True,\n",
    "                                               num_workers = 2,\n",
    "                                               drop_last = True)\n"
   ]
  },
  {
   "cell_type": "code",
   "execution_count": 13,
   "metadata": {
    "id": "4TlAUfnFpOwH"
   },
   "outputs": [],
   "source": [
    "test_dataset = CreateDataset(X_test, y_test)\n",
    "test_dataloader = torch.utils.data.DataLoader(test_dataset,\n",
    "                                               batch_size = 12,\n",
    "                                               shuffle = False,\n",
    "                                               drop_last = True)"
   ]
  },
  {
   "cell_type": "code",
   "execution_count": 14,
   "metadata": {
    "colab": {
     "base_uri": "https://localhost:8080/"
    },
    "id": "EBEZ_OVrzofq",
    "outputId": "189ac526-975a-454b-9a9e-86ccf90e0e9b"
   },
   "outputs": [
    {
     "data": {
      "text/plain": [
       "8"
      ]
     },
     "execution_count": 14,
     "metadata": {},
     "output_type": "execute_result"
    }
   ],
   "source": [
    "len(test_dataset.__getitem__(3)[0])"
   ]
  },
  {
   "cell_type": "markdown",
   "metadata": {
    "id": "AEGTQFGIrL8o"
   },
   "source": [
    "### Поcтроение нейронной сети"
   ]
  },
  {
   "cell_type": "code",
   "execution_count": 15,
   "metadata": {
    "id": "RlRlTb8MrKSj"
   },
   "outputs": [],
   "source": [
    "class Perceptron(nn.Module):\n",
    "    def __init__(self, input_dim, output_dim, activation = 'relu'):\n",
    "        super().__init__()\n",
    "        self.fc = nn.Linear(input_dim, output_dim)\n",
    "        self.activation = activation\n",
    "    \n",
    "    def forward(self, x):\n",
    "        x = self.fc(x)\n",
    "        if self.activation == \"relu\":\n",
    "            return F.relu(x)\n",
    "        raise RuntimeError\n",
    "\n",
    "\n",
    "class FeedForward(nn.Module):\n",
    "    def __init__(self, input_dim, hidden_dim):\n",
    "        super().__init__()\n",
    "\n",
    "        # Полносвязные слои\n",
    "\n",
    "        self.bn0 = nn.BatchNorm1d(input_dim)\n",
    "\n",
    "        # 1 слой\n",
    "        self.fc1 = Perceptron(input_dim, 4*hidden_dim)\n",
    "        self.dp1 = nn.Dropout(0.25)\n",
    "        self.bn1 = nn.BatchNorm1d(4*hidden_dim)\n",
    "\n",
    "        # 2 слой\n",
    "        self.fc2 = Perceptron(4*hidden_dim, 2*hidden_dim)\n",
    "        self.dp2 = nn.Dropout(0.25)\n",
    "        self.bn2 = nn.BatchNorm1d(2*hidden_dim)\n",
    "\n",
    "        # 3 слой\n",
    "        self.fc3 = Perceptron(2*hidden_dim, hidden_dim)\n",
    "        self.dp3 = nn.Dropout(0.25)\n",
    "        self.bn3 = nn.BatchNorm1d(hidden_dim)\n",
    "\n",
    "        # 5 слой\n",
    "        self.fc4 = Perceptron(hidden_dim, 1)\n",
    "\n",
    "    def forward(self, x):\n",
    "\n",
    "        x = self.bn0(x)\n",
    "\n",
    "        x = self.fc1(x)\n",
    "        x = self.dp1(x)\n",
    "        x = self.bn1(x)\n",
    "\n",
    "        x = self.fc2(x)\n",
    "        x = self.dp2(x)\n",
    "        x = self.bn2(x)\n",
    "\n",
    "        x = self.fc3(x)\n",
    "        x = self.dp3(x)\n",
    "        x = self.bn3(x)\n",
    "\n",
    "        x = self.fc4(x)\n",
    "        return x\n"
   ]
  },
  {
   "cell_type": "code",
   "execution_count": 16,
   "metadata": {
    "id": "QcOl8dPO1SYL"
   },
   "outputs": [],
   "source": [
    "net = FeedForward(8, 300)\n",
    "\n",
    "optimizer = torch.optim.Adam(net.parameters(), lr=0.001)\n",
    "criterion = nn.MSELoss()"
   ]
  },
  {
   "cell_type": "markdown",
   "metadata": {
    "id": "kBh2Vc1RdzIr"
   },
   "source": [
    "Тестовое обучение сети (запустиим сеть для примера)"
   ]
  },
  {
   "cell_type": "code",
   "execution_count": 17,
   "metadata": {
    "colab": {
     "base_uri": "https://localhost:8080/"
    },
    "id": "LRSvVO7P3p9o",
    "outputId": "11732079-e532-4c46-f85e-afd47f8bf295"
   },
   "outputs": [
    {
     "name": "stdout",
     "output_type": "stream",
     "text": [
      "Epoch [1/10]. Step [1/483]. Loss: 0.127. r2_train: -2.678, . Test loss: 200.345. r2_val: -3.137\n",
      "Epoch [1/10]. Step [201/483]. Loss: 0.021. r2_train: 0.479, . Test loss: 15.135. r2_val: 0.687\n",
      "Epoch [1/10]. Step [401/483]. Loss: 0.013. r2_train: 0.685, . Test loss: 14.077. r2_val: 0.709\n",
      "Epoch [2/10]. Step [1/483]. Loss: 0.017. r2_train: 0.663, . Test loss: 14.576. r2_val: 0.699\n",
      "Epoch [2/10]. Step [201/483]. Loss: 0.013. r2_train: 0.701, . Test loss: 14.615. r2_val: 0.698\n",
      "Epoch [2/10]. Step [401/483]. Loss: 0.011. r2_train: 0.732, . Test loss: 14.806. r2_val: 0.694\n",
      "Epoch [3/10]. Step [1/483]. Loss: 0.013. r2_train: 0.734, . Test loss: 12.246. r2_val: 0.747\n",
      "Epoch [3/10]. Step [201/483]. Loss: 0.010. r2_train: 0.747, . Test loss: 14.780. r2_val: 0.695\n",
      "Epoch [3/10]. Step [401/483]. Loss: 0.013. r2_train: 0.679, . Test loss: 13.445. r2_val: 0.722\n",
      "Epoch [4/10]. Step [1/483]. Loss: 0.013. r2_train: 0.749, . Test loss: 11.986. r2_val: 0.752\n",
      "Epoch [4/10]. Step [201/483]. Loss: 0.010. r2_train: 0.762, . Test loss: 16.634. r2_val: 0.656\n",
      "Epoch [4/10]. Step [401/483]. Loss: 0.077. r2_train: -0.879, . Test loss: 12.827. r2_val: 0.735\n",
      "Epoch [5/10]. Step [1/483]. Loss: 0.026. r2_train: 0.721, . Test loss: 11.574. r2_val: 0.761\n",
      "Epoch [5/10]. Step [201/483]. Loss: 0.010. r2_train: 0.762, . Test loss: 11.864. r2_val: 0.755\n",
      "Epoch [5/10]. Step [401/483]. Loss: 0.009. r2_train: 0.780, . Test loss: 11.301. r2_val: 0.767\n",
      "Epoch [6/10]. Step [1/483]. Loss: 0.022. r2_train: 0.760, . Test loss: 12.194. r2_val: 0.748\n",
      "Epoch [6/10]. Step [201/483]. Loss: 0.009. r2_train: 0.776, . Test loss: 11.055. r2_val: 0.772\n",
      "Epoch [6/10]. Step [401/483]. Loss: 0.010. r2_train: 0.771, . Test loss: 11.505. r2_val: 0.762\n",
      "Epoch [7/10]. Step [1/483]. Loss: 0.008. r2_train: 0.784, . Test loss: 11.131. r2_val: 0.770\n",
      "Epoch [7/10]. Step [201/483]. Loss: 0.009. r2_train: 0.782, . Test loss: 11.354. r2_val: 0.766\n",
      "Epoch [7/10]. Step [401/483]. Loss: 0.009. r2_train: 0.783, . Test loss: 10.862. r2_val: 0.776\n",
      "Epoch [8/10]. Step [1/483]. Loss: 0.015. r2_train: 0.756, . Test loss: 10.809. r2_val: 0.777\n",
      "Epoch [8/10]. Step [201/483]. Loss: 0.009. r2_train: 0.779, . Test loss: 10.594. r2_val: 0.781\n",
      "Epoch [8/10]. Step [401/483]. Loss: 0.009. r2_train: 0.792, . Test loss: 10.884. r2_val: 0.775\n",
      "Epoch [9/10]. Step [1/483]. Loss: 0.018. r2_train: 0.772, . Test loss: 10.665. r2_val: 0.780\n",
      "Epoch [9/10]. Step [201/483]. Loss: 0.009. r2_train: 0.794, . Test loss: 10.334. r2_val: 0.787\n",
      "Epoch [9/10]. Step [401/483]. Loss: 0.009. r2_train: 0.782, . Test loss: 11.037. r2_val: 0.772\n",
      "Epoch [10/10]. Step [1/483]. Loss: 0.007. r2_train: 0.793, . Test loss: 10.324. r2_val: 0.787\n",
      "Epoch [10/10]. Step [201/483]. Loss: 0.009. r2_train: 0.783, . Test loss: 10.506. r2_val: 0.783\n",
      "Epoch [10/10]. Step [401/483]. Loss: 0.008. r2_train: 0.800, . Test loss: 10.725. r2_val: 0.779\n",
      "Training is finished!\n"
     ]
    }
   ],
   "source": [
    "num_epochs = 10\n",
    "\n",
    "train_r2 = torchmetrics.R2Score()\n",
    "test_r2 = torchmetrics.R2Score()\n",
    "\n",
    "net.train()\n",
    "\n",
    "for epoch in range(num_epochs):  \n",
    "    running_loss, running_items = 0.0, 0.0\n",
    "\n",
    "    for i, data in enumerate(train_dataloader):\n",
    "        \n",
    "        inputs, values = data[0], data[1]\n",
    "\n",
    "        # обнуляем градиент\n",
    "        optimizer.zero_grad()\n",
    "\n",
    "        outputs = net(inputs)\n",
    "        train_r2(outputs.squeeze(), values)\n",
    "        loss = criterion(outputs.squeeze(), values)\n",
    "        loss.backward()\n",
    "        optimizer.step()\n",
    "\n",
    "        # выводим статистику о процессе обучения\n",
    "        running_loss += loss.item()\n",
    "        running_items += len(values)\n",
    "  \n",
    "        \n",
    "        # выводим статистику о процессе обучения\n",
    "        if i % 200 == 0:    # печатаем каждые 200 mini-batches\n",
    "            net.eval()\n",
    "            print(\n",
    "                f'Epoch [{epoch + 1}/{num_epochs}]. '\\\n",
    "                f'Step [{i + 1}/{len(train_dataloader)}]. ' \\\n",
    "                f'Loss: {running_loss / running_items:.3f}. ' \\\n",
    "                f'r2_train: {train_r2.compute().item():.3f}, ', end='. ')\n",
    "\n",
    "                # f'R2: {1 - ((running_loss/running_items)/((values - values.mean())**2).sum()):.3f}', end='. ')\n",
    "            running_loss, running_items = 0.0, 0.0\n",
    "            train_r2.reset()\n",
    "            \n",
    "            test_loss = 0.0\n",
    "            for i, data in enumerate(test_dataloader):\n",
    "           \n",
    "                test_true_values = data[1]\n",
    "                test_outputs = net(data[0])\n",
    "                test_loss += criterion(test_outputs.squeeze(), test_true_values).item()\n",
    "                test_r2(test_outputs.squeeze(), test_true_values)\n",
    "            \n",
    "            print(f'Test loss: {test_loss / len(test_true_values):.3f}. ' \\\n",
    "                  f'r2_val: {test_r2.compute():.3f}')\n",
    "            test_r2.reset()\n",
    "            \n",
    "            \n",
    "\n",
    "print('Training is finished!')"
   ]
  },
  {
   "cell_type": "markdown",
   "metadata": {
    "id": "UL4kBtEY86wF"
   },
   "source": [
    "### Сравнение сходимости Adam, RMSProp и SGD"
   ]
  },
  {
   "cell_type": "code",
   "execution_count": 18,
   "metadata": {
    "id": "FT8314yRnPx6"
   },
   "outputs": [],
   "source": [
    "# Функция для тренировки сети\n",
    "\n",
    "def train_evaluation_net(model, optimizer, num_epochs):    \n",
    "    \n",
    "    train_r2 = torchmetrics.R2Score()\n",
    "    test_r2 = torchmetrics.R2Score()\n",
    "    \n",
    "    r2_train_list = []\n",
    "    r2_test_list = []\n",
    "    \n",
    "    for epoch in range(num_epochs):\n",
    "        \n",
    "        model.train()\n",
    "        for i, data in enumerate(train_dataloader):\n",
    "            inputs, target = data[0], data[1] # входные данные с лейблами\n",
    "            # Обнуляем градиент\n",
    "            optimizer.zero_grad()\n",
    "            # Делаем предсказание\n",
    "            outputs = model(inputs)\n",
    "            #метрика\n",
    "            batch_r2 = train_r2(outputs.squeeze(), target)\n",
    "            # Рассчитываем лосс-функцию (функцию потерь)\n",
    "            loss = criterion(outputs.squeeze(), target)\n",
    "            # Вычисляем градиент\n",
    "            loss.backward()\n",
    "            # Обновляем веса (делаем шаг оптимайзера)\n",
    "            optimizer.step()\n",
    "        \n",
    "        model.eval()\n",
    "        for i, data in enumerate(test_dataloader):\n",
    "            inputs, target = data[0], data[1]\n",
    "            outputs = model(inputs)\n",
    "            test_r2(outputs.squeeze(), target)\n",
    "\n",
    "        # Общий train r2 по всем батчам\n",
    "        total_train_r2 = train_r2.compute()\n",
    "        # Общий test r2 по всем батчам\n",
    "        total_test_r2 = test_r2.compute()\n",
    "        \n",
    "        r2_train_list.append(total_train_r2)\n",
    "        r2_test_list.append(total_test_r2)\n",
    "        print(f'Epoch {epoch+1}: r2_train = {total_train_r2}, r2_val = {total_test_r2}')\n",
    "\n",
    "        #reset for next epoch\n",
    "        train_r2.reset()\n",
    "        test_r2.reset()\n",
    "\n",
    "    plt.plot(r2_train_list,label='R2_train', color = 'green')\n",
    "    plt.plot(r2_test_list,label='R2_test', color = 'blue')\n",
    "\n",
    "    plt.title(f'R2 score with {str(optimizer).split(\" \")[0]} by epochs')\n",
    "    plt.ylabel('R2_score')   \n",
    "    plt.xlabel('epochs') \n",
    "    plt.legend()\n",
    "    plt.show()\n",
    "    \n",
    "    return r2_train_list, r2_test_list"
   ]
  },
  {
   "cell_type": "code",
   "execution_count": 19,
   "metadata": {
    "id": "j2e7MGVchqOB"
   },
   "outputs": [],
   "source": [
    "lr = 0.001"
   ]
  },
  {
   "cell_type": "markdown",
   "metadata": {
    "id": "K99uGuRg7TW7"
   },
   "source": [
    "### Adam"
   ]
  },
  {
   "cell_type": "code",
   "execution_count": 23,
   "metadata": {
    "colab": {
     "base_uri": "https://localhost:8080/",
     "height": 499
    },
    "id": "daytJ4AorM0U",
    "outputId": "9aa5ad83-f307-4589-dc5c-21d367763a5d"
   },
   "outputs": [
    {
     "name": "stdout",
     "output_type": "stream",
     "text": [
      "Epoch 1: r2_train = 0.31043893098831177, r2_val = 0.3842482566833496\n",
      "Epoch 2: r2_train = 0.5338366627693176, r2_val = 0.6371292471885681\n",
      "Epoch 3: r2_train = 0.5888841152191162, r2_val = 0.6639417409896851\n",
      "Epoch 4: r2_train = 0.6036523580551147, r2_val = 0.639939546585083\n",
      "Epoch 5: r2_train = 0.6272827386856079, r2_val = 0.6546289324760437\n",
      "Epoch 6: r2_train = 0.6440117359161377, r2_val = 0.7076253890991211\n",
      "Epoch 7: r2_train = 0.6540996432304382, r2_val = 0.6846468448638916\n",
      "Epoch 8: r2_train = 0.6660774946212769, r2_val = 0.6584658622741699\n",
      "Epoch 9: r2_train = 0.6757571697235107, r2_val = 0.6569647789001465\n",
      "Epoch 10: r2_train = 0.6799006462097168, r2_val = 0.7280850410461426\n",
      "Epoch 11: r2_train = 0.6763889789581299, r2_val = 0.6343644857406616\n",
      "Epoch 12: r2_train = 0.6849367618560791, r2_val = 0.729308545589447\n"
     ]
    },
    {
     "data": {
      "image/png": "[encoded data removed]",
      "text/plain": [
       "<Figure size 432x288 with 1 Axes>"
      ]
     },
     "metadata": {
      "needs_background": "light"
     },
     "output_type": "display_data"
    }
   ],
   "source": [
    "net = FeedForward(8, 300)\n",
    "optimizer = torch.optim.Adam(net.parameters(), lr=lr)\n",
    "r2_train_list, r2_test_list = train_evaluation_net(net, optimizer, 12)"
   ]
  },
  {
   "cell_type": "markdown",
   "metadata": {
    "id": "lApGsl1Q7Z2l"
   },
   "source": [
    "### SGD"
   ]
  },
  {
   "cell_type": "code",
   "execution_count": 21,
   "metadata": {
    "colab": {
     "base_uri": "https://localhost:8080/",
     "height": 499
    },
    "id": "3FhGzMAFhKdP",
    "outputId": "b9ed44ff-0d07-402c-f77c-1f6e1c846423"
   },
   "outputs": [
    {
     "name": "stdout",
     "output_type": "stream",
     "text": [
      "Epoch 1: r2_train = 0.14787817001342773, r2_val = 0.5353310108184814\n",
      "Epoch 2: r2_train = 0.4776027798652649, r2_val = 0.6418355703353882\n",
      "Epoch 3: r2_train = 0.6256662607192993, r2_val = 0.6928507089614868\n",
      "Epoch 4: r2_train = 0.6267226338386536, r2_val = 0.6426570415496826\n",
      "Epoch 5: r2_train = 0.641450047492981, r2_val = 0.5871254801750183\n",
      "Epoch 6: r2_train = 0.6473817229270935, r2_val = 0.6262831687927246\n",
      "Epoch 7: r2_train = 0.6516765356063843, r2_val = 0.6757428050041199\n",
      "Epoch 8: r2_train = 0.6550889015197754, r2_val = 0.6716107726097107\n",
      "Epoch 9: r2_train = 0.6600609421730042, r2_val = 0.6186977624893188\n",
      "Epoch 10: r2_train = 0.6589206457138062, r2_val = 0.7228320837020874\n",
      "Epoch 11: r2_train = 0.6623678207397461, r2_val = 0.7387346029281616\n",
      "Epoch 12: r2_train = 0.6665815711021423, r2_val = 0.737203061580658\n"
     ]
    },
    {
     "data": {
      "image/png": "[encoded data removed]",
      "text/plain": [
       "<Figure size 432x288 with 1 Axes>"
      ]
     },
     "metadata": {
      "needs_background": "light"
     },
     "output_type": "display_data"
    }
   ],
   "source": [
    "net = FeedForward(8, 300)\n",
    "optimizer = torch.optim.SGD(net.parameters(), lr=lr, momentum =0.9)\n",
    "r2_train_list, r2_test_list = train_evaluation_net(net, optimizer, 12)"
   ]
  },
  {
   "cell_type": "markdown",
   "metadata": {
    "id": "mg7KNn127cFS"
   },
   "source": [
    "### RMSprop"
   ]
  },
  {
   "cell_type": "code",
   "execution_count": 27,
   "metadata": {
    "colab": {
     "base_uri": "https://localhost:8080/",
     "height": 499
    },
    "id": "xOuRHz7DhhJT",
    "outputId": "2efa960b-b702-475b-a4d9-587e218b4b1c"
   },
   "outputs": [
    {
     "name": "stdout",
     "output_type": "stream",
     "text": [
      "Epoch 1: r2_train = 0.35791999101638794, r2_val = 0.5421984195709229\n",
      "Epoch 2: r2_train = 0.5499981641769409, r2_val = 0.6402336359024048\n",
      "Epoch 3: r2_train = 0.5865658521652222, r2_val = 0.6011302471160889\n",
      "Epoch 4: r2_train = 0.6094961166381836, r2_val = 0.6988927125930786\n",
      "Epoch 5: r2_train = 0.6260003447532654, r2_val = 0.6515076756477356\n",
      "Epoch 6: r2_train = 0.6427140831947327, r2_val = 0.5866389274597168\n",
      "Epoch 7: r2_train = 0.644845187664032, r2_val = 0.5928153991699219\n",
      "Epoch 8: r2_train = 0.6498227119445801, r2_val = 0.38912296295166016\n",
      "Epoch 9: r2_train = 0.6712137460708618, r2_val = 0.665617823600769\n",
      "Epoch 10: r2_train = 0.6753650903701782, r2_val = 0.5792835354804993\n",
      "Epoch 11: r2_train = 0.6773927211761475, r2_val = 0.6310274600982666\n",
      "Epoch 12: r2_train = 0.6844010353088379, r2_val = 0.7191394567489624\n"
     ]
    },
    {
     "data": {
      "image/png": "[encoded data removed]",
      "text/plain": [
       "<Figure size 432x288 with 1 Axes>"
      ]
     },
     "metadata": {
      "needs_background": "light"
     },
     "output_type": "display_data"
    }
   ],
   "source": [
    "net = FeedForward(8, 300)\n",
    "optimizer = torch.optim.RMSprop(net.parameters(), lr=lr)\n",
    "r2_train_list, r2_test_list = train_evaluation_net(net, optimizer, 12)"
   ]
  },
  {
   "cell_type": "code",
   "execution_count": 40,
   "metadata": {
    "colab": {
     "base_uri": "https://localhost:8080/",
     "height": 499
    },
    "id": "SdlnaUDGwNvP",
    "outputId": "0e78467f-7585-468f-f16e-0b1735e92250"
   },
   "outputs": [
    {
     "name": "stdout",
     "output_type": "stream",
     "text": [
      "Epoch 1: r2_train = 0.37298399209976196, r2_val = 0.6086758375167847\n",
      "Epoch 2: r2_train = 0.5710225105285645, r2_val = 0.5527094602584839\n",
      "Epoch 3: r2_train = 0.5910470485687256, r2_val = 0.6852231025695801\n",
      "Epoch 4: r2_train = 0.6132402420043945, r2_val = 0.6129491329193115\n",
      "Epoch 5: r2_train = 0.6374365091323853, r2_val = 0.7219421863555908\n",
      "Epoch 6: r2_train = 0.6513657569885254, r2_val = 0.7169240713119507\n",
      "Epoch 7: r2_train = 0.6408841609954834, r2_val = 0.6923370957374573\n",
      "Epoch 8: r2_train = 0.6518065929412842, r2_val = 0.7350881099700928\n",
      "Epoch 9: r2_train = 0.6686909198760986, r2_val = 0.7126224040985107\n",
      "Epoch 10: r2_train = 0.6711776852607727, r2_val = 0.7369186878204346\n",
      "Epoch 11: r2_train = 0.6860902905464172, r2_val = 0.6424620151519775\n",
      "Epoch 12: r2_train = 0.6836012601852417, r2_val = 0.7030535936355591\n"
     ]
    },
    {
     "data": {
      "image/png": "[encoded data removed]",
      "text/plain": [
       "<Figure size 432x288 with 1 Axes>"
      ]
     },
     "metadata": {
      "needs_background": "light"
     },
     "output_type": "display_data"
    }
   ],
   "source": [
    "net = FeedForward(8, 300)\n",
    "optimizer = torch.optim.RMSprop(net.parameters(), lr=lr)\n",
    "r2_train_list, r2_test_list = train_evaluation_net(net, optimizer, 12)"
   ]
  },
  {
   "cell_type": "code",
   "execution_count": 39,
   "metadata": {
    "colab": {
     "base_uri": "https://localhost:8080/",
     "height": 499
    },
    "id": "K2matvIcyqRg",
    "outputId": "f7f5d283-4c20-4ad1-fb2d-003f5d24eec2"
   },
   "outputs": [
    {
     "name": "stdout",
     "output_type": "stream",
     "text": [
      "Epoch 1: r2_train = 0.32539474964141846, r2_val = 0.5611470937728882\n",
      "Epoch 2: r2_train = 0.5153038501739502, r2_val = 0.6667014956474304\n",
      "Epoch 3: r2_train = 0.5692684650421143, r2_val = 0.6499766707420349\n",
      "Epoch 4: r2_train = 0.5998649597167969, r2_val = 0.6906926035881042\n",
      "Epoch 5: r2_train = 0.6143993735313416, r2_val = 0.6833257079124451\n",
      "Epoch 6: r2_train = 0.6396975517272949, r2_val = 0.6904148459434509\n",
      "Epoch 7: r2_train = 0.653110146522522, r2_val = 0.6338064670562744\n",
      "Epoch 8: r2_train = 0.6670893430709839, r2_val = 0.7352559566497803\n",
      "Epoch 9: r2_train = 0.6716587543487549, r2_val = 0.6372586488723755\n",
      "Epoch 10: r2_train = 0.6775051355361938, r2_val = 0.6608680486679077\n",
      "Epoch 11: r2_train = 0.685413658618927, r2_val = 0.7156723737716675\n",
      "Epoch 12: r2_train = 0.6875231862068176, r2_val = 0.6656528115272522\n"
     ]
    },
    {
     "data": {
      "image/png": "[encoded data removed]",
      "text/plain": [
       "<Figure size 432x288 with 1 Axes>"
      ]
     },
     "metadata": {
      "needs_background": "light"
     },
     "output_type": "display_data"
    }
   ],
   "source": [
    "net = FeedForward(8, 300)\n",
    "optimizer = torch.optim.RMSprop(net.parameters(), lr=lr)\n",
    "r2_train_list, r2_test_list = train_evaluation_net(net, optimizer, 12)"
   ]
  },
  {
   "cell_type": "markdown",
   "metadata": {
    "id": "VAA0vOLVKJrx"
   },
   "source": [
    "**Вывод:**  \n",
    "В целом все оптимизаторы показывают себя хорошо и стабильно, наилучшие результаты показал, как ни странно, **SGD**, однако его преимущество перед другими оптимизаторами минимально"
   ]
  }
 ],
 "metadata": {
  "accelerator": "GPU",
  "colab": {
   "collapsed_sections": [],
   "name": "HW3_final.ipynb",
   "provenance": []
  },
  "kernelspec": {
   "display_name": "Python 3",
   "language": "python",
   "name": "python3"
  },
  "language_info": {
   "codemirror_mode": {
    "name": "ipython",
    "version": 3
   },
   "file_extension": ".py",
   "mimetype": "text/x-python",
   "name": "python",
   "nbconvert_exporter": "python",
   "pygments_lexer": "ipython3",
   "version": "3.9.2"
  }
 },
 "nbformat": 4,
 "nbformat_minor": 1
}
