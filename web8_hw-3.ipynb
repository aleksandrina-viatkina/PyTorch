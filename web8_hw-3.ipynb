{
 "cells": [
  {
   "cell_type": "markdown",
   "metadata": {
    "id": "enxREkB55eGD"
   },
   "source": [
    "## Домашнее задание №8\n",
    "\n",
    "1. Обучить генератор создавать точки, которые будут лежать на графике функции \n",
    " $$y = \\frac{sin(x)}{x} - \\frac{x}{10}$$\n",
    "При выполнении данного задания структура GAN остается той же, но Вам нужно:\n",
    "- Сгенерировать настоящие данные\n",
    "- Изменить архитектуру дискриминатора и генератора\n",
    "- Построить графики\n"
   ]
  },
  {
   "cell_type": "code",
   "execution_count": 29,
   "metadata": {
    "id": "kZfvevPv5iLN"
   },
   "outputs": [],
   "source": [
    "import numpy as np\n",
    "import pandas as pd\n",
    "import random\n",
    "from sklearn.preprocessing import StandardScaler, MinMaxScaler\n",
    "\n",
    "import matplotlib.pyplot as plt\n",
    "import matplotlib.patches as mpatches\n",
    "\n",
    "import torch\n",
    "import torch.nn as nn\n",
    "from torch.utils.data import DataLoader\n",
    "from torchvision import datasets\n",
    "\n",
    "from IPython.display import clear_output "
   ]
  },
  {
   "cell_type": "code",
   "execution_count": 9,
   "metadata": {
    "id": "YsRzqx1j9E9E"
   },
   "outputs": [],
   "source": [
    "# Зададим функцию\n",
    "\n",
    "def function(x):\n",
    "    return (np.sin(x)/x) - (x/10)"
   ]
  },
  {
   "cell_type": "code",
   "execution_count": 10,
   "metadata": {
    "colab": {
     "base_uri": "https://localhost:8080/"
    },
    "id": "sRQTvqQ4-L-H",
    "outputId": "be338d5e-f73e-4519-bc23-614e391d3f36"
   },
   "outputs": [
    {
     "data": {
      "text/plain": [
       "0.25464871341284084"
      ]
     },
     "execution_count": 10,
     "metadata": {},
     "output_type": "execute_result"
    }
   ],
   "source": [
    "# Вызовем пример \n",
    "function(2)"
   ]
  },
  {
   "cell_type": "code",
   "execution_count": 11,
   "metadata": {
    "colab": {
     "base_uri": "https://localhost:8080/",
     "height": 320
    },
    "id": "JF7aU31G-NIg",
    "outputId": "6e0e7422-b284-44c0-eddb-321f57bceef3"
   },
   "outputs": [
    {
     "data": {
      "image/png": "[encoded data removed]",
      "text/plain": [
       "<Figure size 360x360 with 1 Axes>"
      ]
     },
     "metadata": {
      "needs_background": "light"
     },
     "output_type": "display_data"
    }
   ],
   "source": [
    "# Визуализируем график функции\n",
    "\n",
    "fig, ax = plt.subplots(figsize=(5, 5))\n",
    "\n",
    "\n",
    "# область графика\n",
    "x = np.linspace(-10, 10, 30)\n",
    "\n",
    "# рисуем точки \n",
    "ax.scatter(x, function(x), color='red')\n",
    "\n",
    "# рисуем график\n",
    "plt.plot(x, function(x), color='green')\n",
    "\n",
    "plt.show()"
   ]
  },
  {
   "cell_type": "markdown",
   "metadata": {
    "id": "41VHbGTP_uri"
   },
   "source": [
    "#### 1. Генерация настоящих данных"
   ]
  },
  {
   "cell_type": "code",
   "execution_count": 43,
   "metadata": {
    "colab": {
     "base_uri": "https://localhost:8080/",
     "height": 142
    },
    "id": "TLt6naHE_HRg",
    "outputId": "7e4c7867-22cf-4f19-c437-de7e5dc1ca4c"
   },
   "outputs": [
    {
     "data": {
      "text/html": [
       "\n",
       "  <div id=\"df-4bda6e5e-0b8d-49a1-8871-3dfb74b52221\">\n",
       "    <div class=\"colab-df-container\">\n",
       "      <div>\n",
       "<style scoped>\n",
       "    .dataframe tbody tr th:only-of-type {\n",
       "        vertical-align: middle;\n",
       "    }\n",
       "\n",
       "    .dataframe tbody tr th {\n",
       "        vertical-align: top;\n",
       "    }\n",
       "\n",
       "    .dataframe thead th {\n",
       "        text-align: right;\n",
       "    }\n",
       "</style>\n",
       "<table border=\"1\" class=\"dataframe\">\n",
       "  <thead>\n",
       "    <tr style=\"text-align: right;\">\n",
       "      <th></th>\n",
       "      <th>x</th>\n",
       "      <th>y</th>\n",
       "    </tr>\n",
       "  </thead>\n",
       "  <tbody>\n",
       "    <tr>\n",
       "      <th>0</th>\n",
       "      <td>9.551443</td>\n",
       "      <td>-0.968370</td>\n",
       "    </tr>\n",
       "    <tr>\n",
       "      <th>1</th>\n",
       "      <td>8.620453</td>\n",
       "      <td>-0.778481</td>\n",
       "    </tr>\n",
       "    <tr>\n",
       "      <th>2</th>\n",
       "      <td>0.640336</td>\n",
       "      <td>0.869015</td>\n",
       "    </tr>\n",
       "  </tbody>\n",
       "</table>\n",
       "</div>\n",
       "      <button class=\"colab-df-convert\" onclick=\"convertToInteractive('df-4bda6e5e-0b8d-49a1-8871-3dfb74b52221')\"\n",
       "              title=\"Convert this dataframe to an interactive table.\"\n",
       "              style=\"display:none;\">\n",
       "        \n",
       "  <svg xmlns=\"http://www.w3.org/2000/svg\" height=\"24px\"viewBox=\"0 0 24 24\"\n",
       "       width=\"24px\">\n",
       "    <path d=\"M0 0h24v24H0V0z\" fill=\"none\"/>\n",
       "    <path d=\"M18.56 5.44l.94 2.06.94-2.06 2.06-.94-2.06-.94-.94-2.06-.94 2.06-2.06.94zm-11 1L8.5 8.5l.94-2.06 2.06-.94-2.06-.94L8.5 2.5l-.94 2.06-2.06.94zm10 10l.94 2.06.94-2.06 2.06-.94-2.06-.94-.94-2.06-.94 2.06-2.06.94z\"/><path d=\"M17.41 7.96l-1.37-1.37c-.4-.4-.92-.59-1.43-.59-.52 0-1.04.2-1.43.59L10.3 9.45l-7.72 7.72c-.78.78-.78 2.05 0 2.83L4 21.41c.39.39.9.59 1.41.59.51 0 1.02-.2 1.41-.59l7.78-7.78 2.81-2.81c.8-.78.8-2.07 0-2.86zM5.41 20L4 18.59l7.72-7.72 1.47 1.35L5.41 20z\"/>\n",
       "  </svg>\n",
       "      </button>\n",
       "      \n",
       "  <style>\n",
       "    .colab-df-container {\n",
       "      display:flex;\n",
       "      flex-wrap:wrap;\n",
       "      gap: 12px;\n",
       "    }\n",
       "\n",
       "    .colab-df-convert {\n",
       "      background-color: #E8F0FE;\n",
       "      border: none;\n",
       "      border-radius: 50%;\n",
       "      cursor: pointer;\n",
       "      display: none;\n",
       "      fill: #1967D2;\n",
       "      height: 32px;\n",
       "      padding: 0 0 0 0;\n",
       "      width: 32px;\n",
       "    }\n",
       "\n",
       "    .colab-df-convert:hover {\n",
       "      background-color: #E2EBFA;\n",
       "      box-shadow: 0px 1px 2px rgba(60, 64, 67, 0.3), 0px 1px 3px 1px rgba(60, 64, 67, 0.15);\n",
       "      fill: #174EA6;\n",
       "    }\n",
       "\n",
       "    [theme=dark] .colab-df-convert {\n",
       "      background-color: #3B4455;\n",
       "      fill: #D2E3FC;\n",
       "    }\n",
       "\n",
       "    [theme=dark] .colab-df-convert:hover {\n",
       "      background-color: #434B5C;\n",
       "      box-shadow: 0px 1px 3px 1px rgba(0, 0, 0, 0.15);\n",
       "      filter: drop-shadow(0px 1px 2px rgba(0, 0, 0, 0.3));\n",
       "      fill: #FFFFFF;\n",
       "    }\n",
       "  </style>\n",
       "\n",
       "      <script>\n",
       "        const buttonEl =\n",
       "          document.querySelector('#df-4bda6e5e-0b8d-49a1-8871-3dfb74b52221 button.colab-df-convert');\n",
       "        buttonEl.style.display =\n",
       "          google.colab.kernel.accessAllowed ? 'block' : 'none';\n",
       "\n",
       "        async function convertToInteractive(key) {\n",
       "          const element = document.querySelector('#df-4bda6e5e-0b8d-49a1-8871-3dfb74b52221');\n",
       "          const dataTable =\n",
       "            await google.colab.kernel.invokeFunction('convertToInteractive',\n",
       "                                                     [key], {});\n",
       "          if (!dataTable) return;\n",
       "\n",
       "          const docLinkHtml = 'Like what you see? Visit the ' +\n",
       "            '<a target=\"_blank\" href=https://colab.research.google.com/notebooks/data_table.ipynb>data table notebook</a>'\n",
       "            + ' to learn more about interactive tables.';\n",
       "          element.innerHTML = '';\n",
       "          dataTable['output_type'] = 'display_data';\n",
       "          await google.colab.output.renderOutput(dataTable, element);\n",
       "          const docLink = document.createElement('div');\n",
       "          docLink.innerHTML = docLinkHtml;\n",
       "          element.appendChild(docLink);\n",
       "        }\n",
       "      </script>\n",
       "    </div>\n",
       "  </div>\n",
       "  "
      ],
      "text/plain": [
       "          x         y\n",
       "0  9.551443 -0.968370\n",
       "1  8.620453 -0.778481\n",
       "2  0.640336  0.869015"
      ]
     },
     "execution_count": 43,
     "metadata": {},
     "output_type": "execute_result"
    }
   ],
   "source": [
    "x = np.random.uniform(0, 10, size=(1, 400000))[0]\n",
    "\n",
    "data_train = pd.DataFrame({'x': x,\n",
    "                           'y': function(x)})\n",
    "data_train.head(3)"
   ]
  },
  {
   "cell_type": "code",
   "execution_count": 44,
   "metadata": {
    "id": "iH9NMKdNAuPy"
   },
   "outputs": [],
   "source": [
    "# Сделаем стандартизацию\n",
    "\n",
    "scaler = MinMaxScaler()\n",
    "data_train = scaler.fit_transform(data_train)  \n",
    "data_train = torch.FloatTensor(data_train)"
   ]
  },
  {
   "cell_type": "code",
   "execution_count": 45,
   "metadata": {
    "id": "xsJWGHyaC7mc"
   },
   "outputs": [],
   "source": [
    "# Сделаем класс dataset и dataloader\n",
    "\n",
    "class CustomDataset(torch.utils.data.Dataset):\n",
    "    def __init__(self, data):\n",
    "        # scaler = StandardScaler()\n",
    "        # self.data = torch.FloatTensor(scaler.fit_transform(data))\n",
    "        self.data = data\n",
    "\n",
    "    def __len__(self):\n",
    "        return len(self.data)\n",
    "\n",
    "    def __getitem__(self, index):\n",
    "        return self.data[index]"
   ]
  },
  {
   "cell_type": "code",
   "execution_count": 46,
   "metadata": {
    "id": "YQyYy7sPEBGA"
   },
   "outputs": [],
   "source": [
    "# создание экземпляра класса Dataset и Dataloader\n",
    "\n",
    "batch_size = 128\n",
    "\n",
    "train_dataset = CustomDataset(data_train)\n",
    "\n",
    "train_loader = torch.utils.data.DataLoader(train_dataset,\n",
    "                          batch_size=batch_size,\n",
    "                          shuffle=True,\n",
    "                          drop_last=True,\n",
    "                          num_workers=0)"
   ]
  },
  {
   "cell_type": "code",
   "execution_count": 47,
   "metadata": {
    "colab": {
     "base_uri": "https://localhost:8080/"
    },
    "id": "ChqzuLYiEQt5",
    "outputId": "c4a356d4-4157-4558-aa39-f89f15c2677d"
   },
   "outputs": [
    {
     "name": "stdout",
     "output_type": "stream",
     "text": [
      "torch.Size([128, 2])\n"
     ]
    }
   ],
   "source": [
    "# проверка корректности даталоадера\n",
    "\n",
    "for idx, data in enumerate(train_loader):\n",
    "    print(data.shape)\n",
    "    break"
   ]
  },
  {
   "cell_type": "markdown",
   "metadata": {
    "id": "Ahxf8MrdHphI"
   },
   "source": [
    "#### 2. Создание генератора и дискриминатора"
   ]
  },
  {
   "cell_type": "code",
   "execution_count": 48,
   "metadata": {
    "id": "pYk8A-bgFhWR"
   },
   "outputs": [],
   "source": [
    "# Класс генератора\n",
    "\n",
    "class Generator(nn.Module):\n",
    "    def __init__(self):\n",
    "        super().__init__()\n",
    "        \n",
    "        # Использование таких словарей позволяет нам варьировать параметры нашей сети в процессе использования\n",
    "        self.activations = nn.ModuleDict([\n",
    "            ['lrelu', nn.LeakyReLU(0.2, inplace=True)],\n",
    "            ['relu', nn.ReLU()]\n",
    "        ])\n",
    "        \n",
    "        def block(in_feat, out_feat, normalize=True, activation='relu'):\n",
    "            layers = [nn.Linear(in_feat, out_feat)]  # Если мы создаем последовательность слоев - то мы задаем их\n",
    "                                                     # с помощью списка.\n",
    "            if normalize:\n",
    "                layers.append(nn.BatchNorm1d(out_feat))\n",
    "            layers.append(self.activations[activation])  # Эта строчка означает тоже самое что и\n",
    "                                                         # layers.append(nn.LeakyReLU(0.2, inplace=True))\n",
    "            return layers\n",
    "\n",
    "        self.model = nn.Sequential(\n",
    "            *block(latent_dim, 128, normalize=False),  # Звездочка означает unpacking списка\n",
    "            *block(128, 256, activation='lrelu'),\n",
    "            *block(256, 512),\n",
    "            *block(512, 1024),\n",
    "             nn.Linear(1024, 2),\n",
    "             nn.Linear(2, 2),\n",
    "             nn.Tanh()\n",
    "        )\n",
    "        \n",
    "    def forward(self, z):\n",
    "        new_point = self.model(z)\n",
    "        new_point = new_point.reshape(-1, 2)\n",
    "        return new_point "
   ]
  },
  {
   "cell_type": "code",
   "execution_count": 49,
   "metadata": {
    "id": "NhLbU-qmIci9"
   },
   "outputs": [],
   "source": [
    "# Кастомный класс линейного слоя\n",
    "\n",
    "class CustomLinearLayer(nn.Module):\n",
    "    def __init__(self, size_in, size_out):\n",
    "        super().__init__()\n",
    "        self.size_in, self.size_out = size_in, size_out\n",
    "        \n",
    "        weights = torch.Tensor(size_out, size_in) #задаем тензор - заготовку для весов\n",
    "        self.weights = nn.Parameter(weights) # Любые веса должны быть обернуты как параметры слоя\n",
    "\n",
    "        bias = torch.Tensor(size_out)\n",
    "        self.bias = nn.Parameter(bias) # аналогично оборачиваем в параметр\n",
    "\n",
    "        nn.init.uniform_(self.weights, -0.005, 0.005) # назначаем стартовые веса\n",
    "        nn.init.uniform_(self.bias, -0.005, 0.005)   # и bias\n",
    "\n",
    "    def forward(self, x):\n",
    "        # По формуле линейного слоя:\n",
    "        w_times_x = torch.mm(x, self.weights.t()) #нам нужно умножить наши данные на транспонированные веса\n",
    "        return torch.add(w_times_x, self.bias) # и добавить смещение"
   ]
  },
  {
   "cell_type": "code",
   "execution_count": 50,
   "metadata": {
    "id": "l_KH-Jy7K7I5"
   },
   "outputs": [],
   "source": [
    "# Класс Дискриминатора\n",
    "\n",
    "class Discriminator(nn.Module):\n",
    "    def __init__(self):\n",
    "        super().__init__()\n",
    "\n",
    "        self.model = nn.Sequential(\n",
    "            CustomLinearLayer(2, 512), # количество параметров в датасете (x, y)\n",
    "            nn.LeakyReLU(0.2, inplace=True),\n",
    "            CustomLinearLayer(512, 256),\n",
    "            nn.LeakyReLU(0.2, inplace=True),\n",
    "            CustomLinearLayer(256, 1),\n",
    "            nn.Sigmoid()\n",
    "        )\n",
    "  \n",
    "    def forward(self, img):\n",
    "        img_flat = img\n",
    "        validity = self.model(img_flat)\n",
    "        return validity"
   ]
  },
  {
   "cell_type": "markdown",
   "metadata": {
    "id": "hphltaQ5Ngw1"
   },
   "source": [
    "#### 3. Обучение сети GAN и визуализация результата"
   ]
  },
  {
   "cell_type": "code",
   "execution_count": 51,
   "metadata": {
    "id": "AfJGzGS4NfFo"
   },
   "outputs": [],
   "source": [
    "n_epochs = 20  # количество эпох\n",
    "lr = 0.0005  # шаг обучения\n",
    "\n",
    "b1 = 0.5  # гиперпараметр для оптимайзера Adam\n",
    "b2 = 0.999  # гиперпараметр для оптимайзера Adam\n",
    "\n",
    "latent_dim = 100  # Размерность случайного вектора, который подается на вход генератору\n",
    "\n",
    "sample_interval = 500  # количество итераций для отображения процесса обучения\n"
   ]
  },
  {
   "cell_type": "code",
   "execution_count": 52,
   "metadata": {
    "id": "aR4HcfgyNpsp"
   },
   "outputs": [],
   "source": [
    "# Инициализируем генератор и дискриминатор\n",
    "\n",
    "generator = Generator()\n",
    "discriminator = Discriminator()\n",
    "\n",
    "# опитимизатор для каждой сети\n",
    "optimizer_G = torch.optim.Adam(\n",
    "    generator.parameters(),\n",
    "    lr=lr, \n",
    "    betas=(b1, b2)\n",
    ")\n",
    "optimizer_D = torch.optim.Adam(\n",
    "    discriminator.parameters(), \n",
    "    lr=lr, \n",
    "    betas=(b1, b2)\n",
    ")\n",
    "\n",
    "# функция ошибки\n",
    "adversarial_loss = torch.nn.BCELoss()"
   ]
  },
  {
   "cell_type": "code",
   "execution_count": 53,
   "metadata": {
    "id": "RaIz1cXVNppl"
   },
   "outputs": [],
   "source": [
    "d_loss_history = []\n",
    "g_loss_history = []"
   ]
  },
  {
   "cell_type": "code",
   "execution_count": 54,
   "metadata": {
    "id": "h78d808-Tj0m"
   },
   "outputs": [],
   "source": [
    "# Функция для визуализации точек\n",
    "\n",
    "def plot_points(gen_points, real_points):\n",
    "    \n",
    "    fig, ax = plt.subplots(figsize=(6, 6))\n",
    "\n",
    "    #отрисовка реальных точек\n",
    "    x_real, y_real = (real_points.detach()).T\n",
    "    plt.scatter(x_real, y_real, color='green',label='real_points') \n",
    "    \n",
    "    #отрисовка сгенерированных точек\n",
    "    x_gen, y_gen = (gen_points.detach()).T\n",
    "    plt.scatter(x_gen,y_gen, color='red', label='generated_points') \n",
    "\n",
    "    plt.legend()\n",
    "    plt.show()"
   ]
  },
  {
   "cell_type": "code",
   "execution_count": 55,
   "metadata": {
    "colab": {
     "base_uri": "https://localhost:8080/",
     "height": 656
    },
    "id": "UaJexYrhNpmL",
    "outputId": "757253a9-931c-4c91-d5c0-799b9c973a9f"
   },
   "outputs": [
    {
     "data": {
      "text/plain": [
       "<Figure size 432x288 with 0 Axes>"
      ]
     },
     "metadata": {},
     "output_type": "display_data"
    },
    {
     "data": {
      "image/png": "[encoded data removed]",
      "text/plain": [
       "<Figure size 432x432 with 1 Axes>"
      ]
     },
     "metadata": {
      "needs_background": "light"
     },
     "output_type": "display_data"
    },
    {
     "name": "stdout",
     "output_type": "stream",
     "text": [
      "[Epoch 19/20] [Batch 2625/3125]|[D loss: 0.6996906995773315] [G loss: 0.6698365807533264]\n"
     ]
    },
    {
     "data": {
      "image/png": "[encoded data removed]",
      "text/plain": [
       "<Figure size 432x288 with 1 Axes>"
      ]
     },
     "metadata": {
      "needs_background": "light"
     },
     "output_type": "display_data"
    }
   ],
   "source": [
    "import matplotlib.patches as mpatches\n",
    "\n",
    "for epoch in range(n_epochs):\n",
    "    for i, points in enumerate(train_loader):\n",
    "        \n",
    "##################### Лейблы для данных: 1 - настоящие, 0 - сгенерированные ########\n",
    "        valid = torch.FloatTensor(batch_size, 1).fill_(1.0) #(B,1) -- столбец-лейблов 1\n",
    "        fake = torch.FloatTensor(batch_size, 1).fill_(0.0)  #(B,1)  -- столбец-лейблов 0\n",
    "\n",
    "        real_points = points #.type(torch.FloatTensor) #(B,2) -- реальные данные\n",
    "\n",
    "        # Генерация шума (B,latent_dim)\n",
    "        z = torch.FloatTensor(np.random.normal(0, 10, (batch_size, latent_dim)))\n",
    "        # Генерируем данные Генератором на основе шума\n",
    "        gen_points = generator(z)   #(B,2) -- сгенерированные данные\n",
    "        \n",
    "######################  Тренировка дискриминатора    ##########################\n",
    "        \n",
    "        # Получаем предсказания дискриминатора на основе реальных данных\n",
    "        real_pred = discriminator(real_points)  #(B,1)\n",
    "        \n",
    "        # Тут сравниваем предсказанные значения Дискриминатора(на основе настоящих данных) с настоящими\n",
    "        d_real_loss = adversarial_loss(real_pred, valid)\n",
    "        \n",
    "        # Подаем сгенерированые данные на Дискриминатор \n",
    "        fake_pred = discriminator(gen_points) #(B,1)\n",
    "        \n",
    "        # расчитываем ошибку предсказанного с фейковыми лейблами\n",
    "        d_fake_loss = adversarial_loss(fake_pred, fake)\n",
    "        \n",
    "        # И усредняем два лосса в один\n",
    "        d_loss = (d_real_loss + d_fake_loss) / 2\n",
    "\n",
    "        optimizer_D.zero_grad()\n",
    "        d_loss.backward()\n",
    "        optimizer_D.step()\n",
    "\n",
    "######################  Тренировка генератора    ##########################\n",
    "        \n",
    "        # генерация шума\n",
    "        z = torch.FloatTensor(np.random.normal(0, 1, (batch_size, latent_dim))) #(B,latent_dim)\n",
    "        \n",
    "        # Генерируем данные Генератором на основе шума\n",
    "        gen_points = generator(z)  #(B,2)\n",
    "\n",
    "        # Подаем сгенерированые данные на Дискриминатор \n",
    "        fake_pred = discriminator(gen_points)  #(B,1)\n",
    "    \n",
    "        # Тут сравниваем предсказанные значения Дискриминатора (на основе сгенерировнных данных) с настоящими\n",
    "        g_loss = adversarial_loss(fake_pred, valid)\n",
    "        \n",
    "        # Делаем шаг обучения нашего Генератора\n",
    "        optimizer_G.zero_grad()\n",
    "        g_loss.backward()\n",
    "        optimizer_G.step()\n",
    "\n",
    "        \n",
    "######## Отображение процесса обучения и вывод функций потерь ############\n",
    "        batches_done = epoch * len(train_loader) + i\n",
    "    \n",
    "        if batches_done % sample_interval == 0:\n",
    "            with torch.no_grad():\n",
    "                plt.clf()\n",
    "                clear_output(wait=False)\n",
    "                plot_points(gen_points, real_points)\n",
    "                \n",
    "                print(f\"[Epoch {epoch}/{n_epochs}] [Batch {i}/{len(train_loader)}]\", end='|')\n",
    "                print(f'[D loss: {d_loss.item()}] [G loss: {g_loss.item()}]') \n",
    "\n",
    "\n",
    "                d_loss = d_loss.cpu().detach()  #новый тензор без градиента\n",
    "                g_loss = g_loss.cpu().detach()\n",
    "\n",
    "                d_loss_history.append(d_loss)\n",
    "                g_loss_history.append(g_loss)\n",
    "\n",
    "                plt.plot(np.array(d_loss_history), label='D loss')\n",
    "                plt.plot(np.array(g_loss_history), label='G loss')\n",
    "                plt.legend()\n",
    "                plt.show() "
   ]
  }
 ],
 "metadata": {
  "accelerator": "GPU",
  "colab": {
   "collapsed_sections": [],
   "name": "web8_hw.ipynb",
   "provenance": []
  },
  "kernelspec": {
   "display_name": "Python 3",
   "language": "python",
   "name": "python3"
  },
  "language_info": {
   "codemirror_mode": {
    "name": "ipython",
    "version": 3
   },
   "file_extension": ".py",
   "mimetype": "text/x-python",
   "name": "python",
   "nbconvert_exporter": "python",
   "pygments_lexer": "ipython3",
   "version": "3.9.2"
  }
 },
 "nbformat": 4,
 "nbformat_minor": 1
}
