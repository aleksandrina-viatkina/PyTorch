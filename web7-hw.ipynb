{
 "cells": [
  {
   "cell_type": "markdown",
   "id": "d7c9b02e",
   "metadata": {
    "papermill": {
     "duration": 0.048719,
     "end_time": "2022-04-12T14:24:44.928383",
     "exception": false,
     "start_time": "2022-04-12T14:24:44.879664",
     "status": "completed"
    },
    "tags": []
   },
   "source": [
    "### Домашнее задание к вебинару 7\n",
    "\n",
    "1. Попробуйте обучить нейронную сеть GRU/LSTM для предсказания сентимента сообщений с твитера на примере https://www.kaggle.com/datasets/arkhoshghalb/twitter-sentiment-analysis-hatred-speech\n",
    "\n",
    "2. Опишите, какой результат вы получили? Что помогло вам улучшить ее точность?"
   ]
  },
  {
   "cell_type": "code",
   "execution_count": 1,
   "id": "bc188011",
   "metadata": {
    "execution": {
     "iopub.execute_input": "2022-04-12T14:24:45.032709Z",
     "iopub.status.busy": "2022-04-12T14:24:45.031867Z",
     "iopub.status.idle": "2022-04-12T14:24:48.893577Z",
     "shell.execute_reply": "2022-04-12T14:24:48.894149Z",
     "shell.execute_reply.started": "2022-04-12T13:46:50.458595Z"
    },
    "papermill": {
     "duration": 3.917043,
     "end_time": "2022-04-12T14:24:48.894415",
     "exception": false,
     "start_time": "2022-04-12T14:24:44.977372",
     "status": "completed"
    },
    "tags": []
   },
   "outputs": [
    {
     "name": "stdout",
     "output_type": "stream",
     "text": [
      "[nltk_data] Downloading package punkt to /usr/share/nltk_data...\n",
      "[nltk_data]   Package punkt is already up-to-date!\n",
      "[nltk_data] Downloading package stopwords to /usr/share/nltk_data...\n",
      "[nltk_data]   Package stopwords is already up-to-date!\n"
     ]
    }
   ],
   "source": [
    "import numpy as np\n",
    "import pandas as pd\n",
    "import matplotlib.pyplot as plt\n",
    "\n",
    "\n",
    "from sklearn.model_selection import train_test_split\n",
    "\n",
    "# для обработки текста\n",
    "from string import punctuation\n",
    "from stop_words import get_stop_words\n",
    "\n",
    "import nltk\n",
    "nltk.download(\"punkt\")\n",
    "nltk.download('stopwords')\n",
    "from nltk.stem import WordNetLemmatizer \n",
    "from nltk.corpus import stopwords\n",
    "from nltk.tokenize import word_tokenize\n",
    "from nltk.probability import FreqDist\n",
    "\n",
    "# для сети\n",
    "import torch\n",
    "import torch.nn as nn\n",
    "import torch.nn.functional as F\n",
    "from torch.utils.data import DataLoader, Dataset\n",
    "\n",
    "import torchmetrics"
   ]
  },
  {
   "cell_type": "markdown",
   "id": "c7846e3f",
   "metadata": {
    "papermill": {
     "duration": 0.044933,
     "end_time": "2022-04-12T14:24:48.985545",
     "exception": false,
     "start_time": "2022-04-12T14:24:48.940612",
     "status": "completed"
    },
    "tags": []
   },
   "source": [
    "#### Загрузка данных"
   ]
  },
  {
   "cell_type": "code",
   "execution_count": 2,
   "id": "560092d3",
   "metadata": {
    "execution": {
     "iopub.execute_input": "2022-04-12T14:24:49.078659Z",
     "iopub.status.busy": "2022-04-12T14:24:49.078137Z",
     "iopub.status.idle": "2022-04-12T14:24:49.254652Z",
     "shell.execute_reply": "2022-04-12T14:24:49.253742Z",
     "shell.execute_reply.started": "2022-04-12T13:46:50.487168Z"
    },
    "papermill": {
     "duration": 0.225278,
     "end_time": "2022-04-12T14:24:49.254818",
     "exception": false,
     "start_time": "2022-04-12T14:24:49.029540",
     "status": "completed"
    },
    "tags": []
   },
   "outputs": [],
   "source": [
    "train_path = '../input/twitter-sentiment-analysis-hatred-speech/train.csv'\n",
    "test_path = '../input/twitter-sentiment-analysis-hatred-speech/test.csv'\n",
    "\n",
    "data_train = pd.read_csv(train_path)\n",
    "data_test = pd.read_csv(test_path)"
   ]
  },
  {
   "cell_type": "code",
   "execution_count": 3,
   "id": "4dde8071",
   "metadata": {
    "execution": {
     "iopub.execute_input": "2022-04-12T14:24:49.350725Z",
     "iopub.status.busy": "2022-04-12T14:24:49.349972Z",
     "iopub.status.idle": "2022-04-12T14:24:49.361331Z",
     "shell.execute_reply": "2022-04-12T14:24:49.361730Z",
     "shell.execute_reply.started": "2022-04-12T13:46:50.588922Z"
    },
    "papermill": {
     "duration": 0.062442,
     "end_time": "2022-04-12T14:24:49.361896",
     "exception": false,
     "start_time": "2022-04-12T14:24:49.299454",
     "status": "completed"
    },
    "tags": []
   },
   "outputs": [
    {
     "data": {
      "text/html": [
       "<div>\n",
       "<style scoped>\n",
       "    .dataframe tbody tr th:only-of-type {\n",
       "        vertical-align: middle;\n",
       "    }\n",
       "\n",
       "    .dataframe tbody tr th {\n",
       "        vertical-align: top;\n",
       "    }\n",
       "\n",
       "    .dataframe thead th {\n",
       "        text-align: right;\n",
       "    }\n",
       "</style>\n",
       "<table border=\"1\" class=\"dataframe\">\n",
       "  <thead>\n",
       "    <tr style=\"text-align: right;\">\n",
       "      <th></th>\n",
       "      <th>id</th>\n",
       "      <th>label</th>\n",
       "      <th>tweet</th>\n",
       "    </tr>\n",
       "  </thead>\n",
       "  <tbody>\n",
       "    <tr>\n",
       "      <th>0</th>\n",
       "      <td>1</td>\n",
       "      <td>0</td>\n",
       "      <td>@user when a father is dysfunctional and is s...</td>\n",
       "    </tr>\n",
       "    <tr>\n",
       "      <th>1</th>\n",
       "      <td>2</td>\n",
       "      <td>0</td>\n",
       "      <td>@user @user thanks for #lyft credit i can't us...</td>\n",
       "    </tr>\n",
       "    <tr>\n",
       "      <th>2</th>\n",
       "      <td>3</td>\n",
       "      <td>0</td>\n",
       "      <td>bihday your majesty</td>\n",
       "    </tr>\n",
       "  </tbody>\n",
       "</table>\n",
       "</div>"
      ],
      "text/plain": [
       "   id  label                                              tweet\n",
       "0   1      0   @user when a father is dysfunctional and is s...\n",
       "1   2      0  @user @user thanks for #lyft credit i can't us...\n",
       "2   3      0                                bihday your majesty"
      ]
     },
     "execution_count": 3,
     "metadata": {},
     "output_type": "execute_result"
    }
   ],
   "source": [
    "data_train.head(3)"
   ]
  },
  {
   "cell_type": "code",
   "execution_count": 4,
   "id": "f53df91f",
   "metadata": {
    "execution": {
     "iopub.execute_input": "2022-04-12T14:24:49.459427Z",
     "iopub.status.busy": "2022-04-12T14:24:49.458598Z",
     "iopub.status.idle": "2022-04-12T14:24:49.461676Z",
     "shell.execute_reply": "2022-04-12T14:24:49.462108Z",
     "shell.execute_reply.started": "2022-04-12T13:46:50.712654Z"
    },
    "papermill": {
     "duration": 0.056119,
     "end_time": "2022-04-12T14:24:49.462254",
     "exception": false,
     "start_time": "2022-04-12T14:24:49.406135",
     "status": "completed"
    },
    "tags": []
   },
   "outputs": [
    {
     "data": {
      "text/html": [
       "<div>\n",
       "<style scoped>\n",
       "    .dataframe tbody tr th:only-of-type {\n",
       "        vertical-align: middle;\n",
       "    }\n",
       "\n",
       "    .dataframe tbody tr th {\n",
       "        vertical-align: top;\n",
       "    }\n",
       "\n",
       "    .dataframe thead th {\n",
       "        text-align: right;\n",
       "    }\n",
       "</style>\n",
       "<table border=\"1\" class=\"dataframe\">\n",
       "  <thead>\n",
       "    <tr style=\"text-align: right;\">\n",
       "      <th></th>\n",
       "      <th>id</th>\n",
       "      <th>tweet</th>\n",
       "    </tr>\n",
       "  </thead>\n",
       "  <tbody>\n",
       "    <tr>\n",
       "      <th>0</th>\n",
       "      <td>31963</td>\n",
       "      <td>#studiolife #aislife #requires #passion #dedic...</td>\n",
       "    </tr>\n",
       "    <tr>\n",
       "      <th>1</th>\n",
       "      <td>31964</td>\n",
       "      <td>@user #white #supremacists want everyone to s...</td>\n",
       "    </tr>\n",
       "    <tr>\n",
       "      <th>2</th>\n",
       "      <td>31965</td>\n",
       "      <td>safe ways to heal your #acne!!    #altwaystohe...</td>\n",
       "    </tr>\n",
       "  </tbody>\n",
       "</table>\n",
       "</div>"
      ],
      "text/plain": [
       "      id                                              tweet\n",
       "0  31963  #studiolife #aislife #requires #passion #dedic...\n",
       "1  31964   @user #white #supremacists want everyone to s...\n",
       "2  31965  safe ways to heal your #acne!!    #altwaystohe..."
      ]
     },
     "execution_count": 4,
     "metadata": {},
     "output_type": "execute_result"
    }
   ],
   "source": [
    "data_test.head(3)"
   ]
  },
  {
   "cell_type": "code",
   "execution_count": 5,
   "id": "b8f300e8",
   "metadata": {
    "execution": {
     "iopub.execute_input": "2022-04-12T14:24:49.564628Z",
     "iopub.status.busy": "2022-04-12T14:24:49.563924Z",
     "iopub.status.idle": "2022-04-12T14:24:49.566677Z",
     "shell.execute_reply": "2022-04-12T14:24:49.567171Z",
     "shell.execute_reply.started": "2022-04-12T13:46:50.739433Z"
    },
    "papermill": {
     "duration": 0.060281,
     "end_time": "2022-04-12T14:24:49.567312",
     "exception": false,
     "start_time": "2022-04-12T14:24:49.507031",
     "status": "completed"
    },
    "tags": []
   },
   "outputs": [
    {
     "data": {
      "text/plain": [
       "0    29720\n",
       "1     2242\n",
       "Name: label, dtype: int64"
      ]
     },
     "execution_count": 5,
     "metadata": {},
     "output_type": "execute_result"
    }
   ],
   "source": [
    "data_train.label.value_counts()"
   ]
  },
  {
   "cell_type": "markdown",
   "id": "d1492161",
   "metadata": {
    "papermill": {
     "duration": 0.045229,
     "end_time": "2022-04-12T14:24:49.657629",
     "exception": false,
     "start_time": "2022-04-12T14:24:49.612400",
     "status": "completed"
    },
    "tags": []
   },
   "source": [
    "Есть выраженный дисбаланс"
   ]
  },
  {
   "cell_type": "code",
   "execution_count": 6,
   "id": "47157d29",
   "metadata": {
    "execution": {
     "iopub.execute_input": "2022-04-12T14:24:49.755377Z",
     "iopub.status.busy": "2022-04-12T14:24:49.754561Z",
     "iopub.status.idle": "2022-04-12T14:24:49.760557Z",
     "shell.execute_reply": "2022-04-12T14:24:49.761017Z",
     "shell.execute_reply.started": "2022-04-12T13:46:50.765158Z"
    },
    "papermill": {
     "duration": 0.057591,
     "end_time": "2022-04-12T14:24:49.761161",
     "exception": false,
     "start_time": "2022-04-12T14:24:49.703570",
     "status": "completed"
    },
    "tags": []
   },
   "outputs": [
    {
     "data": {
      "text/plain": [
       "31912    i couldn't end #2016 without mentioning #trump...\n",
       "31926    a follow up from the gentlemen who were kicked...\n",
       "31929    did  keep #colinpowell and #condoleezzarice fr...\n",
       "31930    @user #feminismiscancer #feminismisterrorism #...\n",
       "31933    @user judd is a  &amp; #homophobic #freemilo #...\n",
       "31934    lady banned from kentucky mall. @user  #jcpenn...\n",
       "31946    @user omfg i'm offended! i'm a  mailbox and i'...\n",
       "31947    @user @user you don't have the balls to hashta...\n",
       "31948     makes you ask yourself, who am i? then am i a...\n",
       "31960    @user #sikh #temple vandalised in in #calgary,...\n",
       "Name: tweet, dtype: object"
      ]
     },
     "execution_count": 6,
     "metadata": {},
     "output_type": "execute_result"
    }
   ],
   "source": [
    "data_train.loc[data_train.label == 1, 'tweet'].tail(10)"
   ]
  },
  {
   "cell_type": "code",
   "execution_count": 7,
   "id": "466795c2",
   "metadata": {
    "execution": {
     "iopub.execute_input": "2022-04-12T14:24:49.855862Z",
     "iopub.status.busy": "2022-04-12T14:24:49.854687Z",
     "iopub.status.idle": "2022-04-12T14:24:49.863150Z",
     "shell.execute_reply": "2022-04-12T14:24:49.862697Z",
     "shell.execute_reply.started": "2022-04-12T13:46:50.791476Z"
    },
    "papermill": {
     "duration": 0.057188,
     "end_time": "2022-04-12T14:24:49.863262",
     "exception": false,
     "start_time": "2022-04-12T14:24:49.806074",
     "status": "completed"
    },
    "tags": []
   },
   "outputs": [
    {
     "data": {
      "text/plain": [
       "0     @user when a father is dysfunctional and is s...\n",
       "1    @user @user thanks for #lyft credit i can't us...\n",
       "2                                  bihday your majesty\n",
       "3    #model   i love u take with u all the time in ...\n",
       "4               factsguide: society now    #motivation\n",
       "Name: tweet, dtype: object"
      ]
     },
     "execution_count": 7,
     "metadata": {},
     "output_type": "execute_result"
    }
   ],
   "source": [
    "data_train.loc[data_train.label == 0, 'tweet'].head(5)"
   ]
  },
  {
   "cell_type": "markdown",
   "id": "0fb4093d",
   "metadata": {
    "papermill": {
     "duration": 0.04551,
     "end_time": "2022-04-12T14:24:49.954112",
     "exception": false,
     "start_time": "2022-04-12T14:24:49.908602",
     "status": "completed"
    },
    "tags": []
   },
   "source": [
    "Класс 0 - твит является положительным, класс 1 - твит негативный, расистский. Твиты на английском языке, что важно учесть в будущей обработке."
   ]
  },
  {
   "cell_type": "code",
   "execution_count": 8,
   "id": "63d628af",
   "metadata": {
    "execution": {
     "iopub.execute_input": "2022-04-12T14:24:50.052506Z",
     "iopub.status.busy": "2022-04-12T14:24:50.051996Z",
     "iopub.status.idle": "2022-04-12T14:24:50.063965Z",
     "shell.execute_reply": "2022-04-12T14:24:50.063216Z",
     "shell.execute_reply.started": "2022-04-12T13:46:50.821686Z"
    },
    "papermill": {
     "duration": 0.062952,
     "end_time": "2022-04-12T14:24:50.064088",
     "exception": false,
     "start_time": "2022-04-12T14:24:50.001136",
     "status": "completed"
    },
    "tags": []
   },
   "outputs": [
    {
     "data": {
      "text/plain": [
       "(0    20780\n",
       " 1     1593\n",
       " Name: label, dtype: int64,\n",
       " 0    8940\n",
       " 1     649\n",
       " Name: label, dtype: int64)"
      ]
     },
     "execution_count": 8,
     "metadata": {},
     "output_type": "execute_result"
    }
   ],
   "source": [
    "# Разделим тренировочные данные на тренировочную и валидационную выборки\n",
    "\n",
    "data_train, data_val = train_test_split(data_train, test_size = 0.3, random_state = 1)\n",
    "\n",
    "data_train.label.value_counts(), data_val.label.value_counts()"
   ]
  },
  {
   "cell_type": "code",
   "execution_count": 9,
   "id": "a40c1ad6",
   "metadata": {
    "execution": {
     "iopub.execute_input": "2022-04-12T14:24:50.162046Z",
     "iopub.status.busy": "2022-04-12T14:24:50.161224Z",
     "iopub.status.idle": "2022-04-12T14:24:50.170872Z",
     "shell.execute_reply": "2022-04-12T14:24:50.171260Z",
     "shell.execute_reply.started": "2022-04-12T13:46:50.928800Z"
    },
    "papermill": {
     "duration": 0.061307,
     "end_time": "2022-04-12T14:24:50.171407",
     "exception": false,
     "start_time": "2022-04-12T14:24:50.110100",
     "status": "completed"
    },
    "tags": []
   },
   "outputs": [
    {
     "data": {
      "text/html": [
       "<div>\n",
       "<style scoped>\n",
       "    .dataframe tbody tr th:only-of-type {\n",
       "        vertical-align: middle;\n",
       "    }\n",
       "\n",
       "    .dataframe tbody tr th {\n",
       "        vertical-align: top;\n",
       "    }\n",
       "\n",
       "    .dataframe thead th {\n",
       "        text-align: right;\n",
       "    }\n",
       "</style>\n",
       "<table border=\"1\" class=\"dataframe\">\n",
       "  <thead>\n",
       "    <tr style=\"text-align: right;\">\n",
       "      <th></th>\n",
       "      <th>id</th>\n",
       "      <th>label</th>\n",
       "      <th>tweet</th>\n",
       "    </tr>\n",
       "  </thead>\n",
       "  <tbody>\n",
       "    <tr>\n",
       "      <th>24201</th>\n",
       "      <td>24202</td>\n",
       "      <td>1</td>\n",
       "      <td>â¦ you #hispanic &amp;amp; feel like the  are sto...</td>\n",
       "    </tr>\n",
       "    <tr>\n",
       "      <th>14444</th>\n",
       "      <td>14445</td>\n",
       "      <td>1</td>\n",
       "      <td>@user research:  and  played greatest role in ...</td>\n",
       "    </tr>\n",
       "    <tr>\n",
       "      <th>17857</th>\n",
       "      <td>17858</td>\n",
       "      <td>1</td>\n",
       "      <td>thought factory: left-right polarisation! #tru...</td>\n",
       "    </tr>\n",
       "    <tr>\n",
       "      <th>16680</th>\n",
       "      <td>16681</td>\n",
       "      <td>1</td>\n",
       "      <td>#italians weren't coming from a country were w...</td>\n",
       "    </tr>\n",
       "    <tr>\n",
       "      <th>20501</th>\n",
       "      <td>20502</td>\n",
       "      <td>1</td>\n",
       "      <td>ending 2016 smoking reefers, going crazy, and ...</td>\n",
       "    </tr>\n",
       "    <tr>\n",
       "      <th>...</th>\n",
       "      <td>...</td>\n",
       "      <td>...</td>\n",
       "      <td>...</td>\n",
       "    </tr>\n",
       "    <tr>\n",
       "      <th>17137</th>\n",
       "      <td>17138</td>\n",
       "      <td>1</td>\n",
       "      <td>pay porn free video  jokes about women</td>\n",
       "    </tr>\n",
       "    <tr>\n",
       "      <th>31228</th>\n",
       "      <td>31229</td>\n",
       "      <td>1</td>\n",
       "      <td>ððð  reading list for the new year:  ...</td>\n",
       "    </tr>\n",
       "    <tr>\n",
       "      <th>16332</th>\n",
       "      <td>16333</td>\n",
       "      <td>1</td>\n",
       "      <td>@user a giant version of the #flag of #rebelli...</td>\n",
       "    </tr>\n",
       "    <tr>\n",
       "      <th>21440</th>\n",
       "      <td>21441</td>\n",
       "      <td>1</td>\n",
       "      <td>scapelliti:  woobietuesday: when you're blocke...</td>\n",
       "    </tr>\n",
       "    <tr>\n",
       "      <th>7813</th>\n",
       "      <td>7814</td>\n",
       "      <td>1</td>\n",
       "      <td>come in, @user =fraud &amp;amp;  documented #liar ...</td>\n",
       "    </tr>\n",
       "  </tbody>\n",
       "</table>\n",
       "<p>1593 rows × 3 columns</p>\n",
       "</div>"
      ],
      "text/plain": [
       "          id  label                                              tweet\n",
       "24201  24202      1  â¦ you #hispanic &amp; feel like the  are sto...\n",
       "14444  14445      1  @user research:  and  played greatest role in ...\n",
       "17857  17858      1  thought factory: left-right polarisation! #tru...\n",
       "16680  16681      1  #italians weren't coming from a country were w...\n",
       "20501  20502      1  ending 2016 smoking reefers, going crazy, and ...\n",
       "...      ...    ...                                                ...\n",
       "17137  17138      1            pay porn free video  jokes about women \n",
       "31228  31229      1  ððð  reading list for the new year:  ...\n",
       "16332  16333      1  @user a giant version of the #flag of #rebelli...\n",
       "21440  21441      1  scapelliti:  woobietuesday: when you're blocke...\n",
       "7813    7814      1  come in, @user =fraud &amp;  documented #liar ...\n",
       "\n",
       "[1593 rows x 3 columns]"
      ]
     },
     "execution_count": 9,
     "metadata": {},
     "output_type": "execute_result"
    }
   ],
   "source": [
    "data_train[data_train.label == 1]"
   ]
  },
  {
   "cell_type": "code",
   "execution_count": 10,
   "id": "f0e9d80d",
   "metadata": {
    "execution": {
     "iopub.execute_input": "2022-04-12T14:24:50.270895Z",
     "iopub.status.busy": "2022-04-12T14:24:50.270219Z",
     "iopub.status.idle": "2022-04-12T14:24:50.276952Z",
     "shell.execute_reply": "2022-04-12T14:24:50.276527Z",
     "shell.execute_reply.started": "2022-04-12T13:46:50.954851Z"
    },
    "papermill": {
     "duration": 0.058556,
     "end_time": "2022-04-12T14:24:50.277079",
     "exception": false,
     "start_time": "2022-04-12T14:24:50.218523",
     "status": "completed"
    },
    "tags": []
   },
   "outputs": [
    {
     "data": {
      "text/plain": [
       "13.044569993722536"
      ]
     },
     "execution_count": 10,
     "metadata": {},
     "output_type": "execute_result"
    }
   ],
   "source": [
    "disbalance_coeff = len(data_train[data_train.label == 0])/ len(data_train[data_train.label == 1])\n",
    "disbalance_coeff"
   ]
  },
  {
   "cell_type": "markdown",
   "id": "ce8fea27",
   "metadata": {
    "papermill": {
     "duration": 0.046834,
     "end_time": "2022-04-12T14:24:50.371018",
     "exception": false,
     "start_time": "2022-04-12T14:24:50.324184",
     "status": "completed"
    },
    "tags": []
   },
   "source": [
    "Дисбаланс довольно большой. Если сделать оверсэмплинг для меньшего класса, то может быть переобучение."
   ]
  },
  {
   "cell_type": "code",
   "execution_count": 11,
   "id": "613be9b6",
   "metadata": {
    "execution": {
     "iopub.execute_input": "2022-04-12T14:24:50.473076Z",
     "iopub.status.busy": "2022-04-12T14:24:50.472169Z",
     "iopub.status.idle": "2022-04-12T14:24:50.473970Z",
     "shell.execute_reply": "2022-04-12T14:24:50.474383Z",
     "shell.execute_reply.started": "2022-04-12T13:46:50.981986Z"
    },
    "papermill": {
     "duration": 0.056151,
     "end_time": "2022-04-12T14:24:50.474521",
     "exception": false,
     "start_time": "2022-04-12T14:24:50.418370",
     "status": "completed"
    },
    "tags": []
   },
   "outputs": [],
   "source": [
    "# Попробуем избавиться от дисбаланса классов на тренировочной выборке, дисбаланс слишком выражен\n",
    "def oversampling_by_target(df, target_name):\n",
    "    \n",
    "    target_counts = df[target_name].value_counts()\n",
    "\n",
    "    major_class_name = target_counts.argmax()\n",
    "    minor_class_name = target_counts.argmin()\n",
    "\n",
    "    # установим вручную коэффициент дисбаланса\n",
    "    disbalance_coeff = 5\n",
    "    \n",
    "    for i in range(disbalance_coeff):\n",
    "        # отсэмлируем меньшую выборку в количестве = disbalance_coeff\n",
    "        sample = df[df[target_name] == minor_class_name].sample(target_counts[minor_class_name])\n",
    "        df = df.append(sample, ignore_index=True)\n",
    "\n",
    "    return df.sample(frac=1) "
   ]
  },
  {
   "cell_type": "code",
   "execution_count": 12,
   "id": "69763551",
   "metadata": {
    "execution": {
     "iopub.execute_input": "2022-04-12T14:24:50.573704Z",
     "iopub.status.busy": "2022-04-12T14:24:50.572854Z",
     "iopub.status.idle": "2022-04-12T14:24:50.574576Z",
     "shell.execute_reply": "2022-04-12T14:24:50.575039Z",
     "shell.execute_reply.started": "2022-04-12T13:46:51.004376Z"
    },
    "papermill": {
     "duration": 0.052996,
     "end_time": "2022-04-12T14:24:50.575181",
     "exception": false,
     "start_time": "2022-04-12T14:24:50.522185",
     "status": "completed"
    },
    "tags": []
   },
   "outputs": [],
   "source": [
    "# data_train = oversampling_by_target(data_train, 'label')\n",
    "# data_train.label.value_counts()"
   ]
  },
  {
   "cell_type": "markdown",
   "id": "228407a9",
   "metadata": {
    "papermill": {
     "duration": 0.047483,
     "end_time": "2022-04-12T14:24:50.669913",
     "exception": false,
     "start_time": "2022-04-12T14:24:50.622430",
     "status": "completed"
    },
    "tags": []
   },
   "source": [
    "В этой задаче балансировка классов ухудшила результат."
   ]
  },
  {
   "cell_type": "markdown",
   "id": "214f8eef",
   "metadata": {
    "papermill": {
     "duration": 0.048988,
     "end_time": "2022-04-12T14:24:50.766446",
     "exception": false,
     "start_time": "2022-04-12T14:24:50.717458",
     "status": "completed"
    },
    "tags": []
   },
   "source": [
    "#### Обработка твитов"
   ]
  },
  {
   "cell_type": "code",
   "execution_count": 13,
   "id": "354f1d1b",
   "metadata": {
    "execution": {
     "iopub.execute_input": "2022-04-12T14:24:50.864569Z",
     "iopub.status.busy": "2022-04-12T14:24:50.863745Z",
     "iopub.status.idle": "2022-04-12T14:24:50.868454Z",
     "shell.execute_reply": "2022-04-12T14:24:50.868029Z",
     "shell.execute_reply.started": "2022-04-12T13:46:51.021889Z"
    },
    "papermill": {
     "duration": 0.055015,
     "end_time": "2022-04-12T14:24:50.868576",
     "exception": false,
     "start_time": "2022-04-12T14:24:50.813561",
     "status": "completed"
    },
    "tags": []
   },
   "outputs": [],
   "source": [
    "max_words = 2000\n",
    "max_len = 20\n",
    "num_classes = 1\n",
    "\n",
    "# для обучения\n",
    "epochs = 10\n",
    "batch_size = 128\n",
    "print_batch_n = 100"
   ]
  },
  {
   "cell_type": "code",
   "execution_count": 14,
   "id": "10c1b700",
   "metadata": {
    "execution": {
     "iopub.execute_input": "2022-04-12T14:24:50.967678Z",
     "iopub.status.busy": "2022-04-12T14:24:50.966764Z",
     "iopub.status.idle": "2022-04-12T14:24:50.972547Z",
     "shell.execute_reply": "2022-04-12T14:24:50.972116Z",
     "shell.execute_reply.started": "2022-04-12T13:46:51.041985Z"
    },
    "papermill": {
     "duration": 0.057079,
     "end_time": "2022-04-12T14:24:50.972693",
     "exception": false,
     "start_time": "2022-04-12T14:24:50.915614",
     "status": "completed"
    },
    "tags": []
   },
   "outputs": [],
   "source": [
    "# Загрузим стоп - слова\n",
    "sw1 = get_stop_words('english')\n",
    "sw2 = stopwords.words('english')\n",
    "\n",
    "sw_all = set(sw1+sw2)"
   ]
  },
  {
   "cell_type": "code",
   "execution_count": 15,
   "id": "de2da49d",
   "metadata": {
    "execution": {
     "iopub.execute_input": "2022-04-12T14:24:51.072153Z",
     "iopub.status.busy": "2022-04-12T14:24:51.071466Z",
     "iopub.status.idle": "2022-04-12T14:24:51.074086Z",
     "shell.execute_reply": "2022-04-12T14:24:51.073631Z",
     "shell.execute_reply.started": "2022-04-12T13:46:51.062284Z"
    },
    "papermill": {
     "duration": 0.053022,
     "end_time": "2022-04-12T14:24:51.074198",
     "exception": false,
     "start_time": "2022-04-12T14:24:51.021176",
     "status": "completed"
    },
    "tags": []
   },
   "outputs": [],
   "source": [
    "# Загрузим пунктуацию\n",
    "puncts = set(punctuation)"
   ]
  },
  {
   "cell_type": "code",
   "execution_count": 16,
   "id": "d22ba7ea",
   "metadata": {
    "execution": {
     "iopub.execute_input": "2022-04-12T14:24:51.172967Z",
     "iopub.status.busy": "2022-04-12T14:24:51.172331Z",
     "iopub.status.idle": "2022-04-12T14:24:53.026371Z",
     "shell.execute_reply": "2022-04-12T14:24:53.026908Z",
     "shell.execute_reply.started": "2022-04-12T13:46:51.088308Z"
    },
    "papermill": {
     "duration": 1.905625,
     "end_time": "2022-04-12T14:24:53.027130",
     "exception": false,
     "start_time": "2022-04-12T14:24:51.121505",
     "status": "completed"
    },
    "tags": []
   },
   "outputs": [
    {
     "data": {
      "text/plain": [
       "('city', 'child', 'walking')"
      ]
     },
     "execution_count": 16,
     "metadata": {},
     "output_type": "execute_result"
    }
   ],
   "source": [
    "# Лемматизация\n",
    "# pymorphy не работает с английским языком, поэтому берем WordNetLemmatizer из nltk\n",
    "\n",
    "lemmatizer = WordNetLemmatizer()\n",
    "\n",
    "#пример \n",
    "lemmatizer.lemmatize('cities'), lemmatizer.lemmatize('children'), lemmatizer.lemmatize('walking')"
   ]
  },
  {
   "cell_type": "code",
   "execution_count": 17,
   "id": "57626c54",
   "metadata": {
    "execution": {
     "iopub.execute_input": "2022-04-12T14:24:53.130838Z",
     "iopub.status.busy": "2022-04-12T14:24:53.129959Z",
     "iopub.status.idle": "2022-04-12T14:24:53.131650Z",
     "shell.execute_reply": "2022-04-12T14:24:53.132173Z",
     "shell.execute_reply.started": "2022-04-12T13:46:51.113993Z"
    },
    "papermill": {
     "duration": 0.055725,
     "end_time": "2022-04-12T14:24:53.132311",
     "exception": false,
     "start_time": "2022-04-12T14:24:53.076586",
     "status": "completed"
    },
    "tags": []
   },
   "outputs": [],
   "source": [
    "def preprocess_text(txt):\n",
    "    # переводчим в строковый тип\n",
    "    txt = str(txt)\n",
    "    \n",
    "    # убираем пунктауицию\n",
    "    txt = \"\".join(c for c in txt if c not in puncts)\n",
    "    \n",
    "    # переводим в нижний регистр\n",
    "    txt = txt.lower()\n",
    "     \n",
    "    # лемматизация и отсеивание стоп слов\n",
    "    txt = [lemmatizer.lemmatize(word) for word in txt.split() if word not in sw_all]\n",
    "    return \" \".join(txt)"
   ]
  },
  {
   "cell_type": "code",
   "execution_count": 18,
   "id": "3458caaa",
   "metadata": {
    "execution": {
     "iopub.execute_input": "2022-04-12T14:24:53.233635Z",
     "iopub.status.busy": "2022-04-12T14:24:53.232884Z",
     "iopub.status.idle": "2022-04-12T14:24:53.235806Z",
     "shell.execute_reply": "2022-04-12T14:24:53.236225Z",
     "shell.execute_reply.started": "2022-04-12T13:46:51.139237Z"
    },
    "papermill": {
     "duration": 0.056259,
     "end_time": "2022-04-12T14:24:53.236358",
     "exception": false,
     "start_time": "2022-04-12T14:24:53.180099",
     "status": "completed"
    },
    "tags": []
   },
   "outputs": [
    {
     "name": "stdout",
     "output_type": "stream",
     "text": [
      "@user @user @user @user @user @user   i'm always bereft when i finish something like that   --> user user user user user user im always bereft finish something like\n"
     ]
    }
   ],
   "source": [
    "print(f\"{data_train['tweet'].iloc[3]} --> {preprocess_text(data_train['tweet'].iloc[3])}\")"
   ]
  },
  {
   "cell_type": "code",
   "execution_count": 19,
   "id": "d0ba4907",
   "metadata": {
    "execution": {
     "iopub.execute_input": "2022-04-12T14:24:53.337548Z",
     "iopub.status.busy": "2022-04-12T14:24:53.336814Z",
     "iopub.status.idle": "2022-04-12T14:24:56.084215Z",
     "shell.execute_reply": "2022-04-12T14:24:56.083623Z",
     "shell.execute_reply.started": "2022-04-12T13:46:51.166350Z"
    },
    "papermill": {
     "duration": 2.800467,
     "end_time": "2022-04-12T14:24:56.084353",
     "exception": false,
     "start_time": "2022-04-12T14:24:53.283886",
     "status": "completed"
    },
    "tags": []
   },
   "outputs": [
    {
     "name": "stderr",
     "output_type": "stream",
     "text": [
      "100%|██████████| 22373/22373 [00:01<00:00, 18047.28it/s]\n",
      "100%|██████████| 9589/9589 [00:00<00:00, 17993.33it/s]\n",
      "100%|██████████| 17197/17197 [00:00<00:00, 18034.74it/s]\n"
     ]
    }
   ],
   "source": [
    "#преобразование текста в данных\n",
    "from tqdm import tqdm \n",
    "tqdm.pandas()\n",
    "\n",
    "data_train['tweet'] = data_train['tweet'].progress_apply(preprocess_text)\n",
    "data_val['tweet'] = data_val['tweet'].progress_apply(preprocess_text)\n",
    "data_test['tweet'] = data_test['tweet'].progress_apply(preprocess_text)"
   ]
  },
  {
   "cell_type": "code",
   "execution_count": 20,
   "id": "fa0a180a",
   "metadata": {
    "execution": {
     "iopub.execute_input": "2022-04-12T14:24:56.208702Z",
     "iopub.status.busy": "2022-04-12T14:24:56.207970Z",
     "iopub.status.idle": "2022-04-12T14:24:56.210677Z",
     "shell.execute_reply": "2022-04-12T14:24:56.211180Z",
     "shell.execute_reply.started": "2022-04-12T13:46:54.226687Z"
    },
    "papermill": {
     "duration": 0.067567,
     "end_time": "2022-04-12T14:24:56.211315",
     "exception": false,
     "start_time": "2022-04-12T14:24:56.143748",
     "status": "completed"
    },
    "tags": []
   },
   "outputs": [
    {
     "data": {
      "text/plain": [
       "18168    russian default position faced accusation dopi...\n",
       "15286    user user u looked one hairline already receiv...\n",
       "4964     wowfinally see user southcitymall felling wait...\n",
       "5373     user user user user user user im always bereft...\n",
       "24201    â¦ hispanic amp feel like stomping listen ret...\n",
       "                               ...                        \n",
       "17289    remember itð lost empire dream success goal...\n",
       "5192                             justice served bosmatrial\n",
       "12172    ive repurposed former mustard jar beaut little...\n",
       "235      happiest baby ive ever knownð cute smile ba...\n",
       "29733         ased bull dominate bull direct whatever want\n",
       "Name: tweet, Length: 22373, dtype: object"
      ]
     },
     "execution_count": 20,
     "metadata": {},
     "output_type": "execute_result"
    }
   ],
   "source": [
    "data_train.tweet"
   ]
  },
  {
   "cell_type": "code",
   "execution_count": 21,
   "id": "4f54e87c",
   "metadata": {
    "execution": {
     "iopub.execute_input": "2022-04-12T14:24:56.345303Z",
     "iopub.status.busy": "2022-04-12T14:24:56.344662Z",
     "iopub.status.idle": "2022-04-12T14:24:56.347408Z",
     "shell.execute_reply": "2022-04-12T14:24:56.347817Z",
     "shell.execute_reply.started": "2022-04-12T13:46:54.239506Z"
    },
    "papermill": {
     "duration": 0.078047,
     "end_time": "2022-04-12T14:24:56.347958",
     "exception": false,
     "start_time": "2022-04-12T14:24:56.269911",
     "status": "completed"
    },
    "tags": []
   },
   "outputs": [
    {
     "data": {
      "text/plain": [
       "1362914"
      ]
     },
     "execution_count": 21,
     "metadata": {},
     "output_type": "execute_result"
    }
   ],
   "source": [
    "# делаем единый список слов из всех слов во всех строках\n",
    "\n",
    "train_corpus = \" \".join(data_train[\"tweet\"])\n",
    "train_corpus = train_corpus.lower()\n",
    "len(train_corpus)"
   ]
  },
  {
   "cell_type": "code",
   "execution_count": 22,
   "id": "23303e19",
   "metadata": {
    "execution": {
     "iopub.execute_input": "2022-04-12T14:24:56.470690Z",
     "iopub.status.busy": "2022-04-12T14:24:56.470115Z",
     "iopub.status.idle": "2022-04-12T14:24:58.335096Z",
     "shell.execute_reply": "2022-04-12T14:24:58.334616Z",
     "shell.execute_reply.started": "2022-04-12T13:46:54.270779Z"
    },
    "papermill": {
     "duration": 1.92799,
     "end_time": "2022-04-12T14:24:58.335224",
     "exception": false,
     "start_time": "2022-04-12T14:24:56.407234",
     "status": "completed"
    },
    "tags": []
   },
   "outputs": [
    {
     "data": {
      "text/plain": [
       "['russian', 'default', 'position', 'faced', 'accusation']"
      ]
     },
     "execution_count": 22,
     "metadata": {},
     "output_type": "execute_result"
    }
   ],
   "source": [
    "# Токенизация\n",
    "tokens = word_tokenize(train_corpus) #на выходе будет лист токенов\n",
    "tokens[:5]"
   ]
  },
  {
   "cell_type": "code",
   "execution_count": 23,
   "id": "4d59fb7a",
   "metadata": {
    "execution": {
     "iopub.execute_input": "2022-04-12T14:24:58.462111Z",
     "iopub.status.busy": "2022-04-12T14:24:58.461295Z",
     "iopub.status.idle": "2022-04-12T14:24:58.479889Z",
     "shell.execute_reply": "2022-04-12T14:24:58.479434Z",
     "shell.execute_reply.started": "2022-04-12T13:46:56.022298Z"
    },
    "papermill": {
     "duration": 0.085601,
     "end_time": "2022-04-12T14:24:58.480004",
     "exception": false,
     "start_time": "2022-04-12T14:24:58.394403",
     "status": "completed"
    },
    "tags": []
   },
   "outputs": [],
   "source": [
    "# Сделаем фильтрацию токенов и отберем N самых часто встречающихся\n",
    "\n",
    "# Отфильтруем те токены, которые не являются словами (буквами) или цифрами\n",
    "tokens_filtered = [word for word in tokens if word.isalnum()]"
   ]
  },
  {
   "cell_type": "code",
   "execution_count": 24,
   "id": "a7c490a2",
   "metadata": {
    "execution": {
     "iopub.execute_input": "2022-04-12T14:24:58.631730Z",
     "iopub.status.busy": "2022-04-12T14:24:58.616689Z",
     "iopub.status.idle": "2022-04-12T14:24:58.750739Z",
     "shell.execute_reply": "2022-04-12T14:24:58.750329Z",
     "shell.execute_reply.started": "2022-04-12T13:46:56.059401Z"
    },
    "papermill": {
     "duration": 0.211695,
     "end_time": "2022-04-12T14:24:58.750890",
     "exception": false,
     "start_time": "2022-04-12T14:24:58.539195",
     "status": "completed"
    },
    "tags": []
   },
   "outputs": [
    {
     "data": {
      "text/plain": [
       "FreqDist({'user': 12199, 'love': 1888, 'day': 1868, 'happy': 1181, 'u': 1135, 'amp': 1100, 'time': 868, 'life': 834, 'im': 780, 'today': 760, ...})"
      ]
     },
     "execution_count": 24,
     "metadata": {},
     "output_type": "execute_result"
    }
   ],
   "source": [
    "# Сделаем словарь {слово: частота появления},\n",
    "# Вывод будет отсортирован в порядке убывания популярности слова \n",
    "\n",
    "dist = FreqDist(tokens_filtered)\n",
    "dist"
   ]
  },
  {
   "cell_type": "code",
   "execution_count": 25,
   "id": "1dfaddc7",
   "metadata": {
    "execution": {
     "iopub.execute_input": "2022-04-12T14:24:58.897391Z",
     "iopub.status.busy": "2022-04-12T14:24:58.892223Z",
     "iopub.status.idle": "2022-04-12T14:24:58.900611Z",
     "shell.execute_reply": "2022-04-12T14:24:58.900075Z",
     "shell.execute_reply.started": "2022-04-12T13:46:56.208206Z"
    },
    "papermill": {
     "duration": 0.086472,
     "end_time": "2022-04-12T14:24:58.900736",
     "exception": false,
     "start_time": "2022-04-12T14:24:58.814264",
     "status": "completed"
    },
    "tags": []
   },
   "outputs": [
    {
     "data": {
      "text/plain": [
       "(1999,\n",
       " ['user', 'love', 'day', 'happy', 'u', 'amp', 'time', 'life', 'im', 'today'])"
      ]
     },
     "execution_count": 25,
     "metadata": {},
     "output_type": "execute_result"
    }
   ],
   "source": [
    "# Отберем первые N наиболее популярных токенов с паддингом = 1, \n",
    "# чтобы в будущем использовать 0 в качестве пустого значения\n",
    "\n",
    "tokens_filtered_top = [pair[0] for pair in dist.most_common(max_words-1)]  # -1 - padding\n",
    "len(tokens_filtered_top), tokens_filtered_top[:10]"
   ]
  },
  {
   "cell_type": "code",
   "execution_count": 26,
   "id": "82e0a9ff",
   "metadata": {
    "execution": {
     "iopub.execute_input": "2022-04-12T14:24:59.035533Z",
     "iopub.status.busy": "2022-04-12T14:24:59.034879Z",
     "iopub.status.idle": "2022-04-12T14:24:59.037612Z",
     "shell.execute_reply": "2022-04-12T14:24:59.038076Z",
     "shell.execute_reply.started": "2022-04-12T13:46:56.239479Z"
    },
    "papermill": {
     "duration": 0.073664,
     "end_time": "2022-04-12T14:24:59.038224",
     "exception": false,
     "start_time": "2022-04-12T14:24:58.964560",
     "status": "completed"
    },
    "tags": []
   },
   "outputs": [
    {
     "data": {
      "text/plain": [
       "1"
      ]
     },
     "execution_count": 26,
     "metadata": {},
     "output_type": "execute_result"
    }
   ],
   "source": [
    "vocabulary = {v: k for k, v in dict(enumerate(tokens_filtered_top, 1)).items()} # Начало индексов с 1 (не с 0)\n",
    "\n",
    "# Самое частовстречающееся слово - user,проверим его индекс, должен быть = 1\n",
    "vocabulary['user']"
   ]
  },
  {
   "cell_type": "code",
   "execution_count": 27,
   "id": "c07369f7",
   "metadata": {
    "execution": {
     "iopub.execute_input": "2022-04-12T14:24:59.176786Z",
     "iopub.status.busy": "2022-04-12T14:24:59.175874Z",
     "iopub.status.idle": "2022-04-12T14:24:59.178640Z",
     "shell.execute_reply": "2022-04-12T14:24:59.178174Z",
     "shell.execute_reply.started": "2022-04-12T13:46:56.255676Z"
    },
    "papermill": {
     "duration": 0.075517,
     "end_time": "2022-04-12T14:24:59.178757",
     "exception": false,
     "start_time": "2022-04-12T14:24:59.103240",
     "status": "completed"
    },
    "tags": []
   },
   "outputs": [],
   "source": [
    "# Обернем преобразование твитов в последовательность\n",
    "\n",
    "def text_to_sequence(tweet, maxlen):\n",
    "    result = []\n",
    "    #токенизация\n",
    "    tokens = word_tokenize(tweet.lower())\n",
    "    \n",
    "    #отфильтровываем все, что не слова (буквы) и числа\n",
    "    tokens_filtered = [word for word in tokens if word.isalnum()]\n",
    "    \n",
    "    for word in tokens_filtered:\n",
    "        # добавляем в result только слова из vocabulary (топ 2000)\n",
    "        if word in vocabulary:\n",
    "            result.append(vocabulary[word])\n",
    "\n",
    "    padding = [0] * (maxlen-len(result))\n",
    "    return result[-maxlen:] + padding"
   ]
  },
  {
   "cell_type": "code",
   "execution_count": 28,
   "id": "2f600c71",
   "metadata": {
    "execution": {
     "iopub.execute_input": "2022-04-12T14:24:59.321640Z",
     "iopub.status.busy": "2022-04-12T14:24:59.319734Z",
     "iopub.status.idle": "2022-04-12T14:25:07.054800Z",
     "shell.execute_reply": "2022-04-12T14:25:07.055376Z",
     "shell.execute_reply.started": "2022-04-12T13:46:56.268251Z"
    },
    "papermill": {
     "duration": 7.810843,
     "end_time": "2022-04-12T14:25:07.055575",
     "exception": false,
     "start_time": "2022-04-12T14:24:59.244732",
     "status": "completed"
    },
    "tags": []
   },
   "outputs": [
    {
     "name": "stdout",
     "output_type": "stream",
     "text": [
      "CPU times: user 7.73 s, sys: 10.6 ms, total: 7.74 s\n",
      "Wall time: 7.74 s\n"
     ]
    }
   ],
   "source": [
    "%%time\n",
    "X_train = np.asarray([text_to_sequence(tweet, max_len) for tweet in data_train[\"tweet\"]])\n",
    "X_val = np.asarray([text_to_sequence(tweet, max_len) for tweet in data_val[\"tweet\"]])\n",
    "X_test = np.asarray([text_to_sequence(tweet, max_len) for tweet in data_test[\"tweet\"]])"
   ]
  },
  {
   "cell_type": "code",
   "execution_count": 29,
   "id": "e77d0fe0",
   "metadata": {
    "execution": {
     "iopub.execute_input": "2022-04-12T14:25:07.183281Z",
     "iopub.status.busy": "2022-04-12T14:25:07.182664Z",
     "iopub.status.idle": "2022-04-12T14:25:07.185380Z",
     "shell.execute_reply": "2022-04-12T14:25:07.185764Z",
     "shell.execute_reply.started": "2022-04-12T13:47:04.715951Z"
    },
    "papermill": {
     "duration": 0.069293,
     "end_time": "2022-04-12T14:25:07.185923",
     "exception": false,
     "start_time": "2022-04-12T14:25:07.116630",
     "status": "completed"
    },
    "tags": []
   },
   "outputs": [
    {
     "data": {
      "text/plain": [
       "('euphorix today 40 bottle stock get euphorix limited supply last user liquidhappieness positive energy',\n",
       " array([  10, 1360, 1297,   13,   81,    1,   15,  803,    0,    0,    0,\n",
       "           0,    0,    0,    0,    0,    0,    0,    0,    0]))"
      ]
     },
     "execution_count": 29,
     "metadata": {},
     "output_type": "execute_result"
    }
   ],
   "source": [
    "data_train['tweet'].iloc[8], X_train[8]"
   ]
  },
  {
   "cell_type": "markdown",
   "id": "fb601803",
   "metadata": {
    "papermill": {
     "duration": 0.060473,
     "end_time": "2022-04-12T14:25:07.306889",
     "exception": false,
     "start_time": "2022-04-12T14:25:07.246416",
     "status": "completed"
    },
    "tags": []
   },
   "source": [
    "#### Создание datasets и dataloaders"
   ]
  },
  {
   "cell_type": "code",
   "execution_count": 30,
   "id": "dd50a8bb",
   "metadata": {
    "execution": {
     "iopub.execute_input": "2022-04-12T14:25:07.435341Z",
     "iopub.status.busy": "2022-04-12T14:25:07.434475Z",
     "iopub.status.idle": "2022-04-12T14:25:07.436166Z",
     "shell.execute_reply": "2022-04-12T14:25:07.436652Z",
     "shell.execute_reply.started": "2022-04-12T13:47:04.725903Z"
    },
    "papermill": {
     "duration": 0.069676,
     "end_time": "2022-04-12T14:25:07.436802",
     "exception": false,
     "start_time": "2022-04-12T14:25:07.367126",
     "status": "completed"
    },
    "tags": []
   },
   "outputs": [],
   "source": [
    "class DataWrapper(Dataset):\n",
    "    def __init__(self, data, target, transform=None):\n",
    "        self.data = torch.from_numpy(data).long() # сразу переводим в тензор\n",
    "        self.target = torch.from_numpy(target).long()\n",
    "        self.transform = transform\n",
    "        \n",
    "    def __getitem__(self, index):\n",
    "        x = self.data[index]\n",
    "        y = self.target[index]\n",
    "        \n",
    "        if self.transform:\n",
    "            x = self.transform(x)\n",
    "            \n",
    "        return x, y\n",
    "    \n",
    "    def __len__(self):\n",
    "        return len(self.data)"
   ]
  },
  {
   "cell_type": "code",
   "execution_count": 31,
   "id": "c6a3fc82",
   "metadata": {
    "execution": {
     "iopub.execute_input": "2022-04-12T14:25:07.564668Z",
     "iopub.status.busy": "2022-04-12T14:25:07.563962Z",
     "iopub.status.idle": "2022-04-12T14:25:07.570851Z",
     "shell.execute_reply": "2022-04-12T14:25:07.570394Z",
     "shell.execute_reply.started": "2022-04-12T13:47:04.737361Z"
    },
    "papermill": {
     "duration": 0.074048,
     "end_time": "2022-04-12T14:25:07.570974",
     "exception": false,
     "start_time": "2022-04-12T14:25:07.496926",
     "status": "completed"
    },
    "tags": []
   },
   "outputs": [],
   "source": [
    "#создание представителей классов Dataset и Dataloader\n",
    "train_dataset = DataWrapper(X_train, data_train['label'].values)\n",
    "train_dataloader = DataLoader(train_dataset, batch_size=batch_size, shuffle=True)\n",
    "\n",
    "val_dataset = DataWrapper(X_val, data_val['label'].values)\n",
    "val_dataloader = DataLoader(val_dataset, batch_size=8, shuffle=True)"
   ]
  },
  {
   "cell_type": "code",
   "execution_count": 32,
   "id": "dc179ec7",
   "metadata": {
    "execution": {
     "iopub.execute_input": "2022-04-12T14:25:07.700775Z",
     "iopub.status.busy": "2022-04-12T14:25:07.700138Z",
     "iopub.status.idle": "2022-04-12T14:25:07.755032Z",
     "shell.execute_reply": "2022-04-12T14:25:07.755488Z",
     "shell.execute_reply.started": "2022-04-12T13:47:04.750852Z"
    },
    "papermill": {
     "duration": 0.123879,
     "end_time": "2022-04-12T14:25:07.755654",
     "exception": false,
     "start_time": "2022-04-12T14:25:07.631775",
     "status": "completed"
    },
    "tags": []
   },
   "outputs": [
    {
     "name": "stdout",
     "output_type": "stream",
     "text": [
      "Тренировочный датасет:\n",
      "\n",
      "torch.Size([128, 20])\n",
      "torch.Size([128])\n",
      "tensor(0)\n",
      "\n",
      "Валидационный датасет:\n",
      "\n",
      "torch.Size([8, 20])\n",
      "torch.Size([8])\n",
      "tensor(0)\n"
     ]
    }
   ],
   "source": [
    "# Проверка работы dataloader-a\n",
    "\n",
    "for x, l in train_dataloader:\n",
    "    print('Тренировочный датасет:\\n')\n",
    "    print(x.shape)\n",
    "    print(l.shape)\n",
    "    print(l[0])\n",
    "    break\n",
    "\n",
    "print()\n",
    "for x, l in val_dataloader:\n",
    "    print('Валидационный датасет:\\n')\n",
    "    print(x.shape)\n",
    "    print(l.shape)\n",
    "    print(l[0])\n",
    "    break"
   ]
  },
  {
   "cell_type": "markdown",
   "id": "894733a5",
   "metadata": {
    "papermill": {
     "duration": 0.060573,
     "end_time": "2022-04-12T14:25:07.877757",
     "exception": false,
     "start_time": "2022-04-12T14:25:07.817184",
     "status": "completed"
    },
    "tags": []
   },
   "source": [
    "#### Построение нейронной сети\n",
    "#### 1. LSTM"
   ]
  },
  {
   "cell_type": "code",
   "execution_count": 33,
   "id": "27429157",
   "metadata": {
    "execution": {
     "iopub.execute_input": "2022-04-12T14:25:08.064878Z",
     "iopub.status.busy": "2022-04-12T14:25:08.063471Z",
     "iopub.status.idle": "2022-04-12T14:25:08.070352Z",
     "shell.execute_reply": "2022-04-12T14:25:08.071381Z",
     "shell.execute_reply.started": "2022-04-12T13:59:12.261283Z"
    },
    "papermill": {
     "duration": 0.133187,
     "end_time": "2022-04-12T14:25:08.071613",
     "exception": false,
     "start_time": "2022-04-12T14:25:07.938426",
     "status": "completed"
    },
    "tags": []
   },
   "outputs": [],
   "source": [
    "class LSTMFixedLen(nn.Module) :\n",
    "    def __init__(self, vocab_size, embedding_dim=128, hidden_dim=20, use_last=True):\n",
    "        super().__init__()\n",
    "        self.use_last = use_last\n",
    "        self.embeddings = nn.Embedding(vocab_size, embedding_dim, padding_idx=0)\n",
    "        self.gru = nn.LSTM(embedding_dim, hidden_dim, num_layers=2, batch_first=True)\n",
    "        self.linear = nn.Linear(hidden_dim, 1)\n",
    "        self.dropout = nn.Dropout(0.2)\n",
    "        \n",
    "    def forward(self, x):\n",
    "        x = self.embeddings(x)\n",
    "        x = self.dropout(x)\n",
    "        # print(x.shape)\n",
    "        \n",
    "        lstm_out, ht = self.gru(x)\n",
    "        # lstm_out: тензор с выходными фичами с последнего слоя для каждого токена B, L, Hout\n",
    "        # h_t: тензор с последними скрытыми состояниями по слоям (num_layers, B, Hout)\n",
    "        # print(lstm_out.shape)\n",
    "        # print(ht[1].shape)\n",
    "       \n",
    "        if self.use_last:\n",
    "            last_tensor = lstm_out[:,-1,:]\n",
    "            # print(last_tensor.shape)\n",
    "        else: # use mean\n",
    "            last_tensor = torch.mean(lstm_out[:,:], dim=1)\n",
    "            # print(last_tensor.shape)\n",
    "     \n",
    "        out = self.linear(last_tensor)\n",
    "        return torch.sigmoid(out)"
   ]
  },
  {
   "cell_type": "code",
   "execution_count": 34,
   "id": "d07c2283",
   "metadata": {
    "execution": {
     "iopub.execute_input": "2022-04-12T14:25:08.347539Z",
     "iopub.status.busy": "2022-04-12T14:25:08.346569Z",
     "iopub.status.idle": "2022-04-12T14:25:12.256470Z",
     "shell.execute_reply": "2022-04-12T14:25:12.255673Z",
     "shell.execute_reply.started": "2022-04-12T14:09:08.410438Z"
    },
    "papermill": {
     "duration": 4.085775,
     "end_time": "2022-04-12T14:25:12.256655",
     "exception": false,
     "start_time": "2022-04-12T14:25:08.170880",
     "status": "completed"
    },
    "tags": []
   },
   "outputs": [
    {
     "name": "stdout",
     "output_type": "stream",
     "text": [
      "LSTMFixedLen(\n",
      "  (embeddings): Embedding(2000, 128, padding_idx=0)\n",
      "  (gru): LSTM(128, 100, num_layers=2, batch_first=True)\n",
      "  (linear): Linear(in_features=100, out_features=1, bias=True)\n",
      "  (dropout): Dropout(p=0.2, inplace=False)\n",
      ")\n",
      "Parameters: 428901\n"
     ]
    }
   ],
   "source": [
    "device = 'cuda' if torch.cuda.is_available() else 'cpu'\n",
    "\n",
    "lstm_net = LSTMFixedLen(max_words, 128, 100, use_last=False).to(device)\n",
    "optimizer = torch.optim.Adam(lstm_net.parameters(), lr=0.001)\n",
    "criterion = nn.BCELoss()\n",
    "\n",
    "print(lstm_net)\n",
    "print(\"Parameters:\", sum([param.nelement() for param in lstm_net.parameters()]))"
   ]
  },
  {
   "cell_type": "markdown",
   "id": "12a7f351",
   "metadata": {
    "papermill": {
     "duration": 0.06231,
     "end_time": "2022-04-12T14:25:12.382170",
     "exception": false,
     "start_time": "2022-04-12T14:25:12.319860",
     "status": "completed"
    },
    "tags": []
   },
   "source": [
    "Обучаем сеть"
   ]
  },
  {
   "cell_type": "code",
   "execution_count": 35,
   "id": "ba74a6ad",
   "metadata": {
    "execution": {
     "iopub.execute_input": "2022-04-12T14:25:12.517926Z",
     "iopub.status.busy": "2022-04-12T14:25:12.512732Z",
     "iopub.status.idle": "2022-04-12T14:25:34.238426Z",
     "shell.execute_reply": "2022-04-12T14:25:34.239186Z",
     "shell.execute_reply.started": "2022-04-12T14:09:09.630842Z"
    },
    "papermill": {
     "duration": 21.796323,
     "end_time": "2022-04-12T14:25:34.239396",
     "exception": false,
     "start_time": "2022-04-12T14:25:12.443073",
     "status": "completed"
    },
    "tags": []
   },
   "outputs": [
    {
     "name": "stdout",
     "output_type": "stream",
     "text": [
      "Epoch [1/10]. Step [175/175]. Loss: 0.217. Acc: 0.935. Val loss: 0.048. Val acc: 0.946\n",
      "Epoch [2/10]. Step [175/175]. Loss: 0.196. Acc: 0.950. Val loss: 0.050. Val acc: 0.950\n",
      "Epoch [3/10]. Step [175/175]. Loss: 0.077. Acc: 0.956. Val loss: 0.144. Val acc: 0.952\n",
      "Epoch [4/10]. Step [175/175]. Loss: 0.154. Acc: 0.960. Val loss: 0.038. Val acc: 0.952\n",
      "Epoch [5/10]. Step [175/175]. Loss: 0.063. Acc: 0.965. Val loss: 0.014. Val acc: 0.954\n",
      "Epoch [6/10]. Step [175/175]. Loss: 0.119. Acc: 0.969. Val loss: 0.435. Val acc: 0.954\n",
      "Epoch [7/10]. Step [175/175]. Loss: 0.021. Acc: 0.972. Val loss: 0.006. Val acc: 0.954\n",
      "Epoch [8/10]. Step [175/175]. Loss: 0.069. Acc: 0.975. Val loss: 0.002. Val acc: 0.955\n",
      "Epoch [9/10]. Step [175/175]. Loss: 0.073. Acc: 0.978. Val loss: 0.000. Val acc: 0.955\n",
      "Epoch [10/10]. Step [175/175]. Loss: 0.068. Acc: 0.982. Val loss: 0.006. Val acc: 0.950\n",
      "Training is finished!\n"
     ]
    }
   ],
   "source": [
    "lstm_net.train()\n",
    "th = 0.5\n",
    "\n",
    "train_loss_history_lstm = []\n",
    "val_loss_history_lstm = []\n",
    "\n",
    "train_acc_history_lstm = []\n",
    "val_acc_history_lstm = []\n",
    "\n",
    "for epoch in range(epochs):  \n",
    "    lstm_net.train()\n",
    "    running_items, running_right = 0.0, 0.0\n",
    "    for i, data in enumerate(train_dataloader):\n",
    "        inputs, labels = data[0].to(device), data[1].to(device)\n",
    "\n",
    "        # обнуляем градиент\n",
    "        optimizer.zero_grad()\n",
    "        outputs = lstm_net(inputs)\n",
    "        \n",
    "        loss = criterion(outputs, labels.float().view(-1, 1))\n",
    "        loss.backward()\n",
    "        optimizer.step()\n",
    "\n",
    "        # подсчет ошибки на обучении\n",
    "        loss = loss.item()\n",
    "        running_items += len(labels)\n",
    "        # подсчет метрики на обучении\n",
    "        pred_labels = torch.squeeze((outputs > th).int())\n",
    "        running_right += (labels == pred_labels).sum()\n",
    "        \n",
    "    # выводим статистику о процессе обучения\n",
    "    lstm_net.eval()\n",
    "    acc_train = running_right / running_items\n",
    "    print(f'Epoch [{epoch + 1}/{epochs}]. ' \\\n",
    "          f'Step [{i + 1}/{len(train_dataloader)}]. ' \\\n",
    "          f'Loss: {loss:.3f}. ' \\\n",
    "          f'Acc: {acc_train:.3f}', end='. ')\n",
    "    running_loss, running_items, running_right = 0.0, 0.0, 0.0\n",
    "    train_loss_history_lstm.append(loss)\n",
    "    train_acc_history_lstm.append(acc_train.detach().cpu())\n",
    "\n",
    "    # выводим статистику на тестовых данных\n",
    "    val_running_right, val_running_total, val_loss = 0.0, 0.0, 0.0\n",
    "    for j, data in enumerate(val_dataloader):\n",
    "        val_labels = data[1].to(device)\n",
    "        val_outputs = lstm_net(data[0].to(device))\n",
    "        \n",
    "        # подсчет ошибки на тесте\n",
    "        val_loss = criterion(val_outputs, val_labels.float().view(-1, 1))\n",
    "        # подсчет метрики на тесте\n",
    "        val_running_total += len(data[1])\n",
    "        pred_val_labels = torch.squeeze((val_outputs > th).int())\n",
    "        val_running_right += (val_labels == pred_val_labels).sum()\n",
    "    val_acc = val_running_right / val_running_total\n",
    "    print(f'Val loss: {val_loss:.3f}. Val acc: {val_acc:.3f}')\n",
    "    val_acc_history_lstm.append(val_acc.detach().cpu())\n",
    "    val_loss_history_lstm.append(val_loss.item())\n",
    "    \n",
    "        \n",
    "print('Training is finished!')"
   ]
  },
  {
   "cell_type": "code",
   "execution_count": 36,
   "id": "e7ef85dc",
   "metadata": {
    "execution": {
     "iopub.execute_input": "2022-04-12T14:25:34.384624Z",
     "iopub.status.busy": "2022-04-12T14:25:34.379759Z",
     "iopub.status.idle": "2022-04-12T14:25:34.591225Z",
     "shell.execute_reply": "2022-04-12T14:25:34.591693Z",
     "shell.execute_reply.started": "2022-04-12T14:09:47.943111Z"
    },
    "papermill": {
     "duration": 0.283911,
     "end_time": "2022-04-12T14:25:34.591871",
     "exception": false,
     "start_time": "2022-04-12T14:25:34.307960",
     "status": "completed"
    },
    "tags": []
   },
   "outputs": [
    {
     "data": {
      "image/png": "[encoded data removed]",
      "text/plain": [
       "<Figure size 432x288 with 1 Axes>"
      ]
     },
     "metadata": {
      "needs_background": "light"
     },
     "output_type": "display_data"
    }
   ],
   "source": [
    "import matplotlib.pyplot as plt\n",
    "\n",
    "plt.title('Loss history')\n",
    "plt.grid(True)\n",
    "plt.ylabel('Loss')\n",
    "plt.xlabel('Epoch')\n",
    "plt.plot(train_loss_history_lstm, label='train')\n",
    "plt.plot(val_loss_history_lstm, label='val')\n",
    "plt.legend()\n",
    "plt.show()"
   ]
  },
  {
   "cell_type": "code",
   "execution_count": 37,
   "id": "9bf712ae",
   "metadata": {
    "execution": {
     "iopub.execute_input": "2022-04-12T14:25:34.786945Z",
     "iopub.status.busy": "2022-04-12T14:25:34.775477Z",
     "iopub.status.idle": "2022-04-12T14:25:34.955936Z",
     "shell.execute_reply": "2022-04-12T14:25:34.955487Z",
     "shell.execute_reply.started": "2022-04-12T14:09:48.874098Z"
    },
    "papermill": {
     "duration": 0.283089,
     "end_time": "2022-04-12T14:25:34.956075",
     "exception": false,
     "start_time": "2022-04-12T14:25:34.672986",
     "status": "completed"
    },
    "tags": []
   },
   "outputs": [
    {
     "data": {
      "image/png": "[encoded data removed]",
      "text/plain": [
       "<Figure size 432x288 with 1 Axes>"
      ]
     },
     "metadata": {
      "needs_background": "light"
     },
     "output_type": "display_data"
    }
   ],
   "source": [
    "plt.title('Accuracy history')\n",
    "plt.grid(True)\n",
    "plt.ylabel('Loss')\n",
    "plt.xlabel('Epoch')\n",
    "plt.plot(train_acc_history_lstm, label='train')\n",
    "plt.plot(val_acc_history_lstm, label='test')\n",
    "plt.legend()\n",
    "plt.show()"
   ]
  },
  {
   "cell_type": "markdown",
   "id": "884bfa13",
   "metadata": {
    "papermill": {
     "duration": 0.070206,
     "end_time": "2022-04-12T14:25:35.097642",
     "exception": false,
     "start_time": "2022-04-12T14:25:35.027436",
     "status": "completed"
    },
    "tags": []
   },
   "source": [
    "#### 2.GRU"
   ]
  },
  {
   "cell_type": "code",
   "execution_count": 38,
   "id": "89549907",
   "metadata": {
    "execution": {
     "iopub.execute_input": "2022-04-12T14:25:35.245614Z",
     "iopub.status.busy": "2022-04-12T14:25:35.242759Z",
     "iopub.status.idle": "2022-04-12T14:25:35.247927Z",
     "shell.execute_reply": "2022-04-12T14:25:35.247477Z",
     "shell.execute_reply.started": "2022-04-12T14:11:06.077218Z"
    },
    "papermill": {
     "duration": 0.080767,
     "end_time": "2022-04-12T14:25:35.248047",
     "exception": false,
     "start_time": "2022-04-12T14:25:35.167280",
     "status": "completed"
    },
    "tags": []
   },
   "outputs": [],
   "source": [
    "class GRUFixedLen(nn.Module) :\n",
    "    def __init__(self, vocab_size, embedding_dim=128, hidden_dim=20, use_last=True):\n",
    "        super().__init__()\n",
    "        self.use_last = use_last\n",
    "        self.embeddings = nn.Embedding(vocab_size, embedding_dim, padding_idx=0)\n",
    "        self.gru = nn.GRU(embedding_dim, hidden_dim, num_layers=2, batch_first=True)\n",
    "        self.linear = nn.Linear(hidden_dim, 1)\n",
    "        self.dropout = nn.Dropout(0.2)\n",
    "        \n",
    "    def forward(self, x):\n",
    "        x = self.embeddings(x)\n",
    "        x = self.dropout(x)\n",
    "        # print(x.shape)\n",
    "        \n",
    "        gru_out, ht = self.gru(x)\n",
    "        # gru_out: тензор с выходными фичами с последнего слоя для каждого токена B, L, Hout\n",
    "        # h_t: тензор с последними скрытыми состояниями по слоям (num_layers, B, Hout)\n",
    "\n",
    "        if self.use_last:\n",
    "            last_tensor = gru_out[:,-1,:]\n",
    "        else: # use mean\n",
    "            last_tensor = torch.mean(gru_out[:,:], dim=1)\n",
    "     \n",
    "        out = self.linear(last_tensor)\n",
    "        return torch.sigmoid(out)"
   ]
  },
  {
   "cell_type": "code",
   "execution_count": 39,
   "id": "036757b2",
   "metadata": {
    "execution": {
     "iopub.execute_input": "2022-04-12T14:25:35.392979Z",
     "iopub.status.busy": "2022-04-12T14:25:35.392223Z",
     "iopub.status.idle": "2022-04-12T14:25:35.401313Z",
     "shell.execute_reply": "2022-04-12T14:25:35.401722Z",
     "shell.execute_reply.started": "2022-04-12T14:12:08.413358Z"
    },
    "papermill": {
     "duration": 0.084808,
     "end_time": "2022-04-12T14:25:35.401889",
     "exception": false,
     "start_time": "2022-04-12T14:25:35.317081",
     "status": "completed"
    },
    "tags": []
   },
   "outputs": [
    {
     "name": "stdout",
     "output_type": "stream",
     "text": [
      "GRUFixedLen(\n",
      "  (embeddings): Embedding(2000, 128, padding_idx=0)\n",
      "  (gru): GRU(128, 100, num_layers=2, batch_first=True)\n",
      "  (linear): Linear(in_features=100, out_features=1, bias=True)\n",
      "  (dropout): Dropout(p=0.2, inplace=False)\n",
      ")\n",
      "Parameters: 385701\n"
     ]
    }
   ],
   "source": [
    "gru_net = GRUFixedLen(max_words, 128, 100, use_last=False).to(device)\n",
    "optimizer = torch.optim.Adam(gru_net.parameters(), lr=0.001)\n",
    "criterion = nn.BCELoss()\n",
    "\n",
    "print(gru_net)\n",
    "print(\"Parameters:\", sum([param.nelement() for param in gru_net.parameters()]))"
   ]
  },
  {
   "cell_type": "code",
   "execution_count": 40,
   "id": "208a3c58",
   "metadata": {
    "execution": {
     "iopub.execute_input": "2022-04-12T14:25:35.553157Z",
     "iopub.status.busy": "2022-04-12T14:25:35.552506Z",
     "iopub.status.idle": "2022-04-12T14:26:21.295723Z",
     "shell.execute_reply": "2022-04-12T14:26:21.296320Z",
     "shell.execute_reply.started": "2022-04-12T14:12:09.010430Z"
    },
    "papermill": {
     "duration": 45.825383,
     "end_time": "2022-04-12T14:26:21.296531",
     "exception": false,
     "start_time": "2022-04-12T14:25:35.471148",
     "status": "completed"
    },
    "tags": []
   },
   "outputs": [
    {
     "name": "stdout",
     "output_type": "stream",
     "text": [
      "Epoch [1/10]. Step [175/175]. Loss: 0.178. Acc: 0.936. Val loss: 0.590. Val acc: 0.946\n",
      "Epoch [2/10]. Step [175/175]. Loss: 0.098. Acc: 0.949. Val loss: 0.055. Val acc: 0.951\n",
      "Epoch [3/10]. Step [175/175]. Loss: 0.132. Acc: 0.954. Val loss: 0.140. Val acc: 0.952\n",
      "Epoch [4/10]. Step [175/175]. Loss: 0.078. Acc: 0.959. Val loss: 0.093. Val acc: 0.951\n",
      "Epoch [5/10]. Step [175/175]. Loss: 0.080. Acc: 0.963. Val loss: 0.013. Val acc: 0.952\n",
      "Epoch [6/10]. Step [175/175]. Loss: 0.073. Acc: 0.967. Val loss: 0.330. Val acc: 0.952\n",
      "Epoch [7/10]. Step [175/175]. Loss: 0.046. Acc: 0.969. Val loss: 0.009. Val acc: 0.954\n",
      "Epoch [8/10]. Step [175/175]. Loss: 0.055. Acc: 0.974. Val loss: 0.002. Val acc: 0.948\n",
      "Epoch [9/10]. Step [175/175]. Loss: 0.088. Acc: 0.976. Val loss: 0.151. Val acc: 0.947\n",
      "Epoch [10/10]. Step [175/175]. Loss: 0.030. Acc: 0.978. Val loss: 0.005. Val acc: 0.951\n",
      "Training is finished!\n"
     ]
    }
   ],
   "source": [
    "#обучение модели\n",
    "gru_net.train()\n",
    "\n",
    "train_loss_history_gru = []\n",
    "val_loss_history_gru = []\n",
    "\n",
    "train_acc_history_gru = []\n",
    "val_acc_history_gru = []\n",
    "\n",
    "train_acc = torchmetrics.Accuracy().to(device)\n",
    "val_acc = torchmetrics.Accuracy().to(device)\n",
    "\n",
    "for epoch in range(epochs):  \n",
    "    gru_net.train()\n",
    "    for i, data in enumerate(train_dataloader, 0):\n",
    "        inputs, labels = data[0].to(device), data[1].to(device)\n",
    "\n",
    "        # обнуляем градиент\n",
    "        optimizer.zero_grad()\n",
    "        outputs = gru_net(inputs)\n",
    "        loss = criterion(outputs, labels.float().view(-1, 1))\n",
    "        loss.backward()\n",
    "        optimizer.step()\n",
    "\n",
    "        # подсчет ошибки на обучении\n",
    "        loss = loss.item()\n",
    "        \n",
    "        # подсчет метрики на обучении\n",
    "        train_acc(outputs.squeeze(), labels)\n",
    "        \n",
    "    # выводим статистику о процессе обучения\n",
    "    gru_net.eval()\n",
    "    \n",
    "    print(f'Epoch [{epoch + 1}/{epochs}]. ' \\\n",
    "            f'Step [{i + 1}/{len(train_dataloader)}]. ' \\\n",
    "            f'Loss: {loss:.3f}. ' \\\n",
    "            f'Acc: {train_acc.compute().item():.3f}', end='. ')\n",
    "\n",
    "    train_loss_history_gru.append(loss)\n",
    "    train_acc_history_gru.append(train_acc.compute().item())\n",
    "    train_acc.reset()\n",
    "\n",
    "    \n",
    "    # выводим статистику на тестовых данных\n",
    "    for j, data in enumerate(val_dataloader):\n",
    "        val_labels = data[1].to(device)\n",
    "        val_outputs = gru_net(data[0].to(device))\n",
    "        \n",
    "        # подсчет ошибки на тесте\n",
    "        val_loss = criterion(val_outputs, val_labels.float().view(-1, 1))\n",
    "        \n",
    "        # подсчет метрики на тесте\n",
    "        val_acc(val_outputs.squeeze(), val_labels)\n",
    "    \n",
    "    val_loss_history_gru.append(val_loss.item())\n",
    "    val_acc_history_gru.append(val_acc.compute().item())\n",
    "    print(f'Val loss: {val_loss:.3f}. Val acc: {val_acc.compute().item():.3f}')\n",
    "    \n",
    "    val_acc.reset()\n",
    "    \n",
    "print('Training is finished!')"
   ]
  },
  {
   "cell_type": "code",
   "execution_count": 41,
   "id": "de0b2a44",
   "metadata": {
    "execution": {
     "iopub.execute_input": "2022-04-12T14:26:21.489343Z",
     "iopub.status.busy": "2022-04-12T14:26:21.482206Z",
     "iopub.status.idle": "2022-04-12T14:26:21.659315Z",
     "shell.execute_reply": "2022-04-12T14:26:21.659759Z",
     "shell.execute_reply.started": "2022-04-12T14:12:56.392286Z"
    },
    "papermill": {
     "duration": 0.286967,
     "end_time": "2022-04-12T14:26:21.659936",
     "exception": false,
     "start_time": "2022-04-12T14:26:21.372969",
     "status": "completed"
    },
    "tags": []
   },
   "outputs": [
    {
     "data": {
      "image/png": "[encoded data removed]",
      "text/plain": [
       "<Figure size 432x288 with 1 Axes>"
      ]
     },
     "metadata": {
      "needs_background": "light"
     },
     "output_type": "display_data"
    }
   ],
   "source": [
    "import matplotlib.pyplot as plt\n",
    "\n",
    "plt.title('Loss history')\n",
    "plt.grid(True)\n",
    "plt.ylabel('Loss')\n",
    "plt.xlabel('Epoch')\n",
    "plt.plot(train_loss_history_gru, label='train')\n",
    "plt.plot(val_loss_history_gru, label='val')\n",
    "plt.legend()\n",
    "plt.show()"
   ]
  },
  {
   "cell_type": "code",
   "execution_count": 42,
   "id": "2a46d077",
   "metadata": {
    "execution": {
     "iopub.execute_input": "2022-04-12T14:26:22.079642Z",
     "iopub.status.busy": "2022-04-12T14:26:22.071598Z",
     "iopub.status.idle": "2022-04-12T14:26:22.234810Z",
     "shell.execute_reply": "2022-04-12T14:26:22.234105Z",
     "shell.execute_reply.started": "2022-04-12T14:12:57.179209Z"
    },
    "papermill": {
     "duration": 0.498201,
     "end_time": "2022-04-12T14:26:22.234948",
     "exception": false,
     "start_time": "2022-04-12T14:26:21.736747",
     "status": "completed"
    },
    "tags": []
   },
   "outputs": [
    {
     "data": {
      "image/png": "[encoded data removed]",
      "text/plain": [
       "<Figure size 432x288 with 1 Axes>"
      ]
     },
     "metadata": {
      "needs_background": "light"
     },
     "output_type": "display_data"
    }
   ],
   "source": [
    "plt.title('Accuracy history')\n",
    "plt.grid(True)\n",
    "plt.ylabel('Loss')\n",
    "plt.xlabel('Epoch')\n",
    "plt.plot(train_acc_history_gru, label='train')\n",
    "plt.plot(val_acc_history_gru, label='test')\n",
    "plt.legend()\n",
    "plt.show()"
   ]
  },
  {
   "cell_type": "code",
   "execution_count": 43,
   "id": "7d00410f",
   "metadata": {
    "execution": {
     "iopub.execute_input": "2022-04-12T14:26:22.397729Z",
     "iopub.status.busy": "2022-04-12T14:26:22.396568Z",
     "iopub.status.idle": "2022-04-12T14:26:22.399898Z",
     "shell.execute_reply": "2022-04-12T14:26:22.400304Z",
     "shell.execute_reply.started": "2022-04-12T14:16:32.744947Z"
    },
    "papermill": {
     "duration": 0.08788,
     "end_time": "2022-04-12T14:26:22.400441",
     "exception": false,
     "start_time": "2022-04-12T14:26:22.312561",
     "status": "completed"
    },
    "tags": []
   },
   "outputs": [
    {
     "data": {
      "text/plain": [
       "0.982"
      ]
     },
     "execution_count": 43,
     "metadata": {},
     "output_type": "execute_result"
    }
   ],
   "source": [
    "round(float(train_acc_history_lstm[-1]), 3)"
   ]
  },
  {
   "cell_type": "code",
   "execution_count": 44,
   "id": "aff45534",
   "metadata": {
    "execution": {
     "iopub.execute_input": "2022-04-12T14:26:22.583304Z",
     "iopub.status.busy": "2022-04-12T14:26:22.582603Z",
     "iopub.status.idle": "2022-04-12T14:26:22.585671Z",
     "shell.execute_reply": "2022-04-12T14:26:22.586136Z",
     "shell.execute_reply.started": "2022-04-12T14:20:16.519892Z"
    },
    "papermill": {
     "duration": 0.105425,
     "end_time": "2022-04-12T14:26:22.586284",
     "exception": false,
     "start_time": "2022-04-12T14:26:22.480859",
     "status": "completed"
    },
    "tags": []
   },
   "outputs": [
    {
     "data": {
      "text/html": [
       "<div>\n",
       "<style scoped>\n",
       "    .dataframe tbody tr th:only-of-type {\n",
       "        vertical-align: middle;\n",
       "    }\n",
       "\n",
       "    .dataframe tbody tr th {\n",
       "        vertical-align: top;\n",
       "    }\n",
       "\n",
       "    .dataframe thead th {\n",
       "        text-align: right;\n",
       "    }\n",
       "</style>\n",
       "<table border=\"1\" class=\"dataframe\">\n",
       "  <thead>\n",
       "    <tr style=\"text-align: right;\">\n",
       "      <th></th>\n",
       "      <th>Acc_train</th>\n",
       "      <th>Acc_val</th>\n",
       "    </tr>\n",
       "  </thead>\n",
       "  <tbody>\n",
       "    <tr>\n",
       "      <th>LSTM</th>\n",
       "      <td>0.982</td>\n",
       "      <td>0.950</td>\n",
       "    </tr>\n",
       "    <tr>\n",
       "      <th>GRU</th>\n",
       "      <td>0.978</td>\n",
       "      <td>0.951</td>\n",
       "    </tr>\n",
       "  </tbody>\n",
       "</table>\n",
       "</div>"
      ],
      "text/plain": [
       "      Acc_train  Acc_val\n",
       "LSTM      0.982    0.950\n",
       "GRU       0.978    0.951"
      ]
     },
     "execution_count": 44,
     "metadata": {},
     "output_type": "execute_result"
    }
   ],
   "source": [
    "# сводная таблица метрик моделей\n",
    "metrics_result = pd.DataFrame({'Acc_train': [round(float(train_acc_history_lstm[-1]), 3), round(float(train_acc_history_gru[-1]), 3)],\n",
    "                                'Acc_val': [round(float(val_acc_history_lstm[-1]), 3), round(float(val_acc_history_gru[-1]), 3)]},\n",
    "                              index =['LSTM', 'GRU'])\n",
    "\n",
    "metrics_result"
   ]
  },
  {
   "cell_type": "markdown",
   "id": "d264c4ac",
   "metadata": {
    "papermill": {
     "duration": 0.077984,
     "end_time": "2022-04-12T14:26:22.749573",
     "exception": false,
     "start_time": "2022-04-12T14:26:22.671589",
     "status": "completed"
    },
    "tags": []
   },
   "source": [
    "**Выводы:**  \n",
    "- увеличение количества эпох не повлияло на метрику, т.к. ее рост не монотонный\n",
    "- уменьшение batch_size и количества слов в последовательности (max_len) поспособствовало увеличению метрики\n",
    "- oversampling классов привел к ухудшнеию результата, в итоговой версии отказалась от него\n",
    "- значения метрики при выборе последнего или среднего значения выходного тензора после рекуррентного слоя практически не отличаются\n",
    "- увеличение количества рекуррентых слоев не оказало влияния на метрику, но время обучения существенно увеличилось\n",
    "- увеличение количества нейронов в скрытом слое (hidden_dim) положительно повлияло на метрику\n",
    "- увеличение размера embedding-a привело к усилению переобучения\n",
    "- сети LSTM и GRU показали себя примерно одинаково успешно"
   ]
  }
 ],
 "metadata": {
  "kernelspec": {
   "display_name": "Python 3",
   "language": "python",
   "name": "python3"
  },
  "language_info": {
   "codemirror_mode": {
    "name": "ipython",
    "version": 3
   },
   "file_extension": ".py",
   "mimetype": "text/x-python",
   "name": "python",
   "nbconvert_exporter": "python",
   "pygments_lexer": "ipython3",
   "version": "3.9.2"
  },
  "papermill": {
   "default_parameters": {},
   "duration": 108.604904,
   "end_time": "2022-04-12T14:26:24.898624",
   "environment_variables": {},
   "exception": null,
   "input_path": "__notebook__.ipynb",
   "output_path": "__notebook__.ipynb",
   "parameters": {},
   "start_time": "2022-04-12T14:24:36.293720",
   "version": "2.3.3"
  }
 },
 "nbformat": 4,
 "nbformat_minor": 5
}
