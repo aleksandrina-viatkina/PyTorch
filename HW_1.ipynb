{
  "cells": [
    {
      "cell_type": "code",
      "execution_count": 1,
      "metadata": {
        "id": "_CNZn_3CofVO"
      },
      "outputs": [],
      "source": [
        "import torch"
      ]
    },
    {
      "cell_type": "code",
      "execution_count": 32,
      "metadata": {
        "id": "QGYTKAxeofVR",
        "colab": {
          "base_uri": "https://localhost:8080/"
        },
        "outputId": "39fbde03-1a8a-4ae4-9203-13b927961803"
      },
      "outputs": [
        {
          "output_type": "execute_result",
          "data": {
            "text/plain": [
              "tensor([[[6., 3., 7., 3., 9.],\n",
              "         [8., 5., 1., 8., 3.],\n",
              "         [8., 0., 1., 1., 3.],\n",
              "         [3., 4., 1., 7., 8.]],\n",
              "\n",
              "        [[0., 1., 9., 2., 1.],\n",
              "         [6., 9., 7., 1., 0.],\n",
              "         [9., 7., 9., 2., 0.],\n",
              "         [7., 0., 7., 7., 2.]],\n",
              "\n",
              "        [[2., 0., 4., 5., 9.],\n",
              "         [4., 3., 1., 3., 3.],\n",
              "         [2., 5., 8., 8., 7.],\n",
              "         [0., 4., 1., 6., 1.]]])"
            ]
          },
          "metadata": {},
          "execution_count": 32
        }
      ],
      "source": [
        "# 1. Создайте случайный FloatTensor размера 3x4x5\n",
        "\n",
        "my_tsr = torch.randint(10, size = (3, 4, 5)).type(torch.FloatTensor)\n",
        "my_tsr"
      ]
    },
    {
      "cell_type": "code",
      "execution_count": 33,
      "metadata": {
        "id": "7GV_q8DdofVV",
        "colab": {
          "base_uri": "https://localhost:8080/"
        },
        "outputId": "45c02438-da9c-4816-f2fb-70771e2216bd"
      },
      "outputs": [
        {
          "output_type": "execute_result",
          "data": {
            "text/plain": [
              "torch.Size([3, 4, 5])"
            ]
          },
          "metadata": {},
          "execution_count": 33
        }
      ],
      "source": [
        "# 2. Выведите его форму (shape)\n",
        "\n",
        "my_tsr.size()"
      ]
    },
    {
      "cell_type": "code",
      "execution_count": 34,
      "metadata": {
        "id": "f1OTy65FofVX",
        "colab": {
          "base_uri": "https://localhost:8080/"
        },
        "outputId": "63d83c0a-0ff1-4493-adbf-9b010d49d04a"
      },
      "outputs": [
        {
          "output_type": "execute_result",
          "data": {
            "text/plain": [
              "tensor([[6., 3., 7., 3., 9., 8., 5., 1., 8., 3.],\n",
              "        [8., 0., 1., 1., 3., 3., 4., 1., 7., 8.],\n",
              "        [0., 1., 9., 2., 1., 6., 9., 7., 1., 0.],\n",
              "        [9., 7., 9., 2., 0., 7., 0., 7., 7., 2.],\n",
              "        [2., 0., 4., 5., 9., 4., 3., 1., 3., 3.],\n",
              "        [2., 5., 8., 8., 7., 0., 4., 1., 6., 1.]])"
            ]
          },
          "metadata": {},
          "execution_count": 34
        }
      ],
      "source": [
        "# 3. Приведите его к форме 6х10\n",
        "\n",
        "my_tsr_rshp = my_tsr.reshape(6, 10)\n",
        "my_tsr_rshp.size()\n",
        "my_tsr_rshp"
      ]
    },
    {
      "cell_type": "code",
      "execution_count": 37,
      "metadata": {
        "id": "BEVOv9_TofVe",
        "colab": {
          "base_uri": "https://localhost:8080/"
        },
        "outputId": "d271ef3d-b1a8-4e1a-fc19-d90a7f41d194"
      },
      "outputs": [
        {
          "output_type": "execute_result",
          "data": {
            "text/plain": [
              "tensor([-1, -1, -2,  0,  0,  0,  0,  0, -1,  0], dtype=torch.int32)"
            ]
          },
          "metadata": {},
          "execution_count": 37
        }
      ],
      "source": [
        "# 4. Создайте случайный IntTensor размера 10\n",
        "\n",
        "my_tsr2 = torch.randn(10).type(torch.IntTensor)\n",
        "my_tsr2"
      ]
    },
    {
      "cell_type": "code",
      "source": [
        "# 5. Умножьте созданный FloatTensor на созданный IntTensor поэлементно\n",
        "\n",
        "new_tsr = my_tsr_rshp.mul(my_tsr2)\n",
        "new_tsr"
      ],
      "metadata": {
        "id": "TAX3DUiSa07K",
        "colab": {
          "base_uri": "https://localhost:8080/"
        },
        "outputId": "6faec764-81d6-41a3-cbe6-9bc93959b9e5"
      },
      "execution_count": 40,
      "outputs": [
        {
          "output_type": "execute_result",
          "data": {
            "text/plain": [
              "tensor([[ -6.,  -3., -14.,   0.,   0.,   0.,   0.,   0.,  -8.,   0.],\n",
              "        [ -8.,  -0.,  -2.,   0.,   0.,   0.,   0.,   0.,  -7.,   0.],\n",
              "        [ -0.,  -1., -18.,   0.,   0.,   0.,   0.,   0.,  -1.,   0.],\n",
              "        [ -9.,  -7., -18.,   0.,   0.,   0.,   0.,   0.,  -7.,   0.],\n",
              "        [ -2.,  -0.,  -8.,   0.,   0.,   0.,   0.,   0.,  -3.,   0.],\n",
              "        [ -2.,  -5., -16.,   0.,   0.,   0.,   0.,   0.,  -6.,   0.]])"
            ]
          },
          "metadata": {},
          "execution_count": 40
        }
      ]
    },
    {
      "cell_type": "code",
      "execution_count": 48,
      "metadata": {
        "id": "eUxdWlQZofVi",
        "colab": {
          "base_uri": "https://localhost:8080/"
        },
        "outputId": "0182054c-cb57-4b67-d313-6cce87c357f4"
      },
      "outputs": [
        {
          "output_type": "execute_result",
          "data": {
            "text/plain": [
              "torch.Size([6, 6])"
            ]
          },
          "metadata": {},
          "execution_count": 48
        }
      ],
      "source": [
        "# 6. Умножьте тензор матрично на себя, чтобы результат был размерности 6x6\n",
        "# Подсказка: .dot может не подойти\n",
        "\n",
        "(new_tsr @ new_tsr.T).size()"
      ]
    },
    {
      "cell_type": "code",
      "execution_count": 68,
      "metadata": {
        "id": "u3V6CsNkofVj",
        "colab": {
          "base_uri": "https://localhost:8080/"
        },
        "outputId": "df83d504-94dc-457d-911d-6273781c1d24"
      },
      "outputs": [
        {
          "output_type": "stream",
          "name": "stdout",
          "text": [
            "x = tensor([1.], requires_grad=True)\n",
            "z = tensor([0.5000], requires_grad=True)\n",
            "t = tensor([2.], requires_grad=True)\n",
            "dy/dx:  tensor([3.])\n",
            "dy/dz:  tensor([1.])\n",
            "dy/dt:  tensor([-75.])\n"
          ]
        }
      ],
      "source": [
        "# 7. Посчитайте производную функции y = x**3 + z - 75t в точке (1, 0.5, 2)\n",
        "\n",
        "x = torch.tensor([1.], requires_grad = True)\n",
        "z = torch.tensor([0.5], requires_grad = True)\n",
        "t = torch.tensor([2.], requires_grad = True)\n",
        "y = (x**3) + z - 75*t\n",
        "\n",
        "print(f'x = {x}')\n",
        "print(f'z = {z}')\n",
        "print(f't = {t}')\n",
        "\n",
        "y.backward()\n",
        "print('dy/dx: ', x.grad) \n",
        "print('dy/dz: ', z.grad)\n",
        "print('dy/dt: ', t.grad)\n"
      ]
    },
    {
      "cell_type": "code",
      "execution_count": 71,
      "metadata": {
        "id": "FzH6QkyxofVm",
        "colab": {
          "base_uri": "https://localhost:8080/"
        },
        "outputId": "48e3c780-e5de-4414-f4ea-ff235fa9fdba"
      },
      "outputs": [
        {
          "output_type": "execute_result",
          "data": {
            "text/plain": [
              "tensor([[1., 1., 1., 1., 1., 1.],\n",
              "        [1., 1., 1., 1., 1., 1.],\n",
              "        [1., 1., 1., 1., 1., 1.],\n",
              "        [1., 1., 1., 1., 1., 1.],\n",
              "        [1., 1., 1., 1., 1., 1.]])"
            ]
          },
          "metadata": {},
          "execution_count": 71
        }
      ],
      "source": [
        "# 8. Создайте единичный тензор размера 5x6\n",
        "ones_tsr = torch.ones((5,6))\n",
        "ones_tsr"
      ]
    },
    {
      "cell_type": "code",
      "execution_count": 76,
      "metadata": {
        "id": "z49ttvWPofVo",
        "colab": {
          "base_uri": "https://localhost:8080/"
        },
        "outputId": "19b92fcd-5b2c-4fc4-ad86-b2ac348f853a"
      },
      "outputs": [
        {
          "output_type": "execute_result",
          "data": {
            "text/plain": [
              "(array([[1., 1., 1., 1., 1., 1.],\n",
              "        [1., 1., 1., 1., 1., 1.],\n",
              "        [1., 1., 1., 1., 1., 1.],\n",
              "        [1., 1., 1., 1., 1., 1.],\n",
              "        [1., 1., 1., 1., 1., 1.]], dtype=float32), numpy.ndarray)"
            ]
          },
          "metadata": {},
          "execution_count": 76
        }
      ],
      "source": [
        "# 9. Переведите его в формат numpy\n",
        "\n",
        "\n",
        "ones_tsr_np = ones_tsr.numpy()\n",
        "ones_tsr_np, type(ones_tsr_np)"
      ]
    }
  ],
  "metadata": {
    "kernelspec": {
      "display_name": "Python 3",
      "language": "python",
      "name": "python3"
    },
    "language_info": {
      "codemirror_mode": {
        "name": "ipython",
        "version": 3
      },
      "file_extension": ".py",
      "mimetype": "text/x-python",
      "name": "python",
      "nbconvert_exporter": "python",
      "pygments_lexer": "ipython3",
      "version": "3.7.4"
    },
    "colab": {
      "name": "HW_1.ipynb",
      "provenance": [],
      "collapsed_sections": []
    }
  },
  "nbformat": 4,
  "nbformat_minor": 0
}